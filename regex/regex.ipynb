{
 "cells": [
  {
   "cell_type": "markdown",
   "metadata": {},
   "source": [
    "# Use Regular Expressions (RegEx) in Python"
   ]
  },
  {
   "cell_type": "markdown",
   "metadata": {},
   "source": [
    "### Verify Email\n",
    "The first part of email can contain uppercase letters, lowercase letters, and numbers"
   ]
  },
  {
   "cell_type": "code",
   "execution_count": 2,
   "metadata": {},
   "outputs": [],
   "source": [
    "import re # import the regex module\n",
    "\n",
    "# define the regex pattern\n",
    "# a-z = any lowercase letter\n",
    "# A-Z = any uppercase letter\n",
    "# 0-9 = any digit\n",
    "# + = one or more of the preceding character\n",
    "# @ = the @ symbol\n",
    "pattern = r\"[a-zA-Z0-9]+@[a-zA-Z0-9]+\\.(com|edu|net)\" \n",
    "# you can interpret the above as \n",
    "# \"one or more of any lowercase letter, \n",
    "# uppercase letter, or digit, followed by the @ symbol\n",
    "# followed by one or more of any lowercase letter,\n",
    "# uppercase letter, or digit, followed by a period,\n",
    "# followed by com, edu, or net\"\n",
    "\n",
    "\n"
   ]
  },
  {
   "cell_type": "code",
   "execution_count": 3,
   "metadata": {},
   "outputs": [
    {
     "name": "stdout",
     "output_type": "stream",
     "text": [
      "Valid email address\n"
     ]
    }
   ],
   "source": [
    "user_input = input() # get user input\n",
    "\n",
    "if re.search(pattern, user_input): # if the pattern is found in the user input\n",
    "    print(\"Valid email address\") # print valid email address\n",
    "else: # otherwise\n",
    "    print(\"Invalid email address\") # print invalid email address"
   ]
  },
  {
   "cell_type": "markdown",
   "metadata": {},
   "source": [
    "### Replacing Substrings"
   ]
  },
  {
   "cell_type": "code",
   "execution_count": 8,
   "metadata": {},
   "outputs": [],
   "source": [
    "import re\n",
    "\n",
    "# define the regex pattern for a phone number\n",
    "pattern = '(\\d\\d\\d)-(\\d\\d\\d)-(\\d\\d\\d\\d)' \n",
    "\n",
    "# new pattern for the groups of numbers in the phone number\n",
    "# this will be used to remove the dashes\n",
    "new_pattern = r\"\\1\\2\\3\""
   ]
  },
  {
   "cell_type": "code",
   "execution_count": 9,
   "metadata": {},
   "outputs": [
    {
     "name": "stdout",
     "output_type": "stream",
     "text": [
      "1234567890\n"
     ]
    }
   ],
   "source": [
    "user_input = input() # get user input\n",
    "\n",
    "new_user_input = re.sub(pattern, new_pattern, user_input) # replace the pattern with the new pattern\n",
    "print(new_user_input) # print the new user input"
   ]
  }
 ],
 "metadata": {
  "kernelspec": {
   "display_name": "Python 3.9.13 ('env_math')",
   "language": "python",
   "name": "python3"
  },
  "language_info": {
   "codemirror_mode": {
    "name": "ipython",
    "version": 3
   },
   "file_extension": ".py",
   "mimetype": "text/x-python",
   "name": "python",
   "nbconvert_exporter": "python",
   "pygments_lexer": "ipython3",
   "version": "3.9.13"
  },
  "orig_nbformat": 4,
  "vscode": {
   "interpreter": {
    "hash": "70342811ac5db431cd7b4e4c0c6a98594dffe684828b1559756a0d79c8514187"
   }
  }
 },
 "nbformat": 4,
 "nbformat_minor": 2
}
