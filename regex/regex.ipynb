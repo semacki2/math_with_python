{
 "cells": [
  {
   "cell_type": "markdown",
   "metadata": {},
   "source": [
    "# Use Regular Expressions (RegEx) in Python"
   ]
  },
  {
   "cell_type": "markdown",
   "metadata": {},
   "source": [
    "## RegEx notes and cheatsheet\n",
    "\n",
    "* use a single `|` to say 'or'\n",
    "* `[ ]` - says any of the characters inside the brackets\n",
    "* `?` make the preceding token optional\n",
    "* `.+` - matches all characters to the end of the line\n",
    "* use parentheses to group characters as using the `|` alone divide the regex into only a left and right side.\n",
    "* `^` matches only if it's at the beginning of a string\n",
    "* `$` matches only if it's the end of a string\n",
    "* `+` is greedy - it won't just get the next token. it will keep searching until it reaches the last one.\n",
    "* `+?` is not greedy - it will just search to the next occurrence of a token.\n",
    "* `{3}` - would match 3 occurrences of the preceding token\n",
    "* `{3,4}` - could match the range of 3 to 4 characters of the preceding token\n",
    "\n",
    "### Flags\n",
    "* `\\w` - matches any word character\n",
    "* `\\r` = carriage return\n",
    "* `\\n` = new lines\n",
    "* `\\s` = space characters\n",
    "* `\\w` = word character\n",
    "* `\\d` = digits 0-9\n",
    "\n",
    "### Lookahead and Lookbehind\n",
    "* `(?<!`  = negative look behind\n",
    "* `(?<=`  = positive look behind\n",
    "* `(?=`  = positive look ahead \n",
    "* `(?!`  = negative look ahead"
   ]
  },
  {
   "cell_type": "markdown",
   "metadata": {},
   "source": [
    "### Verify Email\n",
    "The first part of email can contain uppercase letters, lowercase letters, and numbers"
   ]
  },
  {
   "cell_type": "code",
   "execution_count": 2,
   "metadata": {},
   "outputs": [],
   "source": [
    "import re # import the regex module\n",
    "\n",
    "# define the regex pattern\n",
    "# a-z = any lowercase letter\n",
    "# A-Z = any uppercase letter\n",
    "# 0-9 = any digit\n",
    "# + = one or more of the preceding character\n",
    "# @ = the @ symbol\n",
    "pattern = r\"[a-zA-Z0-9]+@[a-zA-Z0-9]+\\.(com|edu|net)\" \n",
    "# you can interpret the above as \n",
    "# \"one or more of any lowercase letter, \n",
    "# uppercase letter, or digit, followed by the @ symbol\n",
    "# followed by one or more of any lowercase letter,\n",
    "# uppercase letter, or digit, followed by a period,\n",
    "# followed by com, edu, or net\"\n",
    "\n",
    "\n"
   ]
  },
  {
   "cell_type": "code",
   "execution_count": 3,
   "metadata": {},
   "outputs": [
    {
     "name": "stdout",
     "output_type": "stream",
     "text": [
      "Valid email address\n"
     ]
    }
   ],
   "source": [
    "user_input = input() # get user input\n",
    "\n",
    "if re.search(pattern, user_input): # if the pattern is found in the user input\n",
    "    print(\"Valid email address\") # print valid email address\n",
    "else: # otherwise\n",
    "    print(\"Invalid email address\") # print invalid email address"
   ]
  },
  {
   "cell_type": "markdown",
   "metadata": {},
   "source": [
    "### Replacing Substrings"
   ]
  },
  {
   "cell_type": "code",
   "execution_count": 8,
   "metadata": {},
   "outputs": [],
   "source": [
    "import re\n",
    "\n",
    "# define the regex pattern for a phone number\n",
    "pattern = '(\\d\\d\\d)-(\\d\\d\\d)-(\\d\\d\\d\\d)' \n",
    "\n",
    "# new pattern for the groups of numbers in the phone number\n",
    "# this will be used to remove the dashes\n",
    "new_pattern = r\"\\1\\2\\3\""
   ]
  },
  {
   "cell_type": "code",
   "execution_count": 9,
   "metadata": {},
   "outputs": [
    {
     "name": "stdout",
     "output_type": "stream",
     "text": [
      "1234567890\n"
     ]
    }
   ],
   "source": [
    "user_input = input() # get user input\n",
    "\n",
    "new_user_input = re.sub(pattern, new_pattern, user_input) # replace the pattern with the new pattern\n",
    "print(new_user_input) # print the new user input"
   ]
  },
  {
   "cell_type": "markdown",
   "metadata": {},
   "source": [
    "### Methods to Search for Mathces"
   ]
  },
  {
   "cell_type": "code",
   "execution_count": 16,
   "metadata": {},
   "outputs": [
    {
     "name": "stdout",
     "output_type": "stream",
     "text": [
      "Match Ojbects using finditer():\n",
      "<re.Match object; span=(3, 6), match='abc'>\n",
      "<re.Match object; span=(12, 15), match='abc'>\n",
      "\n",
      "Targets using findall():\n",
      "abc\n",
      "abc\n",
      "\n",
      "Match Object (beginning of string) using match():\n",
      "None\n",
      "\n",
      "Match Object (whole string) using search():\n",
      "<re.Match object; span=(3, 6), match='abc'>\n"
     ]
    }
   ],
   "source": [
    "import re\n",
    "\n",
    "test_string = \"123abc456789abc123ABC\"\n",
    "\n",
    "pattern = re.compile(r\"abc\") # create a pattern object\n",
    "matches = pattern.finditer(test_string) # create a list of match objects\n",
    "\n",
    "# to do this in one line, you can use the following:\n",
    "# matches = re.finditer(r'abc', test_string) # create a list of match objects\n",
    "\n",
    "print('Match Ojbects using finditer():')\n",
    "for match in matches: # for each match object\n",
    "    print(match) # print the match object\n",
    "\n",
    "# to just return the substring that matches the pattern, use the following:\n",
    "targets = re.findall(pattern, test_string) # create a list of substrings that match the pattern\n",
    "\n",
    "print('\\nTargets using findall():')\n",
    "for target in targets: # for each substring\n",
    "    print(target) # print the substring\n",
    "\n",
    "# to find a single match at the beginning of the string, use the following:\n",
    "match = re.match(pattern, test_string) # create a match object\n",
    "    \n",
    "print('\\nMatch Object (beginning of string) using match():')\n",
    "print(match) # print the match object, if it exists, otherwise None\n",
    "\n",
    "# to find a single match anywhere in the string, use the following:\n",
    "match = re.search(pattern, test_string) # create a match object\n",
    "\n",
    "print('\\nMatch Object (whole string) using search():')\n",
    "print(match) # print the match object, if it exists, otherwise None\n"
   ]
  },
  {
   "cell_type": "markdown",
   "metadata": {},
   "source": [
    "### Methods on a Match Object"
   ]
  },
  {
   "cell_type": "code",
   "execution_count": 17,
   "metadata": {},
   "outputs": [
    {
     "name": "stdout",
     "output_type": "stream",
     "text": [
      "<re.Match object; span=(3, 6), match='abc'>\n",
      "(3, 6)\n",
      "3\n",
      "6\n",
      "abc\n",
      "<re.Match object; span=(12, 15), match='abc'>\n",
      "(12, 15)\n",
      "12\n",
      "15\n",
      "abc\n"
     ]
    }
   ],
   "source": [
    "import re\n",
    "\n",
    "test_string = '123abc456789abc123ABC'\n",
    "\n",
    "pattern = re.compile(r'abc') # create a pattern object\n",
    "matches = pattern.finditer(test_string) # create a list of match objects\n",
    "\n",
    "for match in matches: # for each match object\n",
    "    print(match) # print the match object\n",
    "    print(match.span()) # print the start and end positions of the match\n",
    "    print(match.start()) # print the start position of the match\n",
    "    print(match.end()) # print the end position of the match\n",
    "    print(match.group()) # print the substring that matches the pattern"
   ]
  },
  {
   "cell_type": "markdown",
   "metadata": {},
   "source": [
    "### Meta Characters\n",
    "\n",
    "All meta characters: . ^ $ * + ? { } [ ] \\ | ( )\n",
    "\n",
    "* `.` - any character except newline\n",
    "* `^` - beginning of a string \"^Hello\"\n",
    "* `$` - end of a string \"World$\"\n",
    "* `*` - 0 or more occurrences \"aix*\"\n",
    "* `+` - 1 or more occurrences \"aix+\"\n",
    "* `?` - 0 or 1 occurrence \"aix?\"\n",
    "* `{n}` - exactly n occurrences \"al{2}\"\n",
    "* `{n,}` - n or more occurrences \"al{2,}\"\n",
    "* `{,n}` - 0 to n occurrences \"al{,2}\"\n",
    "* `{m,n}` - m to n occurrences \"al{2,3}\"\n",
    "* `[abc]` - matches a, b, or c \n",
    "* `[a-z]` - matches any lowercase letter\n",
    "* `[A-Z]` - matches any uppercase letter\n",
    "* `[0-9]` - matches any digit\n",
    "* `[^abc]` - matches anything except a, b, or c\n",
    "* `[^0-9]` - matches anything except a digit\n",
    "* `\\` - escape character\n",
    "* `|` - matches either expression\n",
    "* `()` - groups subexpressions\n",
    "\n",
    "#### More Meta Characters\n",
    "* `\\d` - any digit [0-9]\n",
    "* `\\D` - any non-digit\n",
    "* `\\s` - any whitespace character [space \" \" tab \"\\t\" newline \"\\n\" carriage return \"\\r\"]\n",
    "* `\\S` - any non-whitespace character\n",
    "* `\\w` - any alphanumeric character [a-zA-Z0-9_]\n",
    "* `\\W` - any non-alphanumeric character\n",
    "* `\\b` - matches where the pattern is at the start or end of a word\n",
    "* `\\B` - matches where the pattern is in the word, but not at the start or end of a string\n",
    "\n"
   ]
  },
  {
   "cell_type": "code",
   "execution_count": 28,
   "metadata": {},
   "outputs": [
    {
     "name": "stdout",
     "output_type": "stream",
     "text": [
      "1\n",
      "2\n",
      "3\n",
      "4\n",
      "5\n",
      "6\n",
      "7\n",
      "8\n",
      "9\n",
      "1\n",
      "2\n",
      "3\n"
     ]
    }
   ],
   "source": [
    "import re\n",
    "\n",
    "test_string = '123abc456789abc123ABC.'\n",
    "\n",
    "pattern = re.compile(r'.') # matches any character except newline\n",
    "# pattern = re.compile(r'\\.') # matches the period character\n",
    "# pattern = re.compile(r'^123') # does the string start with 123?\n",
    "# pattern = re.compile(r'^abc') # does the string start with abc?\n",
    "# pattern = re.compile(r'123$') # does the string end with 123?\n",
    "# pattern = re.compile(r'ABC\\.$') # does the string end with ABC.?\n",
    "\n",
    "\n",
    "matches = pattern.finditer(test_string) # create a list of match objects\n",
    "\n",
    "for match in matches: # for each match object\n",
    "    print(match) # print the substring that matches the pattern\n"
   ]
  },
  {
   "cell_type": "code",
   "execution_count": 50,
   "metadata": {},
   "outputs": [
    {
     "name": "stdout",
     "output_type": "stream",
     "text": [
      "<re.Match object; span=(7, 9), match='23'>\n"
     ]
    }
   ],
   "source": [
    "import re\n",
    "\n",
    "test_string = r'hello 123_ heyho $% honey'\n",
    "\n",
    "# pattern = re.compile(r'\\d') # matches any digit\n",
    "# pattern = re.compile(r'\\D') # does the string end with ABC.?\n",
    "# pattern = re.compile(r'\\s') # does the string end with ABC.?\n",
    "# pattern = re.compile(r'\\S') # does the string end with ABC.?\n",
    "# pattern = re.compile(r'\\w') # does the string end with ABC.?\n",
    "# pattern = re.compile(r'\\W') # does the string end with ABC.?\n",
    "# pattern = re.compile(r'\\bhello') # does the string end with ABC.?\n",
    "# pattern = re.compile(r'\\bhoney') # does the string end with ABC.?\n",
    "# pattern = re.compile(r'\\b23') # does the string end with ABC.?\n",
    "# pattern = re.compile(r'\\Bhello') # does the string end with ABC.?\n",
    "# pattern = re.compile(r'\\Bhoney') # does the string end with ABC.?\n",
    "pattern = re.compile(r'\\B23') # does the string end with ABC.?\n",
    "\n",
    "matches = pattern.finditer(test_string) # create a list of match objects\n",
    "\n",
    "for match in matches: # for each match object\n",
    "    print(match) # print the substring that matches the pattern\n"
   ]
  },
  {
   "cell_type": "markdown",
   "metadata": {},
   "source": [
    "### Character Sets\n",
    "A pattern between square brackets `[]` matches any single character in the set."
   ]
  }
 ],
 "metadata": {
  "kernelspec": {
   "display_name": "Python 3.9.13 ('env_math')",
   "language": "python",
   "name": "python3"
  },
  "language_info": {
   "codemirror_mode": {
    "name": "ipython",
    "version": 3
   },
   "file_extension": ".py",
   "mimetype": "text/x-python",
   "name": "python",
   "nbconvert_exporter": "python",
   "pygments_lexer": "ipython3",
   "version": "3.9.13"
  },
  "orig_nbformat": 4,
  "vscode": {
   "interpreter": {
    "hash": "70342811ac5db431cd7b4e4c0c6a98594dffe684828b1559756a0d79c8514187"
   }
  }
 },
 "nbformat": 4,
 "nbformat_minor": 2
}
