{
 "cells": [
  {
   "cell_type": "markdown",
   "metadata": {},
   "source": [
    "# Use Regular Expressions (RegEx) in Python"
   ]
  },
  {
   "cell_type": "markdown",
   "metadata": {},
   "source": [
    "## RegEx notes and cheatsheet\n",
    "\n",
    "* use a single `|` to say 'or'\n",
    "* `[ ]` - says any of the characters inside the brackets\n",
    "* `?` make the preceding token optional\n",
    "* `.+` - matches all characters to the end of the line\n",
    "* use parentheses to group characters as using the `|` alone divide the regex into only a left and right side.\n",
    "* `^` matches only if it's at the beginning of a string\n",
    "* `$` matches only if it's the end of a string\n",
    "* `+` is greedy - it won't just get the next token. it will keep searching until it reaches the last one.\n",
    "* `+?` is not greedy - it will just search to the next occurrence of a token.\n",
    "* `{3}` - would match 3 occurrences of the preceding token\n",
    "* `{3,4}` - could match the range of 3 to 4 characters of the preceding token\n",
    "\n",
    "### Flags\n",
    "* `\\w` - matches any word character\n",
    "* `\\r` = carriage return\n",
    "* `\\n` = new lines\n",
    "* `\\s` = space characters\n",
    "* `\\w` = word character\n",
    "* `\\d` = digits 0-9\n",
    "\n",
    "### Lookahead and Lookbehind\n",
    "* `(?<!`  = negative look behind\n",
    "* `(?<=`  = positive look behind\n",
    "* `(?=`  = positive look ahead \n",
    "* `(?!`  = negative look ahead"
   ]
  },
  {
   "cell_type": "markdown",
   "metadata": {},
   "source": [
    "### Verify Email\n",
    "The first part of email can contain uppercase letters, lowercase letters, and numbers"
   ]
  },
  {
   "cell_type": "code",
   "execution_count": 1,
   "metadata": {},
   "outputs": [],
   "source": [
    "import re # import the regex module\n",
    "\n",
    "# define the regex pattern\n",
    "# a-z = any lowercase letter\n",
    "# A-Z = any uppercase letter\n",
    "# 0-9 = any digit\n",
    "# + = one or more of the preceding character\n",
    "# @ = the @ symbol\n",
    "pattern = r\"[a-zA-Z0-9]+@[a-zA-Z0-9]+\\.(com|edu|net)\" \n",
    "# you can interpret the above as \n",
    "# \"one or more of any lowercase letter, \n",
    "# uppercase letter, or digit, followed by the @ symbol\n",
    "# followed by one or more of any lowercase letter,\n",
    "# uppercase letter, or digit, followed by a period,\n",
    "# followed by com, edu, or net\"\n",
    "\n",
    "\n"
   ]
  },
  {
   "cell_type": "code",
   "execution_count": 2,
   "metadata": {},
   "outputs": [
    {
     "name": "stdout",
     "output_type": "stream",
     "text": [
      "Invalid email address\n"
     ]
    }
   ],
   "source": [
    "user_input = input() # get user input\n",
    "\n",
    "if re.search(pattern, user_input): # if the pattern is found in the user input\n",
    "    print(\"Valid email address\") # print valid email address\n",
    "else: # otherwise\n",
    "    print(\"Invalid email address\") # print invalid email address"
   ]
  },
  {
   "cell_type": "markdown",
   "metadata": {},
   "source": [
    "### Replacing Substrings"
   ]
  },
  {
   "cell_type": "code",
   "execution_count": 3,
   "metadata": {},
   "outputs": [],
   "source": [
    "import re\n",
    "\n",
    "# define the regex pattern for a phone number\n",
    "pattern = '(\\d\\d\\d)-(\\d\\d\\d)-(\\d\\d\\d\\d)' \n",
    "\n",
    "# new pattern for the groups of numbers in the phone number\n",
    "# this will be used to remove the dashes\n",
    "new_pattern = r\"\\1\\2\\3\""
   ]
  },
  {
   "cell_type": "code",
   "execution_count": 4,
   "metadata": {},
   "outputs": [
    {
     "name": "stdout",
     "output_type": "stream",
     "text": [
      "l\n"
     ]
    }
   ],
   "source": [
    "user_input = input() # get user input\n",
    "\n",
    "new_user_input = re.sub(pattern, new_pattern, user_input) # replace the pattern with the new pattern\n",
    "print(new_user_input) # print the new user input"
   ]
  },
  {
   "cell_type": "markdown",
   "metadata": {},
   "source": [
    "### Methods to Search for Mathces"
   ]
  },
  {
   "cell_type": "code",
   "execution_count": 5,
   "metadata": {},
   "outputs": [
    {
     "name": "stdout",
     "output_type": "stream",
     "text": [
      "Match Ojbects using finditer():\n",
      "<re.Match object; span=(3, 6), match='abc'>\n",
      "<re.Match object; span=(12, 15), match='abc'>\n",
      "\n",
      "Targets using findall():\n",
      "abc\n",
      "abc\n",
      "\n",
      "Match Object (beginning of string) using match():\n",
      "None\n",
      "\n",
      "Match Object (whole string) using search():\n",
      "<re.Match object; span=(3, 6), match='abc'>\n"
     ]
    }
   ],
   "source": [
    "import re\n",
    "\n",
    "test_string = \"123abc456789abc123ABC\"\n",
    "\n",
    "pattern = re.compile(r\"abc\") # create a pattern object\n",
    "matches = pattern.finditer(test_string) # create a list of match objects\n",
    "\n",
    "# to do this in one line, you can use the following:\n",
    "# matches = re.finditer(r'abc', test_string) # create a list of match objects\n",
    "\n",
    "print('Match Ojbects using finditer():')\n",
    "for match in matches: # for each match object\n",
    "    print(match) # print the match object\n",
    "\n",
    "# to just return the substring that matches the pattern, use the following:\n",
    "targets = re.findall(pattern, test_string) # create a list of substrings that match the pattern\n",
    "\n",
    "print('\\nTargets using findall():')\n",
    "for target in targets: # for each substring\n",
    "    print(target) # print the substring\n",
    "\n",
    "# to find a single match at the beginning of the string, use the following:\n",
    "match = re.match(pattern, test_string) # create a match object\n",
    "    \n",
    "print('\\nMatch Object (beginning of string) using match():')\n",
    "print(match) # print the match object, if it exists, otherwise None\n",
    "\n",
    "# to find a single match anywhere in the string, use the following:\n",
    "match = re.search(pattern, test_string) # create a match object\n",
    "\n",
    "print('\\nMatch Object (whole string) using search():')\n",
    "print(match) # print the match object, if it exists, otherwise None\n"
   ]
  },
  {
   "cell_type": "markdown",
   "metadata": {},
   "source": [
    "### Methods on a Match Object"
   ]
  },
  {
   "cell_type": "code",
   "execution_count": 6,
   "metadata": {},
   "outputs": [
    {
     "name": "stdout",
     "output_type": "stream",
     "text": [
      "<re.Match object; span=(3, 6), match='abc'>\n",
      "(3, 6)\n",
      "3\n",
      "6\n",
      "abc\n",
      "<re.Match object; span=(12, 15), match='abc'>\n",
      "(12, 15)\n",
      "12\n",
      "15\n",
      "abc\n"
     ]
    }
   ],
   "source": [
    "import re\n",
    "\n",
    "test_string = '123abc456789abc123ABC'\n",
    "\n",
    "pattern = re.compile(r'abc') # create a pattern object\n",
    "matches = pattern.finditer(test_string) # create a list of match objects\n",
    "\n",
    "for match in matches: # for each match object\n",
    "    print(match) # print the match object\n",
    "    print(match.span()) # print the start and end positions of the match\n",
    "    print(match.start()) # print the start position of the match\n",
    "    print(match.end()) # print the end position of the match\n",
    "    print(match.group()) # print the substring that matches the pattern"
   ]
  },
  {
   "cell_type": "markdown",
   "metadata": {},
   "source": [
    "### Meta Characters\n",
    "\n",
    "All meta characters: . ^ $ * + ? { } [ ] \\ | ( )\n",
    "\n",
    "* `.` - any character except newline\n",
    "* `^` - beginning of a string \"^Hello\"\n",
    "* `$` - end of a string \"World$\"\n",
    "* `*` - 0 or more occurrences \"aix*\"\n",
    "* `+` - 1 or more occurrences \"aix+\"\n",
    "* `?` - 0 or 1 occurrence \"aix?\"\n",
    "* `{n}` - exactly n occurrences \"al{2}\"\n",
    "* `{n,}` - n or more occurrences \"al{2,}\"\n",
    "* `{,n}` - 0 to n occurrences \"al{,2}\"\n",
    "* `{m,n}` - m to n occurrences \"al{2,3}\"\n",
    "* `[abc]` - matches a, b, or c \n",
    "* `[a-z]` - matches any lowercase letter\n",
    "* `[A-Z]` - matches any uppercase letter\n",
    "* `[0-9]` - matches any digit\n",
    "* `[^abc]` - matches anything except a, b, or c\n",
    "* `[^0-9]` - matches anything except a digit\n",
    "* `\\` - escape character\n",
    "* `|` - matches either expression\n",
    "* `()` - groups subexpressions\n",
    "\n",
    "#### More Meta Characters\n",
    "* `\\d` - any digit [0-9]\n",
    "* `\\D` - any non-digit\n",
    "* `\\s` - any whitespace character [space \" \" tab \"\\t\" newline \"\\n\" carriage return \"\\r\"]\n",
    "* `\\S` - any non-whitespace character\n",
    "* `\\w` - any alphanumeric character [a-zA-Z0-9_]\n",
    "* `\\W` - any non-alphanumeric character\n",
    "* `\\b` - matches where the pattern is at the start or end of a word\n",
    "* `\\B` - matches where the pattern is in the word, but not at the start or end of a string\n",
    "\n"
   ]
  },
  {
   "cell_type": "code",
   "execution_count": 7,
   "metadata": {},
   "outputs": [
    {
     "name": "stdout",
     "output_type": "stream",
     "text": [
      "<re.Match object; span=(0, 1), match='1'>\n",
      "<re.Match object; span=(1, 2), match='2'>\n",
      "<re.Match object; span=(2, 3), match='3'>\n",
      "<re.Match object; span=(3, 4), match='a'>\n",
      "<re.Match object; span=(4, 5), match='b'>\n",
      "<re.Match object; span=(5, 6), match='c'>\n",
      "<re.Match object; span=(6, 7), match='4'>\n",
      "<re.Match object; span=(7, 8), match='5'>\n",
      "<re.Match object; span=(8, 9), match='6'>\n",
      "<re.Match object; span=(9, 10), match='7'>\n",
      "<re.Match object; span=(10, 11), match='8'>\n",
      "<re.Match object; span=(11, 12), match='9'>\n",
      "<re.Match object; span=(12, 13), match='a'>\n",
      "<re.Match object; span=(13, 14), match='b'>\n",
      "<re.Match object; span=(14, 15), match='c'>\n",
      "<re.Match object; span=(15, 16), match='1'>\n",
      "<re.Match object; span=(16, 17), match='2'>\n",
      "<re.Match object; span=(17, 18), match='3'>\n",
      "<re.Match object; span=(18, 19), match='A'>\n",
      "<re.Match object; span=(19, 20), match='B'>\n",
      "<re.Match object; span=(20, 21), match='C'>\n",
      "<re.Match object; span=(21, 22), match='.'>\n"
     ]
    }
   ],
   "source": [
    "import re\n",
    "\n",
    "test_string = '123abc456789abc123ABC.'\n",
    "\n",
    "pattern = re.compile(r'.') # matches any character except newline\n",
    "# pattern = re.compile(r'\\.') # matches the period character\n",
    "# pattern = re.compile(r'^123') # does the string start with 123?\n",
    "# pattern = re.compile(r'^abc') # does the string start with abc?\n",
    "# pattern = re.compile(r'123$') # does the string end with 123?\n",
    "# pattern = re.compile(r'ABC\\.$') # does the string end with ABC.?\n",
    "\n",
    "\n",
    "matches = pattern.finditer(test_string) # create a list of match objects\n",
    "\n",
    "for match in matches: # for each match object\n",
    "    print(match) # print the substring that matches the pattern\n"
   ]
  },
  {
   "cell_type": "code",
   "execution_count": 8,
   "metadata": {},
   "outputs": [
    {
     "name": "stdout",
     "output_type": "stream",
     "text": [
      "<re.Match object; span=(7, 9), match='23'>\n"
     ]
    }
   ],
   "source": [
    "import re\n",
    "\n",
    "test_string = r'hello 123_ heyho $% honey'\n",
    "\n",
    "# pattern = re.compile(r'\\d') # matches any digit\n",
    "# pattern = re.compile(r'\\D') # match any non-digit\n",
    "# pattern = re.compile(r'\\s') # matches any whitespace character\n",
    "# pattern = re.compile(r'\\S') # matches any non-whitespace character\n",
    "# pattern = re.compile(r'\\w') # matches any alphanumeric character\n",
    "# pattern = re.compile(r'\\W') # matches any non-alphanumeric character\n",
    "# pattern = re.compile(r'\\bhello') # matches the word hello at the beginning or end of a string\n",
    "# pattern = re.compile(r'\\bhoney') # matches the word honey at the beginning or end of a string\n",
    "# pattern = re.compile(r'\\b23') # matches the number 23 at the beginning or end of a string\n",
    "# pattern = re.compile(r'\\Bhello') # matches the word hello anywhere in a string except the beginning or end\n",
    "# pattern = re.compile(r'\\Bhoney') # matches the word honey anywhere in a string except the beginning or end\n",
    "pattern = re.compile(r'\\B23') # matches the number 23 anywhere in a string except the beginning or end\n",
    "\n",
    "matches = pattern.finditer(test_string) # create a list of match objects\n",
    "\n",
    "for match in matches: # for each match object\n",
    "    print(match) # print the substring that matches the pattern\n"
   ]
  },
  {
   "cell_type": "markdown",
   "metadata": {},
   "source": [
    "### Character Sets\n",
    "A pattern between square brackets `[]` matches any single character in the set."
   ]
  },
  {
   "cell_type": "code",
   "execution_count": 14,
   "metadata": {},
   "outputs": [
    {
     "name": "stdout",
     "output_type": "stream",
     "text": [
      "<re.Match object; span=(0, 1), match='h'>\n",
      "<re.Match object; span=(1, 2), match='e'>\n",
      "<re.Match object; span=(2, 3), match='l'>\n",
      "<re.Match object; span=(3, 4), match='l'>\n",
      "<re.Match object; span=(4, 5), match='o'>\n",
      "<re.Match object; span=(6, 7), match='1'>\n",
      "<re.Match object; span=(7, 8), match='2'>\n",
      "<re.Match object; span=(8, 9), match='3'>\n"
     ]
    }
   ],
   "source": [
    "import re\n",
    "\n",
    "test_string = r'hello 123_'\n",
    "\n",
    "# pattern = re.compile(r'[lo]') # does the string contain l or o?\n",
    "# pattern = re.compile(r'[a-z]') # does the string contain any lowercase letter?\n",
    "# pattern = re.compile(r'[A-Z]') # does the string contain any uppercase letter?\n",
    "# pattern = re.compile(r'[0-9]') # does the string contain any digit?\n",
    "# pattern = re.compile(r'[a-zA-Z]') # does the string contain any letter?\n",
    "pattern = re.compile(r'[a-zA-Z0-9]') # does the string contain any alphanumeric character?\n",
    "\n",
    "matches = pattern.finditer(test_string) # create a list of match objects\n",
    "\n",
    "for match in matches: # for each match object\n",
    "    print(match) # print the substring that matches the pattern\n"
   ]
  },
  {
   "cell_type": "markdown",
   "metadata": {},
   "source": [
    "### Quantifiers\n",
    "* `*` - 0 or more\n",
    "* `+` - 1 or more\n",
    "* `?` - 0 or 1\n",
    "* `{n}` - exactly n\n",
    "* `{n,}` - n or more\n",
    "* `{,n}` - 0 to n\n",
    "* `{m,n}` - m to n\n"
   ]
  },
  {
   "cell_type": "code",
   "execution_count": 23,
   "metadata": {},
   "outputs": [
    {
     "name": "stdout",
     "output_type": "stream",
     "text": [
      "<re.Match object; span=(6, 7), match='1'>\n",
      "<re.Match object; span=(7, 8), match='2'>\n",
      "<re.Match object; span=(8, 9), match='3'>\n",
      "<re.Match object; span=(9, 11), match='_4'>\n",
      "<re.Match object; span=(11, 12), match='5'>\n",
      "<re.Match object; span=(12, 13), match='6'>\n",
      "<re.Match object; span=(13, 15), match='_7'>\n",
      "<re.Match object; span=(15, 16), match='8'>\n",
      "<re.Match object; span=(16, 17), match='9'>\n",
      "<re.Match object; span=(17, 18), match='0'>\n"
     ]
    }
   ],
   "source": [
    "import re\n",
    "\n",
    "test_string = r'hello 123_456_7890'\n",
    "\n",
    "# pattern = re.compile(r'\\d*') # matches any number of digits\n",
    "# pattern = re.compile(r'\\d+') # matches one or more digits\n",
    "# pattern = re.compile(r'\\d?') # matches zero or one digits\n",
    "# pattern = re.compile(r'\\d{3}') # matches exactly three digits\n",
    "# pattern = re.compile(r'\\d{3,}') # matches three or more digits\n",
    "# pattern = re.compile(r'\\d{,3}') # matches three or more digits\n",
    "# pattern = re.compile(r'\\d{3,5}') # matches three, four, or five digits\n",
    "pattern = re.compile(r'_?\\d') # matches an optional underscore followed by one digit\n",
    "\n",
    "\n",
    "matches = pattern.finditer(test_string) # create a list of match objects\n",
    "\n",
    "for match in matches: # for each match object\n",
    "    print(match) # print the substring that matches the pattern"
   ]
  },
  {
   "cell_type": "code",
   "execution_count": 27,
   "metadata": {},
   "outputs": [
    {
     "name": "stdout",
     "output_type": "stream",
     "text": [
      "<re.Match object; span=(12, 22), match='2022-01-02'>\n",
      "<re.Match object; span=(23, 33), match='2022-01-03'>\n"
     ]
    }
   ],
   "source": [
    "import re\n",
    "\n",
    "test_string = \"\"\"\n",
    "2022-01-01\n",
    "2022-01-02\n",
    "2022-01-03\n",
    "2022-01-04\n",
    "2022-01-05\n",
    "\"\"\"\n",
    "\n",
    "# pattern = re.compile(r'\\d{4}[-/]\\d{2}[-/]\\d{2}') # matches a date in the format yyyy-mm-dd or yyyy/mm/dd\n",
    "pattern = re.compile(r'\\d{4}[-/]\\d{2}[-/]0[23]') # matches a date in the format yyyy-mm-dd or yyyy/mm/dd where the day is either 02 or 03\n",
    "\n",
    "matches = pattern.finditer(test_string) # create a list of match objects\n",
    "\n",
    "for match in matches: # for each match object\n",
    "    print(match) # print the substring that matches the pattern\n"
   ]
  },
  {
   "cell_type": "markdown",
   "metadata": {},
   "source": [
    "### Conditions\n",
    "\n",
    "* `|` - or "
   ]
  },
  {
   "cell_type": "code",
   "execution_count": 32,
   "metadata": {},
   "outputs": [
    {
     "name": "stdout",
     "output_type": "stream",
     "text": [
      "<re.Match object; span=(28, 38), match='Mr Simpson'>\n",
      "<re.Match object; span=(39, 50), match='Mrs Simpson'>\n",
      "<re.Match object; span=(51, 60), match='Mr. Brown'>\n",
      "<re.Match object; span=(61, 69), match='Ms Smith'>\n",
      "<re.Match object; span=(70, 75), match='Mr. T'>\n"
     ]
    }
   ],
   "source": [
    "import re\n",
    "\n",
    "test_string = \"\"\"\n",
    "hello world\n",
    "123\n",
    "2022-01-01\n",
    "Mr Simpson\n",
    "Mrs Simpson\n",
    "Mr. Brown\n",
    "Ms Smith\n",
    "Mr. T\n",
    "\"\"\"\n",
    "\n",
    "pattern = re.compile(r'(Mr|Ms|Mrs)\\.?\\s\\w+') # matches a title followed by a space followed by a name\n",
    "\n",
    "matches = pattern.finditer(test_string) # create a list of match objects\n",
    "\n",
    "for match in matches: # for each match object\n",
    "    print(match) # print the substring that matches the pattern"
   ]
  },
  {
   "cell_type": "markdown",
   "metadata": {},
   "source": [
    "### Grouping\n",
    "* `()` - group\n",
    "* `[ ]` - character set\n",
    "* `[^ ]` - negated character set"
   ]
  },
  {
   "cell_type": "code",
   "execution_count": 34,
   "metadata": {},
   "outputs": [
    {
     "name": "stdout",
     "output_type": "stream",
     "text": [
      "<re.Match object; span=(76, 100), match='pythonengineer@gmail.com'>\n",
      "pythonengineer@gmail.com\n",
      "pythonengineer\n",
      "gmail\n",
      "com\n",
      "<re.Match object; span=(101, 123), match='Python-Engineer@gmx.de'>\n",
      "Python-Engineer@gmx.de\n",
      "Python-Engineer\n",
      "gmx\n",
      "de\n",
      "<re.Match object; span=(124, 156), match='PythonEndgineer123@my-domain.org'>\n",
      "PythonEndgineer123@my-domain.org\n",
      "PythonEndgineer123\n",
      "my-domain\n",
      "org\n"
     ]
    }
   ],
   "source": [
    "import re\n",
    "\n",
    "test_string = \"\"\"\n",
    "hello world\n",
    "123\n",
    "2022-01-01\n",
    "Mr Simpson\n",
    "Mrs Simpson\n",
    "Mr. Brown\n",
    "Ms Smith\n",
    "Mr. T\n",
    "pythonengineer@gmail.com\n",
    "Python-Engineer@gmx.de\n",
    "PythonEndgineer123@my-domain.org\n",
    "\"\"\"\n",
    "\n",
    "pattern = re.compile(r'([a-zA-Z0-9-]+)@([a-zA-Z-]+)\\.(com|de|org|net|gov|edu)') # matches an email address\n",
    "\n",
    "matches = pattern.finditer(test_string) # create a list of match objects\n",
    "\n",
    "for match in matches: # for each match object\n",
    "    print(match) # print the substring that matches the pattern\n",
    "    print(match.group(0)) # print the entire match\n",
    "    print(match.group(1)) # print the first group\n",
    "    print(match.group(2)) # print the second group\n",
    "    print(match.group(3)) # print the third group"
   ]
  },
  {
   "cell_type": "markdown",
   "metadata": {},
   "source": [
    "### Modification\n",
    "\n",
    "* `split()` - split a string into a list\n",
    "* `sub()` - replace a string with another string"
   ]
  },
  {
   "cell_type": "markdown",
   "metadata": {},
   "source": [
    "#### Splitting"
   ]
  },
  {
   "cell_type": "code",
   "execution_count": 37,
   "metadata": {},
   "outputs": [
    {
     "name": "stdout",
     "output_type": "stream",
     "text": [
      "['123', '456789', '123ABC']\n"
     ]
    }
   ],
   "source": [
    "import re\n",
    "\n",
    "test_string = r\"123abc456789abc123ABC\"\n",
    "\n",
    "pattern = re.compile(r'abc') # matches the string abc\n",
    "\n",
    "splitted = pattern.split(test_string) # split the string at each match of the pattern\n",
    "\n",
    "print(splitted) # print the list of strings\n"
   ]
  },
  {
   "cell_type": "markdown",
   "metadata": {},
   "source": [
    "#### Substituting"
   ]
  },
  {
   "cell_type": "code",
   "execution_count": 39,
   "metadata": {},
   "outputs": [
    {
     "name": "stdout",
     "output_type": "stream",
     "text": [
      "hello planet, you are the best planet\n"
     ]
    }
   ],
   "source": [
    "import re\n",
    "\n",
    "test_string = r\"hello world, you are the best world\"\n",
    "\n",
    "pattern = re.compile(r'world') # matches the string world\n",
    "\n",
    "subbed = pattern.sub('planet', test_string) # replace each match of the pattern with the string planet\n",
    "\n",
    "print(subbed) # print the modified string"
   ]
  },
  {
   "cell_type": "markdown",
   "metadata": {},
   "source": [
    "#### Splitting and Substituting"
   ]
  },
  {
   "cell_type": "code",
   "execution_count": 57,
   "metadata": {},
   "outputs": [
    {
     "name": "stdout",
     "output_type": "stream",
     "text": [
      "<re.Match object; span=(39, 61), match='https://www.google.com'>\n",
      "google.com\n",
      "\n",
      "\n",
      "<re.Match object; span=(62, 92), match='http://www.python-engineer.com'>\n",
      "python-engineer.com\n",
      "\n",
      "\n",
      "<re.Match object; span=(93, 119), match='http://python-engineer.com'>\n",
      "python-engineer.com\n",
      "\n",
      "\n",
      "<re.Match object; span=(120, 141), match='https://www.pyeng.net'>\n",
      "pyeng.net\n",
      "\n",
      "\n"
     ]
    }
   ],
   "source": [
    "import re\n",
    "\n",
    "urls = \"\"\"\n",
    "hello world\n",
    "2022-01-01\n",
    "(123) 456-7890\n",
    "https://www.google.com\n",
    "http://www.python-engineer.com\n",
    "http://python-engineer.com\n",
    "https://www.pyeng.net\n",
    "\"\"\"\n",
    "\n",
    "pattern = re.compile(r'https?://(www\\.)?([\\w-]+)\\.(\\w+)') # matches a url\n",
    "\n",
    "matches = pattern.finditer(urls) # create a list of match objects\n",
    "\n",
    "for match in matches: # for each match object\n",
    "    print(match) # print the substring that matches the pattern\n",
    "    \n",
    "    subbed_url = pattern.sub(r'\\2.\\3', match.group(0)) # replace the entire match with the second and third groups\n",
    "    print(subbed_url) # print the modified string\n",
    "\n",
    "    print('\\n')\n",
    "\n"
   ]
  },
  {
   "cell_type": "markdown",
   "metadata": {},
   "source": [
    "### Compilation Flags\n",
    "\n",
    "* `ASCII, A` - make \\w, \\W, \\b, \\B, \\d, \\D, \\s and \\S perform ASCII-only matching\n",
    "* `DOTALL, S` - make . match any character, including a newline\n",
    "* `IGNORECASE, I` - perform case-insensitive matching\n",
    "* `LOCALE, L` - make \\w, \\W, \\b, \\B, \\d, \\D, \\s and \\S perform locale-aware matching\n",
    "* `MULTILINE, M` - make ^ and $ match the begining and end of lines, and make . match any character, including a newline\n",
    "* `VERBOSE, X` - ignore whitespace and comments for nicer looking RE's\n"
   ]
  },
  {
   "cell_type": "code",
   "execution_count": 58,
   "metadata": {},
   "outputs": [
    {
     "name": "stdout",
     "output_type": "stream",
     "text": [
      "<re.Match object; span=(0, 11), match='Hello World'>\n"
     ]
    }
   ],
   "source": [
    "import re\n",
    "\n",
    "text_string = \"Hello World\"\n",
    "\n",
    "pattern = re.compile(r'hello world', re.IGNORECASE) # matches the string hello world, ignoring case\n",
    "\n",
    "matches = pattern.finditer(text_string) # create a list of match objects\n",
    "\n",
    "for match in matches: # for each match object\n",
    "    print(match) # print the substring that matches the pattern\n",
    "    "
   ]
  },
  {
   "cell_type": "markdown",
   "metadata": {},
   "source": [
    "## Practical Example\n",
    "filename = test_regex.txt"
   ]
  },
  {
   "cell_type": "code",
   "execution_count": 68,
   "metadata": {},
   "outputs": [
    {
     "name": "stdout",
     "output_type": "stream",
     "text": [
      "From: \"Mr. Ben Suleman\" <bensul2004nng@spinfinder.com>\n",
      "From: \"PRINCE OBONG ELEME\" <obong_715@epatra.com>\n",
      "\n",
      "\n",
      "['\"Mr. Ben Suleman\"']\n",
      "['bensul2004nng@spinfinder.com']\n",
      "bensul2004nng, spinfinder.com\n",
      "\n",
      "\n",
      "['\"PRINCE OBONG ELEME\"']\n",
      "['obong_715@epatra.com']\n",
      "obong_715, epatra.com\n",
      "\n",
      "\n"
     ]
    }
   ],
   "source": [
    "import re\n",
    "from pathlib import Path\n",
    "\n",
    "file_path = Path(r'test_regex.txt') # create a Path object for the file\n",
    "\n",
    "with open(file_path, 'r') as file: # open the file\n",
    "    text_string = file.read() # read the entire file into a string\n",
    "\n",
    "    for line in re.findall(r\"From:.*\", text_string): # for each line that matches the pattern\n",
    "        print(line) # print the line\n",
    "\n",
    "    matches = re.findall(r\"From:.*\", text_string) # create a list of all matches\n",
    "\n",
    "    print('\\n')\n",
    "\n",
    "    for match in matches:\n",
    "        print(re.findall(r'\\\".*\\\"', match)) # print the name in quotes\n",
    "        print(re.findall(r'\\w\\S*@.*\\w', match)) # print the email address\n",
    "        \n",
    "        for email in re.findall(r'\\w\\S*@.*\\w', match):\n",
    "            username, domain_name = re.split(r\"@\", email) # split the email address into a username and domain name\n",
    "            print(f\"{username}, {domain_name}\") # print the username and domain name\n",
    "\n",
    "        print('\\n')"
   ]
  },
  {
   "cell_type": "markdown",
   "metadata": {},
   "source": [
    "### Regex with Pandas"
   ]
  },
  {
   "cell_type": "code",
   "execution_count": 101,
   "metadata": {},
   "outputs": [
    {
     "name": "stdout",
     "output_type": "stream",
     "text": [
      "Number of emails: 30\n",
      "\n",
      "\n"
     ]
    },
    {
     "data": {
      "text/html": [
       "<div>\n",
       "<style scoped>\n",
       "    .dataframe tbody tr th:only-of-type {\n",
       "        vertical-align: middle;\n",
       "    }\n",
       "\n",
       "    .dataframe tbody tr th {\n",
       "        vertical-align: top;\n",
       "    }\n",
       "\n",
       "    .dataframe thead th {\n",
       "        text-align: right;\n",
       "    }\n",
       "</style>\n",
       "<table border=\"1\" class=\"dataframe\">\n",
       "  <thead>\n",
       "    <tr style=\"text-align: right;\">\n",
       "      <th></th>\n",
       "      <th>sender_email</th>\n",
       "      <th>sender_name</th>\n",
       "      <th>recipient_email</th>\n",
       "      <th>recipient_name</th>\n",
       "      <th>date_sent</th>\n",
       "      <th>subject</th>\n",
       "      <th>body</th>\n",
       "    </tr>\n",
       "  </thead>\n",
       "  <tbody>\n",
       "    <tr>\n",
       "      <th>0</th>\n",
       "      <td>james_ngola2002@maktoob.com</td>\n",
       "      <td>\"MR. JAMES NGOLA.\"</td>\n",
       "      <td>james_ngola2002@maktoob.com</td>\n",
       "      <td>None</td>\n",
       "      <td>31 Oct 2002</td>\n",
       "      <td>URGENT BUSINESS ASSISTANCE AND PARTNERSHIP</td>\n",
       "      <td>FROM:MR. JAMES NGOLA.\\nCONFIDENTIAL TEL: 233-2...</td>\n",
       "    </tr>\n",
       "    <tr>\n",
       "      <th>1</th>\n",
       "      <td>bensul2004nng@spinfinder.com</td>\n",
       "      <td>\"Mr. Ben Suleman\"</td>\n",
       "      <td>R@M</td>\n",
       "      <td>None</td>\n",
       "      <td>31 Oct 2002</td>\n",
       "      <td>URGENT ASSISTANCE /RELATIONSHIP (P)</td>\n",
       "      <td>Dear Friend,\\n\\nI am Mr. Ben Suleman a custom ...</td>\n",
       "    </tr>\n",
       "    <tr>\n",
       "      <th>2</th>\n",
       "      <td>obong_715@epatra.com</td>\n",
       "      <td>\"PRINCE OBONG ELEME\"</td>\n",
       "      <td>obong_715@epatra.com</td>\n",
       "      <td>None</td>\n",
       "      <td>31 Oct 2002</td>\n",
       "      <td>GOOD DAY TO YOU</td>\n",
       "      <td>FROM HIS ROYAL MAJESTY (HRM) CROWN RULER OF EL...</td>\n",
       "    </tr>\n",
       "    <tr>\n",
       "      <th>3</th>\n",
       "      <td>obong_715@epatra.com</td>\n",
       "      <td>\"PRINCE OBONG ELEME\"</td>\n",
       "      <td>webmaster@aclweb.org</td>\n",
       "      <td>None</td>\n",
       "      <td>31 Oct 2002</td>\n",
       "      <td>GOOD DAY TO YOU</td>\n",
       "      <td>FROM HIS ROYAL MAJESTY (HRM) CROWN RULER OF EL...</td>\n",
       "    </tr>\n",
       "    <tr>\n",
       "      <th>4</th>\n",
       "      <td>m_abacha03@www.com</td>\n",
       "      <td>\"Maryam Abacha\"</td>\n",
       "      <td>m_abacha03@www.com</td>\n",
       "      <td>None</td>\n",
       "      <td>1 Nov 2002</td>\n",
       "      <td>I Need Your Assistance.</td>\n",
       "      <td>Dear sir, \\n \\nIt is with a heart full of hope...</td>\n",
       "    </tr>\n",
       "  </tbody>\n",
       "</table>\n",
       "</div>"
      ],
      "text/plain": [
       "                   sender_email             sender_name  \\\n",
       "0   james_ngola2002@maktoob.com     \"MR. JAMES NGOLA.\"    \n",
       "1  bensul2004nng@spinfinder.com      \"Mr. Ben Suleman\"    \n",
       "2          obong_715@epatra.com   \"PRINCE OBONG ELEME\"    \n",
       "3          obong_715@epatra.com   \"PRINCE OBONG ELEME\"    \n",
       "4            m_abacha03@www.com        \"Maryam Abacha\"    \n",
       "\n",
       "               recipient_email recipient_name    date_sent  \\\n",
       "0  james_ngola2002@maktoob.com           None  31 Oct 2002   \n",
       "1                          R@M           None  31 Oct 2002   \n",
       "2         obong_715@epatra.com           None  31 Oct 2002   \n",
       "3         webmaster@aclweb.org           None  31 Oct 2002   \n",
       "4           m_abacha03@www.com           None   1 Nov 2002   \n",
       "\n",
       "                                       subject  \\\n",
       "0   URGENT BUSINESS ASSISTANCE AND PARTNERSHIP   \n",
       "1          URGENT ASSISTANCE /RELATIONSHIP (P)   \n",
       "2                              GOOD DAY TO YOU   \n",
       "3                              GOOD DAY TO YOU   \n",
       "4                      I Need Your Assistance.   \n",
       "\n",
       "                                                body  \n",
       "0  FROM:MR. JAMES NGOLA.\\nCONFIDENTIAL TEL: 233-2...  \n",
       "1  Dear Friend,\\n\\nI am Mr. Ben Suleman a custom ...  \n",
       "2  FROM HIS ROYAL MAJESTY (HRM) CROWN RULER OF EL...  \n",
       "3  FROM HIS ROYAL MAJESTY (HRM) CROWN RULER OF EL...  \n",
       "4  Dear sir, \\n \\nIt is with a heart full of hope...  "
      ]
     },
     "execution_count": 101,
     "metadata": {},
     "output_type": "execute_result"
    }
   ],
   "source": [
    "import re\n",
    "import pandas as pd\n",
    "from pathlib import Path\n",
    "import email\n",
    "\n",
    "emails = []\n",
    "\n",
    "file_path = Path(r'test_regex.txt') # create a Path object for the file\n",
    "\n",
    "with open(file_path, 'r') as file: # open the file\n",
    "    text_string = file.read() # read the entire file into a string\n",
    "    \n",
    "    contents = re.split(r\"From r\", text_string) # split the string at each match of the pattern\n",
    "    contents.pop(0) # remove the first element of the list, which is empty\n",
    "\n",
    "    for item in contents:\n",
    "        emails_dict = {}\n",
    "\n",
    "        # find the sender's email address and name\n",
    "\n",
    "        # step 1: find the whole line beginning with From:\n",
    "        sender = re.search(r\"From:.*\", item)\n",
    "\n",
    "        # step 2: find the email address and name\n",
    "        if sender:\n",
    "            sender_email = re.search(r'\\w\\S*@.*\\w', sender.group(0)) # find the email address\n",
    "            sender_name = re.search(r':.*<', sender.group(0)) # find the name, which is between the colon and the opening angle bracket\n",
    "\n",
    "            # print(\"sender type:\" + str(type(sender)))\n",
    "            # print(\"sender.group() type:\" + str(type(sender.group())))\n",
    "            # print(\"sender:\" + str(sender))\n",
    "            # print(\"sender.group():\" + str(sender.group()))\n",
    "            # print(\"\\n\")\n",
    "        else:\n",
    "            sender_email = None\n",
    "            sender_name = None\n",
    "\n",
    "        # step 3A: assign email address as string to dictionary\n",
    "        if sender_email:\n",
    "            sender_email = sender_email.group(0) # assign the email address as a string\n",
    "        else:\n",
    "            sender_email = None\n",
    "        \n",
    "        emails_dict['sender_email'] = sender_email\n",
    "\n",
    "        # step 3B: assign name as string to dictionary after removing unwanted substrings\n",
    "        if sender_name:\n",
    "            sender_name = re.sub(r\"s*<\", \"\", re.sub(r\":s*\", \"\", sender_name.group(0))) # remove the colon, the opening angle bracket, and any whitespace\n",
    "        else:\n",
    "            sender_name = None\n",
    "\n",
    "        emails_dict['sender_name'] = sender_name # assign the name as a string\n",
    "\n",
    "        # print(sender_email)\n",
    "        # print(sender_name)\n",
    "\n",
    "        # find the recipient's email address and name\n",
    "        recipient = re.search(r\"To:.*\", item) # find the whole line beginning with To:\n",
    "\n",
    "        if recipient:\n",
    "            recipient_email = re.search(r'\\w\\S*@.*\\w', recipient.group(0))\n",
    "            recipient_name = re.search(r':.*<', recipient.group(0))\n",
    "        else:\n",
    "            recipient_email = None\n",
    "            recipient_name = None\n",
    "\n",
    "        if recipient_email:\n",
    "            recipient_email = recipient_email.group(0)\n",
    "        else:\n",
    "            recipient_email = None\n",
    "\n",
    "        emails_dict['recipient_email'] = recipient_email\n",
    "\n",
    "        if recipient_name:\n",
    "            recipient_name = re.sub(r\"\\s*<\", \"\", re.sub(r\":\\s*\", \"\", recipient_name.group(0)))\n",
    "        else:\n",
    "            recipient_name = None\n",
    "\n",
    "        emails_dict['recipient_name'] = recipient_name\n",
    "\n",
    "        # print(recipient_email)\n",
    "        # print(recipient_name)\n",
    "\n",
    "        # Get the date\n",
    "        date_field = re.search(r\"Date:.*\", item) # find the whole line beginning with Date:\n",
    "\n",
    "        if date_field:\n",
    "            date = re.search(r\"\\d+\\s\\w+\\s\\d+\", date_field.group(0))\n",
    "            # print(date_field.group(0))\n",
    "        else:\n",
    "            date = None\n",
    "\n",
    "        if date:\n",
    "            date_sent = date.group(0) # assign the date as a string\n",
    "        else:\n",
    "            date_sent = None\n",
    "\n",
    "        emails_dict['date_sent'] = date_sent\n",
    "\n",
    "        # Get the subject\n",
    "\n",
    "        subject_field = re.search(r\"Subject:.*\", item) # find the whole line beginning with Subject:\n",
    "\n",
    "        if subject_field:\n",
    "            subject = re.search(r\"\\s.*\", subject_field.group(0)).group(0) # find the subject, which is everything after the colon\n",
    "            # print(subject)\n",
    "        else:\n",
    "            subject = None\n",
    "\n",
    "        emails_dict['subject'] = subject\n",
    "        \n",
    "        # Get the body\n",
    "        full_email = email.message_from_string(item) # create an email object from the string\n",
    "        body = full_email.get_payload() # get the body of the email\n",
    "        # print(body)\n",
    "\n",
    "        emails_dict['body'] = body\n",
    "\n",
    "        # add the emails dict to the list of emails\n",
    "        emails.append(emails_dict)\n",
    "\n",
    "        # print('\\n')\n",
    "\n",
    "# print the number of dictionaries (and emails) in the list\n",
    "print(f\"Number of emails: {len(emails)}\")\n",
    "print('\\n')\n",
    "\n",
    "# # print the first item in the list\n",
    "# for key, value in emails[0].items():\n",
    "#     print(f\"{key}: {value}\")\n",
    "\n",
    "df_emails = pd.DataFrame(emails) # create a DataFrame from the list of dictionaries\n",
    "df_emails.head() # print the first five rows of the DataFrame\n"
   ]
  },
  {
   "cell_type": "code",
   "execution_count": 102,
   "metadata": {},
   "outputs": [
    {
     "name": "stdout",
     "output_type": "stream",
     "text": [
      "<class 'pandas.core.frame.DataFrame'>\n",
      "RangeIndex: 30 entries, 0 to 29\n",
      "Data columns (total 7 columns):\n",
      " #   Column           Non-Null Count  Dtype \n",
      "---  ------           --------------  ----- \n",
      " 0   sender_email     29 non-null     object\n",
      " 1   sender_name      26 non-null     object\n",
      " 2   recipient_email  30 non-null     object\n",
      " 3   recipient_name   0 non-null      object\n",
      " 4   date_sent        25 non-null     object\n",
      " 5   subject          30 non-null     object\n",
      " 6   body             30 non-null     object\n",
      "dtypes: object(7)\n",
      "memory usage: 1.8+ KB\n"
     ]
    }
   ],
   "source": [
    "df_emails.info()\n"
   ]
  },
  {
   "cell_type": "code",
   "execution_count": 103,
   "metadata": {},
   "outputs": [
    {
     "data": {
      "text/html": [
       "<div>\n",
       "<style scoped>\n",
       "    .dataframe tbody tr th:only-of-type {\n",
       "        vertical-align: middle;\n",
       "    }\n",
       "\n",
       "    .dataframe tbody tr th {\n",
       "        vertical-align: top;\n",
       "    }\n",
       "\n",
       "    .dataframe thead th {\n",
       "        text-align: right;\n",
       "    }\n",
       "</style>\n",
       "<table border=\"1\" class=\"dataframe\">\n",
       "  <thead>\n",
       "    <tr style=\"text-align: right;\">\n",
       "      <th></th>\n",
       "      <th>sender_email</th>\n",
       "      <th>sender_name</th>\n",
       "      <th>recipient_email</th>\n",
       "      <th>recipient_name</th>\n",
       "      <th>date_sent</th>\n",
       "      <th>subject</th>\n",
       "      <th>body</th>\n",
       "    </tr>\n",
       "  </thead>\n",
       "  <tbody>\n",
       "    <tr>\n",
       "      <th>1</th>\n",
       "      <td>bensul2004nng@spinfinder.com</td>\n",
       "      <td>\"Mr. Ben Suleman\"</td>\n",
       "      <td>R@M</td>\n",
       "      <td>None</td>\n",
       "      <td>31 Oct 2002</td>\n",
       "      <td>URGENT ASSISTANCE /RELATIONSHIP (P)</td>\n",
       "      <td>Dear Friend,\\n\\nI am Mr. Ben Suleman a custom ...</td>\n",
       "    </tr>\n",
       "    <tr>\n",
       "      <th>2</th>\n",
       "      <td>obong_715@epatra.com</td>\n",
       "      <td>\"PRINCE OBONG ELEME\"</td>\n",
       "      <td>obong_715@epatra.com</td>\n",
       "      <td>None</td>\n",
       "      <td>31 Oct 2002</td>\n",
       "      <td>GOOD DAY TO YOU</td>\n",
       "      <td>FROM HIS ROYAL MAJESTY (HRM) CROWN RULER OF EL...</td>\n",
       "    </tr>\n",
       "    <tr>\n",
       "      <th>3</th>\n",
       "      <td>obong_715@epatra.com</td>\n",
       "      <td>\"PRINCE OBONG ELEME\"</td>\n",
       "      <td>webmaster@aclweb.org</td>\n",
       "      <td>None</td>\n",
       "      <td>31 Oct 2002</td>\n",
       "      <td>GOOD DAY TO YOU</td>\n",
       "      <td>FROM HIS ROYAL MAJESTY (HRM) CROWN RULER OF EL...</td>\n",
       "    </tr>\n",
       "  </tbody>\n",
       "</table>\n",
       "</div>"
      ],
      "text/plain": [
       "                   sender_email             sender_name       recipient_email  \\\n",
       "1  bensul2004nng@spinfinder.com      \"Mr. Ben Suleman\"                    R@M   \n",
       "2          obong_715@epatra.com   \"PRINCE OBONG ELEME\"   obong_715@epatra.com   \n",
       "3          obong_715@epatra.com   \"PRINCE OBONG ELEME\"   webmaster@aclweb.org   \n",
       "\n",
       "  recipient_name    date_sent                               subject  \\\n",
       "1           None  31 Oct 2002   URGENT ASSISTANCE /RELATIONSHIP (P)   \n",
       "2           None  31 Oct 2002                       GOOD DAY TO YOU   \n",
       "3           None  31 Oct 2002                       GOOD DAY TO YOU   \n",
       "\n",
       "                                                body  \n",
       "1  Dear Friend,\\n\\nI am Mr. Ben Suleman a custom ...  \n",
       "2  FROM HIS ROYAL MAJESTY (HRM) CROWN RULER OF EL...  \n",
       "3  FROM HIS ROYAL MAJESTY (HRM) CROWN RULER OF EL...  "
      ]
     },
     "execution_count": 103,
     "metadata": {},
     "output_type": "execute_result"
    }
   ],
   "source": [
    "# find records where the sender's email constains 'epatra' or 'spinfinder'\n",
    "df_emails.loc[df_emails[\"sender_email\"].str.contains(\"epatra|spinfinder\", na=False)]"
   ]
  },
  {
   "cell_type": "code",
   "execution_count": 116,
   "metadata": {},
   "outputs": [
    {
     "name": "stdout",
     "output_type": "stream",
     "text": [
      "1    bensul2004nng@spinfinder.com\n",
      "Name: sender_email, dtype: object\n",
      "bensul2004nng@spinfinder.com\n",
      "['Dear Friend,\\n\\nI am Mr. Ben Suleman a custom officer and work as Assistant controller of the Customs and Excise department Of the Federal Ministry of Internal Affairs stationed at the Murtala Mohammed International Airport, Ikeja, Lagos-Nigeria.\\n\\nAfter the sudden death of the former Head of state of Nigeria General Sanni Abacha on June 8th 1998 his aides and immediate members of his family were arrested while trying to escape from Nigeria in a Chartered jet to Saudi Arabia with 6 trunk boxes Marked \"Diplomatic Baggage\". Acting on a tip-off as they attempted to board the Air Craft,my officials carried out a thorough search on the air craft and discovered that the 6 trunk boxes contained foreign currencies amounting to US$197,570,000.00(One Hundred and  Ninety-Seven Million Five Hundred Seventy Thousand United States Dollars).\\n\\nI declared only (5) five boxes to the government and withheld one (1) in my custody containing the sum of (US$30,000,000.00) Thirty Million United States Dollars Only, which has been disguised to prevent their being discovered during transportation process.Due to several media reports on the late head of state about all the money him and his co-government officials stole from our government treasury amounting\\nto US$55 Billion Dollars (ref:ngrguardiannews.com) of July 2nd 1999. Even the London times of July 1998 reported that General Abacha has over US$3.Billion dollars in one account overseas. We decided to conceal this one (1)box till the situation is calm and quite on the issue. The box was thus deposited with a security company here in Nigeria and tagged as \"Precious Stones and Jewellry\" in other that its\\ncontent will not be discovered. Now that all is calm, we (myself and two of my colleagues in the operations team) are now ready to move this box out of the country through a diplomatic arrangement which is the safest means. \\n\\nHowever as government officials the Civil Service Code of Conduct does not allow us by law to operate any foreign account or own foreign investment and the amount of money that can be found in our account\\ncannot be more than our salary on the average, thus our handicapp and our need for your assistance to help collect and keep safely in your account this money.\\n\\nTherefore we want you to assist us in moving this money out of Nigeria. We shall definitely compensate you handsomely for the assistance. We can do this by instructing the Security Company here in Nigeria to\\nmove the consignment to their affiliate branch office outside Nigeria through diplomatic means and the consignment will be termed as Precious Stones and Jewelleries\" which you bought during your visit to Nigeria and is being transfered to your country from here for safe keeping. Then we can arrange to meet at the destination country to take the delivery of the consignment. You will thereafter open an account there and lodge the Money there and gradually instruct remittance to your Country. \\n\\nThis business is 100% risk free for you so please treat this matter with utmost confidentiality .If you indicate your interest to assist us please just e-mail me for more Explanation on how we plan to execute the transaction.\\n\\nExpecting your response urgently.\\n\\nBest regards,\\n\\nMr. Ben Suleman\\n\\n']\n"
     ]
    }
   ],
   "source": [
    "# Step 1: find the index where the \"sender_email\" column contains @spinfinder.com\n",
    "index = df_emails.loc[df_emails[\"sender_email\"].str.contains(r\"\\w\\S*@spinfinder.com\", na=False)].index.values # find the index where the sender's email contains @spinfinder.com\n",
    "\n",
    "# Step 2: use the index to find the value of the cell in the \"sender_email\" column.\n",
    "# the result is returned as a pandas series object\n",
    "srs_address = df_emails.loc[index][\"sender_email\"]\n",
    "print(srs_address)\n",
    "\n",
    "# Step 3: extract the email address from the series object as a string\n",
    "str_address = srs_address.to_string(index=False)\n",
    "print(str_address)\n",
    "\n",
    "# Step 4: find the value of the \"email_body\" column where the \"sender_email\" column = str_address\n",
    "str_email = df_emails.loc[df_emails[\"sender_email\"] == str_address].body.values\n",
    "print(str_email)"
   ]
  }
 ],
 "metadata": {
  "kernelspec": {
   "display_name": "Python 3.9.13 ('env_math')",
   "language": "python",
   "name": "python3"
  },
  "language_info": {
   "codemirror_mode": {
    "name": "ipython",
    "version": 3
   },
   "file_extension": ".py",
   "mimetype": "text/x-python",
   "name": "python",
   "nbconvert_exporter": "python",
   "pygments_lexer": "ipython3",
   "version": "3.9.13"
  },
  "orig_nbformat": 4,
  "vscode": {
   "interpreter": {
    "hash": "70342811ac5db431cd7b4e4c0c6a98594dffe684828b1559756a0d79c8514187"
   }
  }
 },
 "nbformat": 4,
 "nbformat_minor": 2
}
