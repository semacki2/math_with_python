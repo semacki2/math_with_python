{
 "cells": [
  {
   "cell_type": "markdown",
   "metadata": {},
   "source": [
    "# Knap Sack - Optimzation\n",
    "source: https://ocw.mit.edu/courses/6-0002-introduction-to-computational-thinking-and-data-science-fall-2016/resources/lecture-2-optimization-problems/\n",
    "\n",
    "## Problem Statement\n",
    "Given a set of items, each with a weight and a value, determine the number of each item to include in a collection so that the total weight is less than or equal to a given limit and the total value is as large as possible.\n",
    "\n",
    "We need to find an optimal solution to this problem, but brute force is not an option. We need to find a way to reduce the number of possible solutions to a manageable number.\n",
    "\n",
    "We "
   ]
  },
  {
   "cell_type": "markdown",
   "metadata": {},
   "source": [
    "### Import Libraries"
   ]
  },
  {
   "cell_type": "code",
   "execution_count": 2,
   "metadata": {},
   "outputs": [],
   "source": [
    "import random\n"
   ]
  },
  {
   "cell_type": "markdown",
   "metadata": {},
   "source": [
    "### Create the Food Class\n",
    "\n",
    "The food class will be used to create a list of food items. Each food item will have a name, a value, and a calories."
   ]
  },
  {
   "cell_type": "code",
   "execution_count": 3,
   "metadata": {},
   "outputs": [],
   "source": [
    "# define Food class using type hinting\n",
    "class Food:\n",
    "    def __init__(self, name: str, value: int, calories: int) -> None:\n",
    "        self.name = name\n",
    "        self.value = value\n",
    "        self.calories = calories\n",
    "\n",
    "    def getValue(self) -> int:\n",
    "        return self.value # return the value of the food\n",
    "\n",
    "    def getCost(self) -> int:\n",
    "        return self.calories # return the calories of the food\n",
    "\n",
    "    def density(self) -> float:\n",
    "        return self.getValue() / self.getCost() # return the density of the food, which is the value divided by the calories\n",
    "\n",
    "    def __str__(self) -> str:\n",
    "        return self.name + ': <' + str(self.value) + ', ' + str(self.calories) + '>' # return the name, value, and calories of the food"
   ]
  },
  {
   "cell_type": "markdown",
   "metadata": {},
   "source": [
    "### Define the buildMenu() function\n",
    "This function will create a list of food items."
   ]
  },
  {
   "cell_type": "code",
   "execution_count": 4,
   "metadata": {},
   "outputs": [],
   "source": [
    "# define buildMenu function using type hinting\n",
    "def buildMenu(names: list, values: list, calories: list) -> list[Food]:\n",
    "    menu = []\n",
    "    for i in range(len(values)):\n",
    "        menu.append(Food(names[i], values[i], calories[i]))\n",
    "    return menu"
   ]
  },
  {
   "cell_type": "markdown",
   "metadata": {},
   "source": [
    "### Define the greedy() function\n",
    "This function will take a list of food items and a maximum calories and return a list of the chosen food items."
   ]
  },
  {
   "cell_type": "code",
   "execution_count": 5,
   "metadata": {},
   "outputs": [],
   "source": [
    "# define the greedy() function using type hinting\n",
    "def greedy(items: list[Food], maxCost: float, keyFunction: callable) -> tuple[list[Food], float]:\n",
    "    itemsCopy = sorted(items, key=keyFunction, reverse=True) # sort the items in the list by the keyFunction\n",
    "    result = []\n",
    "    totalValue, totalCost = 0.0, 0.0\n",
    "    for i in range(len(itemsCopy)):\n",
    "        if (totalCost + itemsCopy[i].getCost()) <= maxCost: # if the total cost of the items is less than the max cost\n",
    "            result.append(itemsCopy[i]) # add the item to the result list\n",
    "            totalCost += itemsCopy[i].getCost() # add the cost of the item to the total cost\n",
    "            totalValue += itemsCopy[i].getValue() # add the value of the item to the total value\n",
    "    return (result, totalValue) # return the result list and the total value"
   ]
  },
  {
   "cell_type": "markdown",
   "metadata": {},
   "source": [
    "### Define the testGreedy() function\n",
    "This function will test the greedy() function. It will print the total value and calories of the chosen food items.\n"
   ]
  },
  {
   "cell_type": "code",
   "execution_count": 6,
   "metadata": {},
   "outputs": [],
   "source": [
    "# define the testGreedy() function using type hinting\n",
    "def testGreedy(items: list[Food], constraint: float, keyFunction: callable) -> None:\n",
    "    taken, val = greedy(items, constraint, keyFunction) # call the greedy() function\n",
    "    print('Total value of items taken =', val) # print the total value of the items taken\n",
    "    for item in taken:\n",
    "        print('   ', item) # print the items taken"
   ]
  },
  {
   "cell_type": "markdown",
   "metadata": {},
   "source": [
    "### Define the testGreedys() function\n",
    "This function will test the greedy() function with different maximum calories and key functions."
   ]
  },
  {
   "cell_type": "code",
   "execution_count": 7,
   "metadata": {},
   "outputs": [],
   "source": [
    "# define the testGreedys() function using type hinting\n",
    "def testGreedys(foods: list[Food], maxUnits: float) -> None:\n",
    "    # key function is the value of the food\n",
    "    print('Use greedy by value to allocate', maxUnits, 'calories') # print the max units\n",
    "    testGreedy(foods, maxUnits, Food.getValue) # call the testGreedy() function\n",
    "    \n",
    "    # key function is the 1 divided by the cost of the food\n",
    "    print('\\nUse greedy by cost to allocate', maxUnits, 'calories')\n",
    "    testGreedy(foods, maxUnits, lambda x: 1/Food.getCost(x)) # call the testGreedy() function\n",
    "    \n",
    "    # key function is the density of the food\n",
    "    print('\\nUse greedy by density to allocate', maxUnits, 'calories')\n",
    "    testGreedy(foods, maxUnits, Food.density) # call the testGreedy() function"
   ]
  },
  {
   "cell_type": "markdown",
   "metadata": {},
   "source": [
    "### Define the maxVal() function\n",
    "This function will return the value of a food item."
   ]
  },
  {
   "cell_type": "code",
   "execution_count": 8,
   "metadata": {},
   "outputs": [],
   "source": [
    "# define the maxVal() function using type hinting\n",
    "def maxVal(toConsider: list[Food], avail: float) -> tuple[list[Food], float]:\n",
    "    if toConsider == [] or avail == 0: # if there are no items to consider or the available units is 0\n",
    "        result = ((), 0.0) # return an empty tuple and 0\n",
    "    elif toConsider[0].getCost() > avail: # if the cost of the first item is greater than the available units\n",
    "        result = maxVal(toConsider[1:], avail) # call the maxVal() function with the remaining items and the available units\n",
    "    else:\n",
    "        nextItem = toConsider[0] # set the next item to the first item in the list\n",
    "        \n",
    "        # call the maxVal() function with the remaining items and the available units minus the cost of the next item\n",
    "        withVal, withToTake = maxVal(toConsider[1:], avail - nextItem.getCost())\n",
    "        withVal += (nextItem.getValue(),) # add the value of the next item to the withVal tuple\n",
    "       \n",
    "       # call the maxVal() function with the remaining items and the available units\n",
    "        withoutVal, withoutToTake = maxVal(toConsider[1:], avail)\n",
    "       \n",
    "        # if the value of the items with the next item is greater than the value of the items without the next item\n",
    "        if withVal > withoutVal:\n",
    "            result = (withVal, withToTake + (nextItem,)) # set the result to the value of the items with the next item and the items to take with the next item\n",
    "        else:\n",
    "            result = (withoutVal, withoutToTake) # set the result to the value of the items without the next item and the items to take without the next item\n",
    "    return result # return the result"
   ]
  },
  {
   "cell_type": "markdown",
   "metadata": {},
   "source": [
    "### Define the testMaxVal() function\n",
    "This function will test the maxVal() function. It will print the total value and calories of the chosen food items."
   ]
  },
  {
   "cell_type": "code",
   "execution_count": 9,
   "metadata": {},
   "outputs": [],
   "source": [
    "# define the testMaxVal() function using type hinting\n",
    "def testMaxVal(foods: list[Food], maxUnits: float, printItems: bool = True) -> None:\n",
    "    print('Use search tree to allocate', maxUnits, 'calories') # print the max units\n",
    "    val, taken = maxVal(foods, maxUnits) # call the maxVal() function\n",
    "    print('Total value of items taken =', val) # print the total value of the items taken\n",
    "    if printItems:\n",
    "        for item in taken:\n",
    "            print('   ', item) # print the items taken"
   ]
  },
  {
   "cell_type": "markdown",
   "metadata": {},
   "source": [
    "### Run the test"
   ]
  },
  {
   "cell_type": "code",
   "execution_count": 10,
   "metadata": {},
   "outputs": [],
   "source": [
    "# create lists of names (string), values (float), and calories (float) for the foods\n",
    "names = ['wine', 'beer', 'pizza', 'burger', 'fries', 'cola', 'apple', 'donut', 'cake']\n",
    "values = [89.0, 90.0, 95.0, 100.0, 90.0, 79.0, 50.0, 10.0]\n",
    "calories = [123.0, 154.0, 258.0, 354.0, 365.0, 150.0, 95.0, 195.0, 200.0]\n"
   ]
  },
  {
   "cell_type": "code",
   "execution_count": 11,
   "metadata": {},
   "outputs": [],
   "source": [
    "# create a list of foods using the buildMenu() function\n",
    "foods = buildMenu(names, values, calories)"
   ]
  },
  {
   "cell_type": "code",
   "execution_count": 12,
   "metadata": {},
   "outputs": [
    {
     "name": "stdout",
     "output_type": "stream",
     "text": [
      "Use greedy by value to allocate 750 calories\n",
      "Total value of items taken = 284.0\n",
      "    burger: <100.0, 354.0>\n",
      "    pizza: <95.0, 258.0>\n",
      "    wine: <89.0, 123.0>\n",
      "\n",
      "Use greedy by cost to allocate 750 calories\n",
      "Total value of items taken = 318.0\n",
      "    apple: <50.0, 95.0>\n",
      "    wine: <89.0, 123.0>\n",
      "    cola: <79.0, 150.0>\n",
      "    beer: <90.0, 154.0>\n",
      "    donut: <10.0, 195.0>\n",
      "\n",
      "Use greedy by density to allocate 750 calories\n",
      "Total value of items taken = 318.0\n",
      "    wine: <89.0, 123.0>\n",
      "    beer: <90.0, 154.0>\n",
      "    cola: <79.0, 150.0>\n",
      "    apple: <50.0, 95.0>\n",
      "    donut: <10.0, 195.0>\n",
      "\n",
      "Use search tree to allocate 750 calories\n"
     ]
    },
    {
     "ename": "TypeError",
     "evalue": "unsupported operand type(s) for +: 'float' and 'tuple'",
     "output_type": "error",
     "traceback": [
      "\u001b[1;31m---------------------------------------------------------------------------\u001b[0m",
      "\u001b[1;31mTypeError\u001b[0m                                 Traceback (most recent call last)",
      "\u001b[1;32mc:\\Users\\sethj\\OneDrive\\Desktop\\math_with_python\\mit_data_science_course\\Lecture2_optimization\\lecture2.ipynb Cell 21\u001b[0m in \u001b[0;36m<cell line: 6>\u001b[1;34m()\u001b[0m\n\u001b[0;32m      <a href='vscode-notebook-cell:/c%3A/Users/sethj/OneDrive/Desktop/math_with_python/mit_data_science_course/Lecture2_optimization/lecture2.ipynb#X26sZmlsZQ%3D%3D?line=2'>3</a>\u001b[0m \u001b[39mprint\u001b[39m(\u001b[39m'\u001b[39m\u001b[39m'\u001b[39m)\n\u001b[0;32m      <a href='vscode-notebook-cell:/c%3A/Users/sethj/OneDrive/Desktop/math_with_python/mit_data_science_course/Lecture2_optimization/lecture2.ipynb#X26sZmlsZQ%3D%3D?line=4'>5</a>\u001b[0m \u001b[39m# call the testMaxVal() function\u001b[39;00m\n\u001b[1;32m----> <a href='vscode-notebook-cell:/c%3A/Users/sethj/OneDrive/Desktop/math_with_python/mit_data_science_course/Lecture2_optimization/lecture2.ipynb#X26sZmlsZQ%3D%3D?line=5'>6</a>\u001b[0m testMaxVal(foods, \u001b[39m750\u001b[39;49m)\n",
      "\u001b[1;32mc:\\Users\\sethj\\OneDrive\\Desktop\\math_with_python\\mit_data_science_course\\Lecture2_optimization\\lecture2.ipynb Cell 21\u001b[0m in \u001b[0;36mtestMaxVal\u001b[1;34m(foods, maxUnits, printItems)\u001b[0m\n\u001b[0;32m      <a href='vscode-notebook-cell:/c%3A/Users/sethj/OneDrive/Desktop/math_with_python/mit_data_science_course/Lecture2_optimization/lecture2.ipynb#X26sZmlsZQ%3D%3D?line=1'>2</a>\u001b[0m \u001b[39mdef\u001b[39;00m \u001b[39mtestMaxVal\u001b[39m(foods: \u001b[39mlist\u001b[39m[Food], maxUnits: \u001b[39mfloat\u001b[39m, printItems: \u001b[39mbool\u001b[39m \u001b[39m=\u001b[39m \u001b[39mTrue\u001b[39;00m) \u001b[39m-\u001b[39m\u001b[39m>\u001b[39m \u001b[39mNone\u001b[39;00m:\n\u001b[0;32m      <a href='vscode-notebook-cell:/c%3A/Users/sethj/OneDrive/Desktop/math_with_python/mit_data_science_course/Lecture2_optimization/lecture2.ipynb#X26sZmlsZQ%3D%3D?line=2'>3</a>\u001b[0m     \u001b[39mprint\u001b[39m(\u001b[39m'\u001b[39m\u001b[39mUse search tree to allocate\u001b[39m\u001b[39m'\u001b[39m, maxUnits, \u001b[39m'\u001b[39m\u001b[39mcalories\u001b[39m\u001b[39m'\u001b[39m) \u001b[39m# print the max units\u001b[39;00m\n\u001b[1;32m----> <a href='vscode-notebook-cell:/c%3A/Users/sethj/OneDrive/Desktop/math_with_python/mit_data_science_course/Lecture2_optimization/lecture2.ipynb#X26sZmlsZQ%3D%3D?line=3'>4</a>\u001b[0m     val, taken \u001b[39m=\u001b[39m maxVal(foods, maxUnits) \u001b[39m# call the maxVal() function\u001b[39;00m\n\u001b[0;32m      <a href='vscode-notebook-cell:/c%3A/Users/sethj/OneDrive/Desktop/math_with_python/mit_data_science_course/Lecture2_optimization/lecture2.ipynb#X26sZmlsZQ%3D%3D?line=4'>5</a>\u001b[0m     \u001b[39mprint\u001b[39m(\u001b[39m'\u001b[39m\u001b[39mTotal value of items taken =\u001b[39m\u001b[39m'\u001b[39m, val) \u001b[39m# print the total value of the items taken\u001b[39;00m\n\u001b[0;32m      <a href='vscode-notebook-cell:/c%3A/Users/sethj/OneDrive/Desktop/math_with_python/mit_data_science_course/Lecture2_optimization/lecture2.ipynb#X26sZmlsZQ%3D%3D?line=5'>6</a>\u001b[0m     \u001b[39mif\u001b[39;00m printItems:\n",
      "\u001b[1;32mc:\\Users\\sethj\\OneDrive\\Desktop\\math_with_python\\mit_data_science_course\\Lecture2_optimization\\lecture2.ipynb Cell 21\u001b[0m in \u001b[0;36mmaxVal\u001b[1;34m(toConsider, avail)\u001b[0m\n\u001b[0;32m      <a href='vscode-notebook-cell:/c%3A/Users/sethj/OneDrive/Desktop/math_with_python/mit_data_science_course/Lecture2_optimization/lecture2.ipynb#X26sZmlsZQ%3D%3D?line=7'>8</a>\u001b[0m  nextItem \u001b[39m=\u001b[39m toConsider[\u001b[39m0\u001b[39m] \u001b[39m# set the next item to the first item in the list\u001b[39;00m\n\u001b[0;32m     <a href='vscode-notebook-cell:/c%3A/Users/sethj/OneDrive/Desktop/math_with_python/mit_data_science_course/Lecture2_optimization/lecture2.ipynb#X26sZmlsZQ%3D%3D?line=9'>10</a>\u001b[0m  \u001b[39m# call the maxVal() function with the remaining items and the available units minus the cost of the next item\u001b[39;00m\n\u001b[1;32m---> <a href='vscode-notebook-cell:/c%3A/Users/sethj/OneDrive/Desktop/math_with_python/mit_data_science_course/Lecture2_optimization/lecture2.ipynb#X26sZmlsZQ%3D%3D?line=10'>11</a>\u001b[0m  withVal, withToTake \u001b[39m=\u001b[39m maxVal(toConsider[\u001b[39m1\u001b[39;49m:], avail \u001b[39m-\u001b[39;49m nextItem\u001b[39m.\u001b[39;49mgetCost())\n\u001b[0;32m     <a href='vscode-notebook-cell:/c%3A/Users/sethj/OneDrive/Desktop/math_with_python/mit_data_science_course/Lecture2_optimization/lecture2.ipynb#X26sZmlsZQ%3D%3D?line=11'>12</a>\u001b[0m  withVal \u001b[39m+\u001b[39m\u001b[39m=\u001b[39m (nextItem\u001b[39m.\u001b[39mgetValue(),) \u001b[39m# add the value of the next item to the withVal tuple\u001b[39;00m\n\u001b[0;32m     <a href='vscode-notebook-cell:/c%3A/Users/sethj/OneDrive/Desktop/math_with_python/mit_data_science_course/Lecture2_optimization/lecture2.ipynb#X26sZmlsZQ%3D%3D?line=13'>14</a>\u001b[0m \u001b[39m# call the maxVal() function with the remaining items and the available units\u001b[39;00m\n",
      "\u001b[1;32mc:\\Users\\sethj\\OneDrive\\Desktop\\math_with_python\\mit_data_science_course\\Lecture2_optimization\\lecture2.ipynb Cell 21\u001b[0m in \u001b[0;36mmaxVal\u001b[1;34m(toConsider, avail)\u001b[0m\n\u001b[0;32m      <a href='vscode-notebook-cell:/c%3A/Users/sethj/OneDrive/Desktop/math_with_python/mit_data_science_course/Lecture2_optimization/lecture2.ipynb#X26sZmlsZQ%3D%3D?line=7'>8</a>\u001b[0m  nextItem \u001b[39m=\u001b[39m toConsider[\u001b[39m0\u001b[39m] \u001b[39m# set the next item to the first item in the list\u001b[39;00m\n\u001b[0;32m     <a href='vscode-notebook-cell:/c%3A/Users/sethj/OneDrive/Desktop/math_with_python/mit_data_science_course/Lecture2_optimization/lecture2.ipynb#X26sZmlsZQ%3D%3D?line=9'>10</a>\u001b[0m  \u001b[39m# call the maxVal() function with the remaining items and the available units minus the cost of the next item\u001b[39;00m\n\u001b[1;32m---> <a href='vscode-notebook-cell:/c%3A/Users/sethj/OneDrive/Desktop/math_with_python/mit_data_science_course/Lecture2_optimization/lecture2.ipynb#X26sZmlsZQ%3D%3D?line=10'>11</a>\u001b[0m  withVal, withToTake \u001b[39m=\u001b[39m maxVal(toConsider[\u001b[39m1\u001b[39;49m:], avail \u001b[39m-\u001b[39;49m nextItem\u001b[39m.\u001b[39;49mgetCost())\n\u001b[0;32m     <a href='vscode-notebook-cell:/c%3A/Users/sethj/OneDrive/Desktop/math_with_python/mit_data_science_course/Lecture2_optimization/lecture2.ipynb#X26sZmlsZQ%3D%3D?line=11'>12</a>\u001b[0m  withVal \u001b[39m+\u001b[39m\u001b[39m=\u001b[39m (nextItem\u001b[39m.\u001b[39mgetValue(),) \u001b[39m# add the value of the next item to the withVal tuple\u001b[39;00m\n\u001b[0;32m     <a href='vscode-notebook-cell:/c%3A/Users/sethj/OneDrive/Desktop/math_with_python/mit_data_science_course/Lecture2_optimization/lecture2.ipynb#X26sZmlsZQ%3D%3D?line=13'>14</a>\u001b[0m \u001b[39m# call the maxVal() function with the remaining items and the available units\u001b[39;00m\n",
      "\u001b[1;32mc:\\Users\\sethj\\OneDrive\\Desktop\\math_with_python\\mit_data_science_course\\Lecture2_optimization\\lecture2.ipynb Cell 21\u001b[0m in \u001b[0;36mmaxVal\u001b[1;34m(toConsider, avail)\u001b[0m\n\u001b[0;32m      <a href='vscode-notebook-cell:/c%3A/Users/sethj/OneDrive/Desktop/math_with_python/mit_data_science_course/Lecture2_optimization/lecture2.ipynb#X26sZmlsZQ%3D%3D?line=7'>8</a>\u001b[0m  nextItem \u001b[39m=\u001b[39m toConsider[\u001b[39m0\u001b[39m] \u001b[39m# set the next item to the first item in the list\u001b[39;00m\n\u001b[0;32m     <a href='vscode-notebook-cell:/c%3A/Users/sethj/OneDrive/Desktop/math_with_python/mit_data_science_course/Lecture2_optimization/lecture2.ipynb#X26sZmlsZQ%3D%3D?line=9'>10</a>\u001b[0m  \u001b[39m# call the maxVal() function with the remaining items and the available units minus the cost of the next item\u001b[39;00m\n\u001b[1;32m---> <a href='vscode-notebook-cell:/c%3A/Users/sethj/OneDrive/Desktop/math_with_python/mit_data_science_course/Lecture2_optimization/lecture2.ipynb#X26sZmlsZQ%3D%3D?line=10'>11</a>\u001b[0m  withVal, withToTake \u001b[39m=\u001b[39m maxVal(toConsider[\u001b[39m1\u001b[39;49m:], avail \u001b[39m-\u001b[39;49m nextItem\u001b[39m.\u001b[39;49mgetCost())\n\u001b[0;32m     <a href='vscode-notebook-cell:/c%3A/Users/sethj/OneDrive/Desktop/math_with_python/mit_data_science_course/Lecture2_optimization/lecture2.ipynb#X26sZmlsZQ%3D%3D?line=11'>12</a>\u001b[0m  withVal \u001b[39m+\u001b[39m\u001b[39m=\u001b[39m (nextItem\u001b[39m.\u001b[39mgetValue(),) \u001b[39m# add the value of the next item to the withVal tuple\u001b[39;00m\n\u001b[0;32m     <a href='vscode-notebook-cell:/c%3A/Users/sethj/OneDrive/Desktop/math_with_python/mit_data_science_course/Lecture2_optimization/lecture2.ipynb#X26sZmlsZQ%3D%3D?line=13'>14</a>\u001b[0m \u001b[39m# call the maxVal() function with the remaining items and the available units\u001b[39;00m\n",
      "\u001b[1;32mc:\\Users\\sethj\\OneDrive\\Desktop\\math_with_python\\mit_data_science_course\\Lecture2_optimization\\lecture2.ipynb Cell 21\u001b[0m in \u001b[0;36mmaxVal\u001b[1;34m(toConsider, avail)\u001b[0m\n\u001b[0;32m      <a href='vscode-notebook-cell:/c%3A/Users/sethj/OneDrive/Desktop/math_with_python/mit_data_science_course/Lecture2_optimization/lecture2.ipynb#X26sZmlsZQ%3D%3D?line=3'>4</a>\u001b[0m     result \u001b[39m=\u001b[39m ((), \u001b[39m0.0\u001b[39m) \u001b[39m# return an empty tuple and 0\u001b[39;00m\n\u001b[0;32m      <a href='vscode-notebook-cell:/c%3A/Users/sethj/OneDrive/Desktop/math_with_python/mit_data_science_course/Lecture2_optimization/lecture2.ipynb#X26sZmlsZQ%3D%3D?line=4'>5</a>\u001b[0m \u001b[39melif\u001b[39;00m toConsider[\u001b[39m0\u001b[39m]\u001b[39m.\u001b[39mgetCost() \u001b[39m>\u001b[39m avail: \u001b[39m# if the cost of the first item is greater than the available units\u001b[39;00m\n\u001b[1;32m----> <a href='vscode-notebook-cell:/c%3A/Users/sethj/OneDrive/Desktop/math_with_python/mit_data_science_course/Lecture2_optimization/lecture2.ipynb#X26sZmlsZQ%3D%3D?line=5'>6</a>\u001b[0m     result \u001b[39m=\u001b[39m maxVal(toConsider[\u001b[39m1\u001b[39;49m:], avail) \u001b[39m# call the maxVal() function with the remaining items and the available units\u001b[39;00m\n\u001b[0;32m      <a href='vscode-notebook-cell:/c%3A/Users/sethj/OneDrive/Desktop/math_with_python/mit_data_science_course/Lecture2_optimization/lecture2.ipynb#X26sZmlsZQ%3D%3D?line=6'>7</a>\u001b[0m \u001b[39melse\u001b[39;00m:\n\u001b[0;32m      <a href='vscode-notebook-cell:/c%3A/Users/sethj/OneDrive/Desktop/math_with_python/mit_data_science_course/Lecture2_optimization/lecture2.ipynb#X26sZmlsZQ%3D%3D?line=7'>8</a>\u001b[0m     nextItem \u001b[39m=\u001b[39m toConsider[\u001b[39m0\u001b[39m] \u001b[39m# set the next item to the first item in the list\u001b[39;00m\n",
      "\u001b[1;32mc:\\Users\\sethj\\OneDrive\\Desktop\\math_with_python\\mit_data_science_course\\Lecture2_optimization\\lecture2.ipynb Cell 21\u001b[0m in \u001b[0;36mmaxVal\u001b[1;34m(toConsider, avail)\u001b[0m\n\u001b[0;32m      <a href='vscode-notebook-cell:/c%3A/Users/sethj/OneDrive/Desktop/math_with_python/mit_data_science_course/Lecture2_optimization/lecture2.ipynb#X26sZmlsZQ%3D%3D?line=3'>4</a>\u001b[0m     result \u001b[39m=\u001b[39m ((), \u001b[39m0.0\u001b[39m) \u001b[39m# return an empty tuple and 0\u001b[39;00m\n\u001b[0;32m      <a href='vscode-notebook-cell:/c%3A/Users/sethj/OneDrive/Desktop/math_with_python/mit_data_science_course/Lecture2_optimization/lecture2.ipynb#X26sZmlsZQ%3D%3D?line=4'>5</a>\u001b[0m \u001b[39melif\u001b[39;00m toConsider[\u001b[39m0\u001b[39m]\u001b[39m.\u001b[39mgetCost() \u001b[39m>\u001b[39m avail: \u001b[39m# if the cost of the first item is greater than the available units\u001b[39;00m\n\u001b[1;32m----> <a href='vscode-notebook-cell:/c%3A/Users/sethj/OneDrive/Desktop/math_with_python/mit_data_science_course/Lecture2_optimization/lecture2.ipynb#X26sZmlsZQ%3D%3D?line=5'>6</a>\u001b[0m     result \u001b[39m=\u001b[39m maxVal(toConsider[\u001b[39m1\u001b[39;49m:], avail) \u001b[39m# call the maxVal() function with the remaining items and the available units\u001b[39;00m\n\u001b[0;32m      <a href='vscode-notebook-cell:/c%3A/Users/sethj/OneDrive/Desktop/math_with_python/mit_data_science_course/Lecture2_optimization/lecture2.ipynb#X26sZmlsZQ%3D%3D?line=6'>7</a>\u001b[0m \u001b[39melse\u001b[39;00m:\n\u001b[0;32m      <a href='vscode-notebook-cell:/c%3A/Users/sethj/OneDrive/Desktop/math_with_python/mit_data_science_course/Lecture2_optimization/lecture2.ipynb#X26sZmlsZQ%3D%3D?line=7'>8</a>\u001b[0m     nextItem \u001b[39m=\u001b[39m toConsider[\u001b[39m0\u001b[39m] \u001b[39m# set the next item to the first item in the list\u001b[39;00m\n",
      "\u001b[1;32mc:\\Users\\sethj\\OneDrive\\Desktop\\math_with_python\\mit_data_science_course\\Lecture2_optimization\\lecture2.ipynb Cell 21\u001b[0m in \u001b[0;36mmaxVal\u001b[1;34m(toConsider, avail)\u001b[0m\n\u001b[0;32m     <a href='vscode-notebook-cell:/c%3A/Users/sethj/OneDrive/Desktop/math_with_python/mit_data_science_course/Lecture2_optimization/lecture2.ipynb#X26sZmlsZQ%3D%3D?line=11'>12</a>\u001b[0m  withVal \u001b[39m+\u001b[39m\u001b[39m=\u001b[39m (nextItem\u001b[39m.\u001b[39mgetValue(),) \u001b[39m# add the value of the next item to the withVal tuple\u001b[39;00m\n\u001b[0;32m     <a href='vscode-notebook-cell:/c%3A/Users/sethj/OneDrive/Desktop/math_with_python/mit_data_science_course/Lecture2_optimization/lecture2.ipynb#X26sZmlsZQ%3D%3D?line=13'>14</a>\u001b[0m \u001b[39m# call the maxVal() function with the remaining items and the available units\u001b[39;00m\n\u001b[1;32m---> <a href='vscode-notebook-cell:/c%3A/Users/sethj/OneDrive/Desktop/math_with_python/mit_data_science_course/Lecture2_optimization/lecture2.ipynb#X26sZmlsZQ%3D%3D?line=14'>15</a>\u001b[0m  withoutVal, withoutToTake \u001b[39m=\u001b[39m maxVal(toConsider[\u001b[39m1\u001b[39;49m:], avail)\n\u001b[0;32m     <a href='vscode-notebook-cell:/c%3A/Users/sethj/OneDrive/Desktop/math_with_python/mit_data_science_course/Lecture2_optimization/lecture2.ipynb#X26sZmlsZQ%3D%3D?line=16'>17</a>\u001b[0m  \u001b[39m# if the value of the items with the next item is greater than the value of the items without the next item\u001b[39;00m\n\u001b[0;32m     <a href='vscode-notebook-cell:/c%3A/Users/sethj/OneDrive/Desktop/math_with_python/mit_data_science_course/Lecture2_optimization/lecture2.ipynb#X26sZmlsZQ%3D%3D?line=17'>18</a>\u001b[0m  \u001b[39mif\u001b[39;00m withVal \u001b[39m>\u001b[39m withoutVal:\n",
      "\u001b[1;32mc:\\Users\\sethj\\OneDrive\\Desktop\\math_with_python\\mit_data_science_course\\Lecture2_optimization\\lecture2.ipynb Cell 21\u001b[0m in \u001b[0;36mmaxVal\u001b[1;34m(toConsider, avail)\u001b[0m\n\u001b[0;32m     <a href='vscode-notebook-cell:/c%3A/Users/sethj/OneDrive/Desktop/math_with_python/mit_data_science_course/Lecture2_optimization/lecture2.ipynb#X26sZmlsZQ%3D%3D?line=11'>12</a>\u001b[0m  withVal \u001b[39m+\u001b[39m\u001b[39m=\u001b[39m (nextItem\u001b[39m.\u001b[39mgetValue(),) \u001b[39m# add the value of the next item to the withVal tuple\u001b[39;00m\n\u001b[0;32m     <a href='vscode-notebook-cell:/c%3A/Users/sethj/OneDrive/Desktop/math_with_python/mit_data_science_course/Lecture2_optimization/lecture2.ipynb#X26sZmlsZQ%3D%3D?line=13'>14</a>\u001b[0m \u001b[39m# call the maxVal() function with the remaining items and the available units\u001b[39;00m\n\u001b[1;32m---> <a href='vscode-notebook-cell:/c%3A/Users/sethj/OneDrive/Desktop/math_with_python/mit_data_science_course/Lecture2_optimization/lecture2.ipynb#X26sZmlsZQ%3D%3D?line=14'>15</a>\u001b[0m  withoutVal, withoutToTake \u001b[39m=\u001b[39m maxVal(toConsider[\u001b[39m1\u001b[39;49m:], avail)\n\u001b[0;32m     <a href='vscode-notebook-cell:/c%3A/Users/sethj/OneDrive/Desktop/math_with_python/mit_data_science_course/Lecture2_optimization/lecture2.ipynb#X26sZmlsZQ%3D%3D?line=16'>17</a>\u001b[0m  \u001b[39m# if the value of the items with the next item is greater than the value of the items without the next item\u001b[39;00m\n\u001b[0;32m     <a href='vscode-notebook-cell:/c%3A/Users/sethj/OneDrive/Desktop/math_with_python/mit_data_science_course/Lecture2_optimization/lecture2.ipynb#X26sZmlsZQ%3D%3D?line=17'>18</a>\u001b[0m  \u001b[39mif\u001b[39;00m withVal \u001b[39m>\u001b[39m withoutVal:\n",
      "\u001b[1;32mc:\\Users\\sethj\\OneDrive\\Desktop\\math_with_python\\mit_data_science_course\\Lecture2_optimization\\lecture2.ipynb Cell 21\u001b[0m in \u001b[0;36mmaxVal\u001b[1;34m(toConsider, avail)\u001b[0m\n\u001b[0;32m     <a href='vscode-notebook-cell:/c%3A/Users/sethj/OneDrive/Desktop/math_with_python/mit_data_science_course/Lecture2_optimization/lecture2.ipynb#X26sZmlsZQ%3D%3D?line=16'>17</a>\u001b[0m \u001b[39m# if the value of the items with the next item is greater than the value of the items without the next item\u001b[39;00m\n\u001b[0;32m     <a href='vscode-notebook-cell:/c%3A/Users/sethj/OneDrive/Desktop/math_with_python/mit_data_science_course/Lecture2_optimization/lecture2.ipynb#X26sZmlsZQ%3D%3D?line=17'>18</a>\u001b[0m \u001b[39mif\u001b[39;00m withVal \u001b[39m>\u001b[39m withoutVal:\n\u001b[1;32m---> <a href='vscode-notebook-cell:/c%3A/Users/sethj/OneDrive/Desktop/math_with_python/mit_data_science_course/Lecture2_optimization/lecture2.ipynb#X26sZmlsZQ%3D%3D?line=18'>19</a>\u001b[0m     result \u001b[39m=\u001b[39m (withVal, withToTake \u001b[39m+\u001b[39;49m (nextItem,)) \u001b[39m# set the result to the value of the items with the next item and the items to take with the next item\u001b[39;00m\n\u001b[0;32m     <a href='vscode-notebook-cell:/c%3A/Users/sethj/OneDrive/Desktop/math_with_python/mit_data_science_course/Lecture2_optimization/lecture2.ipynb#X26sZmlsZQ%3D%3D?line=19'>20</a>\u001b[0m \u001b[39melse\u001b[39;00m:\n\u001b[0;32m     <a href='vscode-notebook-cell:/c%3A/Users/sethj/OneDrive/Desktop/math_with_python/mit_data_science_course/Lecture2_optimization/lecture2.ipynb#X26sZmlsZQ%3D%3D?line=20'>21</a>\u001b[0m     result \u001b[39m=\u001b[39m (withoutVal, withoutToTake) \u001b[39m# set the result to the value of the items without the next item and the items to take without the next item\u001b[39;00m\n",
      "\u001b[1;31mTypeError\u001b[0m: unsupported operand type(s) for +: 'float' and 'tuple'"
     ]
    }
   ],
   "source": [
    "# call the testGreedys() function\n",
    "testGreedys(foods, 750)\n",
    "print('')\n",
    "\n",
    "# call the testMaxVal() function\n",
    "testMaxVal(foods, 750)"
   ]
  }
 ],
 "metadata": {
  "kernelspec": {
   "display_name": "Python 3.9.13 ('env_math')",
   "language": "python",
   "name": "python3"
  },
  "language_info": {
   "codemirror_mode": {
    "name": "ipython",
    "version": 3
   },
   "file_extension": ".py",
   "mimetype": "text/x-python",
   "name": "python",
   "nbconvert_exporter": "python",
   "pygments_lexer": "ipython3",
   "version": "3.9.13"
  },
  "orig_nbformat": 4,
  "vscode": {
   "interpreter": {
    "hash": "70342811ac5db431cd7b4e4c0c6a98594dffe684828b1559756a0d79c8514187"
   }
  }
 },
 "nbformat": 4,
 "nbformat_minor": 2
}
