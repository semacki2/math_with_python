{
 "cells": [
  {
   "cell_type": "markdown",
   "metadata": {},
   "source": [
    "# Knapsack Problem\n",
    "source: https://ocw.mit.edu/courses/6-0002-introduction-to-computational-thinking-and-data-science-fall-2016/resources/lecture-1-introduction-and-optimization-problems/\n",
    "\n",
    "## Problem Statement\n",
    "Given a set of items, each with a weight and a value, determine the number of each item to include in a collection so that the total weight is less than or equal to a given limit and the total value is as large as possible.\n",
    "\n",
    "We will show this using food items. We have a list of food items with their values and calorie cost. We want to maximize the value of the food items we eat while keeping the calorie cost below a certain limit."
   ]
  },
  {
   "cell_type": "code",
   "execution_count": 1,
   "metadata": {},
   "outputs": [],
   "source": [
    "# imports\n",
    "from collections.abc import Callable\n"
   ]
  },
  {
   "cell_type": "markdown",
   "metadata": {},
   "source": [
    "### Create the Food Class\n",
    "The food class will have 3 attributes: name, value, and calories. The class will have a constructor that takes in the name, value, and calories. The class will have a string representation that returns the name, value, and calories of the food. The class will be able to calculate its 'density' which is the value divided by the calories."
   ]
  },
  {
   "cell_type": "code",
   "execution_count": 2,
   "metadata": {},
   "outputs": [],
   "source": [
    "# create the Food class using type hinting\n",
    "class Food:\n",
    "    def __init__(self, name: str, value: float, calories: float):\n",
    "        self.name = name # name of the food\n",
    "        self.value = value # value of the food\n",
    "        self.calories = calories # calories in the food\n",
    "\n",
    "    def getValue(self) -> float: \n",
    "        return self.value # return the value of the food\n",
    "\n",
    "    def getCost(self) -> float:\n",
    "        return self.calories # the cost of a food is its calories\n",
    "\n",
    "    def density(self) -> float: # the density of a food is its value per calorie\n",
    "        return self.getValue()/self.getCost() \n",
    "\n",
    "    def __str__(self) -> str:\n",
    "        return self.name + ': <' + str(self.value)\\\n",
    "            + ', ' + str(self.calories) + '>' # ex: 'wine: <89, 123>'"
   ]
  },
  {
   "cell_type": "markdown",
   "metadata": {},
   "source": [
    "### Define the buildMenu() function\n",
    "\n",
    "The buildMenu() function will take in a list of names, values, and calories. It will return a list of food items."
   ]
  },
  {
   "cell_type": "code",
   "execution_count": 3,
   "metadata": {},
   "outputs": [],
   "source": [
    "# define the buildMenu function using type hinting\n",
    "def buildMenu(names: list[str], values: list[float], calories: list[float]) -> list[Food]:\n",
    "    \"\"\"names, values, calories lists of same length.\n",
    "       name a list of strings\n",
    "       values and calories lists of numbers\n",
    "       returns list of Foods\"\"\"\n",
    "    menu = []\n",
    "    for i in range(len(values)): # for each item in the list of values\n",
    "        menu.append(Food(names[i], values[i], calories[i])) # create a new food object and append it to the menu\n",
    "    return menu # return the list of foods"
   ]
  },
  {
   "cell_type": "markdown",
   "metadata": {},
   "source": [
    "### Define the greedy algorithm\n",
    "The greed algorithm will take in a list of food items, a maximum calories, and a key function. The key function will be used to sort the food items. The greedy algorithm will return a list of food items that maximize the value while keeping the calories below the maximum calories."
   ]
  },
  {
   "cell_type": "code",
   "execution_count": 4,
   "metadata": {},
   "outputs": [],
   "source": [
    "# define the greedy function using type hinting\n",
    "def greedy(items: list[Food], maxCost: float, keyFunction: Callable[[Food], float]) -> tuple[list[Food], float]:\n",
    "    \"\"\"Assumes items a list, maxCost >= 0,\n",
    "         keyFunction maps elements of items to numbers\"\"\"\n",
    "    itemsCopy = sorted(items, key=keyFunction, reverse=True) # sort items in descending order\n",
    "    result = [] # list of items to return\n",
    "    totalValue, totalCost = 0.0, 0.0 # initialize total value and cost\n",
    "    for i in range(len(itemsCopy)): # for each item in the list\n",
    "        if (totalCost+itemsCopy[i].getCost()) <= maxCost: # if the item is not too expensive\n",
    "            result.append(itemsCopy[i]) # add it to the list\n",
    "            totalCost += itemsCopy[i].getCost() # update the total cost\n",
    "            totalValue += itemsCopy[i].getValue() # update the total value\n",
    "    return (result, totalValue) # return the list of items and the total value"
   ]
  },
  {
   "cell_type": "markdown",
   "metadata": {},
   "source": [
    "### Define the testGreedy() function\n",
    "The testGreedy() function will take in a list of food items, a maximum calories, and a key function. The key function will be used to sort the food items. The testGreedy() function will call the greedy algorithm and print out the total value and calories of the food items."
   ]
  },
  {
   "cell_type": "code",
   "execution_count": 5,
   "metadata": {},
   "outputs": [],
   "source": [
    "# define the testGreedy function using type hinting\n",
    "def testGreedy(items: list[Food], constraint: float, keyFunction: Callable[[Food], float]) -> None:\n",
    "    taken, val = greedy(items, constraint, keyFunction) # call the greedy function to get the list of items and the total value\n",
    "    print('Total value of items taken =', val) # print the total value\n",
    "    for item in taken: # for each item in the list\n",
    "        print('   ', item) # print the item\n",
    "\n"
   ]
  },
  {
   "cell_type": "markdown",
   "metadata": {},
   "source": [
    "### Define the testGreedys() function\n",
    "The testGreedys() function will take in a list of food items, a maximum calories. The testGreedys() function will call the testGreedy() function with the key function set to the value of the food item. It will then call the testGreedy() function with the key function set to 1/calories of the food item. It will then call the testGreedy() function with the key function set to the density of the food item. "
   ]
  },
  {
   "cell_type": "code",
   "execution_count": 6,
   "metadata": {},
   "outputs": [],
   "source": [
    "# define the testGreedys function using type hinting\n",
    "def testGreedys(foods: list[Food], maxUnits: float) -> None:\n",
    "    print('Use greedy by value to allocate', maxUnits, 'calories') # print the title of the test\n",
    "    testGreedy(foods, maxUnits, Food.getValue) # call the testGreedy function to test the greedy function using the value of the food as the key function\n",
    "\n",
    "    print('\\nUse greedy by cost to allocate', maxUnits, 'calories') # print the title of the test\n",
    "    testGreedy(foods, maxUnits, lambda x: 1/Food.getCost(x)) # call the testGreedy function to test the greedy function using the inverse of the cost of the food as the key function\n",
    "    \n",
    "    print('\\nUse greedy by density to allocate', maxUnits, 'calories') # print the title of the test\n",
    "    testGreedy(foods, maxUnits, Food.density) # call the testGreedy function to test the greedy function using the density of the food as the key function"
   ]
  },
  {
   "cell_type": "markdown",
   "metadata": {},
   "source": [
    "### Create a list of food items"
   ]
  },
  {
   "cell_type": "code",
   "execution_count": 7,
   "metadata": {},
   "outputs": [],
   "source": [
    "# create lists of food names (string), values (float), and calories (float)\n",
    "names = ['wine', 'beer', 'pizza', 'burger', 'fries',\n",
    "            'cola', 'apple', 'donut', 'cake']\n",
    "values = [89.0, 90.0, 95.0, 100.0, 90.0, 79.0, 50.0, 10.0]\n",
    "calories = [123.0, 154.0, 258.0, 354.0, 365.0, 150.0, 95.0, 195.0, 200.0]\n",
    "\n"
   ]
  },
  {
   "cell_type": "markdown",
   "metadata": {},
   "source": [
    "### Build the menu"
   ]
  },
  {
   "cell_type": "code",
   "execution_count": 8,
   "metadata": {},
   "outputs": [],
   "source": [
    "# buld the menu using the lists of food names, values, and calories\n",
    "foods = buildMenu(names, values, calories)"
   ]
  },
  {
   "cell_type": "markdown",
   "metadata": {},
   "source": [
    "### Run the greedy algorithm\n"
   ]
  },
  {
   "cell_type": "code",
   "execution_count": 10,
   "metadata": {},
   "outputs": [
    {
     "name": "stdout",
     "output_type": "stream",
     "text": [
      "Use greedy by value to allocate 1000 calories\n",
      "Total value of items taken = 424.0\n",
      "    burger: <100.0, 354.0>\n",
      "    pizza: <95.0, 258.0>\n",
      "    beer: <90.0, 154.0>\n",
      "    wine: <89.0, 123.0>\n",
      "    apple: <50.0, 95.0>\n",
      "\n",
      "Use greedy by cost to allocate 1000 calories\n",
      "Total value of items taken = 413.0\n",
      "    apple: <50.0, 95.0>\n",
      "    wine: <89.0, 123.0>\n",
      "    cola: <79.0, 150.0>\n",
      "    beer: <90.0, 154.0>\n",
      "    donut: <10.0, 195.0>\n",
      "    pizza: <95.0, 258.0>\n",
      "\n",
      "Use greedy by density to allocate 1000 calories\n",
      "Total value of items taken = 413.0\n",
      "    wine: <89.0, 123.0>\n",
      "    beer: <90.0, 154.0>\n",
      "    cola: <79.0, 150.0>\n",
      "    apple: <50.0, 95.0>\n",
      "    pizza: <95.0, 258.0>\n",
      "    donut: <10.0, 195.0>\n"
     ]
    }
   ],
   "source": [
    "# test the greedy algorithm\n",
    "testGreedys(foods=foods, maxUnits=1000) "
   ]
  }
 ],
 "metadata": {
  "kernelspec": {
   "display_name": "Python 3.9.13 ('env_math')",
   "language": "python",
   "name": "python3"
  },
  "language_info": {
   "codemirror_mode": {
    "name": "ipython",
    "version": 3
   },
   "file_extension": ".py",
   "mimetype": "text/x-python",
   "name": "python",
   "nbconvert_exporter": "python",
   "pygments_lexer": "ipython3",
   "version": "3.9.13"
  },
  "orig_nbformat": 4,
  "vscode": {
   "interpreter": {
    "hash": "70342811ac5db431cd7b4e4c0c6a98594dffe684828b1559756a0d79c8514187"
   }
  }
 },
 "nbformat": 4,
 "nbformat_minor": 2
}
