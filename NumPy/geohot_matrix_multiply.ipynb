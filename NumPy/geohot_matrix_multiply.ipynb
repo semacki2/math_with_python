{
 "cells": [
  {
   "cell_type": "code",
   "execution_count": 1,
   "metadata": {},
   "outputs": [],
   "source": [
    "import numpy as np"
   ]
  },
  {
   "cell_type": "code",
   "execution_count": 13,
   "metadata": {},
   "outputs": [
    {
     "name": "stdout",
     "output_type": "stream",
     "text": [
      "[[2022.0902 2057.2764 2051.4507 ... 2015.5394 2020.5918 2033.3157]\n",
      " [2042.06   2059.5034 2066.8706 ... 2031.5669 2045.2524 2058.7104]\n",
      " [2050.4885 2068.7136 2048.8328 ... 2040.3611 2042.9727 2039.723 ]\n",
      " ...\n",
      " [2015.4171 2047.8795 2045.469  ... 2006.2888 2016.3448 2022.7139]\n",
      " [2039.063  2037.867  2040.6936 ... 2024.2001 2016.3317 2042.1473]\n",
      " [2038.1376 2083.1384 2066.9739 ... 2045.7881 2041.0947 2064.2637]]\n"
     ]
    }
   ],
   "source": [
    "N = 8192\n",
    "\n",
    "A = np.random.random((N, N)).astype(np.float32)\n",
    "B = np.random.random((N, N)).astype(np.float32)\n",
    "\n",
    "C = A @ B\n",
    "\n",
    "print(C)"
   ]
  },
  {
   "cell_type": "code",
   "execution_count": null,
   "metadata": {},
   "outputs": [],
   "source": []
  }
 ],
 "metadata": {
  "kernelspec": {
   "display_name": "Python 3.9.13 ('env_math')",
   "language": "python",
   "name": "python3"
  },
  "language_info": {
   "codemirror_mode": {
    "name": "ipython",
    "version": 3
   },
   "file_extension": ".py",
   "mimetype": "text/x-python",
   "name": "python",
   "nbconvert_exporter": "python",
   "pygments_lexer": "ipython3",
   "version": "3.9.13"
  },
  "orig_nbformat": 4,
  "vscode": {
   "interpreter": {
    "hash": "70342811ac5db431cd7b4e4c0c6a98594dffe684828b1559756a0d79c8514187"
   }
  }
 },
 "nbformat": 4,
 "nbformat_minor": 2
}
