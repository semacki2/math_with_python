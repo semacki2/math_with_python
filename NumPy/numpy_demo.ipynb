{
 "cells": [
  {
   "cell_type": "code",
   "execution_count": 1,
   "metadata": {},
   "outputs": [],
   "source": [
    "import numpy as np\n",
    "import matplotlib.pylab as plt\n",
    "from numpy import random"
   ]
  },
  {
   "cell_type": "markdown",
   "metadata": {},
   "source": [
    "#### NumPy Arrays: Creating Arrays"
   ]
  },
  {
   "cell_type": "code",
   "execution_count": 2,
   "metadata": {},
   "outputs": [
    {
     "data": {
      "text/plain": [
       "array([1, 2, 3, 4, 5], dtype=int8)"
      ]
     },
     "execution_count": 2,
     "metadata": {},
     "output_type": "execute_result"
    }
   ],
   "source": [
    "# Create a 1D array\n",
    "list = [1, 2, 3, 4, 5]\n",
    "np_array = np.array(list, dtype=np.int8)\n",
    "np_array\n"
   ]
  },
  {
   "cell_type": "code",
   "execution_count": 3,
   "metadata": {},
   "outputs": [
    {
     "data": {
      "text/plain": [
       "array([[ 1,  2,  3,  4,  5],\n",
       "       [ 6,  7,  8,  9, 10]], dtype=int8)"
      ]
     },
     "execution_count": 3,
     "metadata": {},
     "output_type": "execute_result"
    }
   ],
   "source": [
    "# Create a 2D array\n",
    "md_list = [[1,2,3,4,5], [6,7,8,9,10]]\n",
    "np_md_array = np.array(md_list, dtype=np.int8)\n",
    "np_md_array"
   ]
  },
  {
   "cell_type": "code",
   "execution_count": 4,
   "metadata": {},
   "outputs": [
    {
     "data": {
      "text/plain": [
       "array([0, 2, 4, 6, 8])"
      ]
     },
     "execution_count": 4,
     "metadata": {},
     "output_type": "execute_result"
    }
   ],
   "source": [
    "# Create an array of even values from 0 to 10\n",
    "np.arange(0, 10, 2)"
   ]
  },
  {
   "cell_type": "code",
   "execution_count": 5,
   "metadata": {},
   "outputs": [
    {
     "data": {
      "text/plain": [
       "array([ 0.        ,  1.66666667,  3.33333333,  5.        ,  6.66666667,\n",
       "        8.33333333, 10.        ])"
      ]
     },
     "execution_count": 5,
     "metadata": {},
     "output_type": "execute_result"
    }
   ],
   "source": [
    "# create an array of floats between 0 and 10 with 7 elements\n",
    "np.linspace(0, 10, 7)"
   ]
  },
  {
   "cell_type": "code",
   "execution_count": 6,
   "metadata": {},
   "outputs": [
    {
     "data": {
      "text/plain": [
       "array([0., 0., 0., 0., 0., 0., 0., 0., 0., 0.])"
      ]
     },
     "execution_count": 6,
     "metadata": {},
     "output_type": "execute_result"
    }
   ],
   "source": [
    "# create an array of 10 0's\n",
    "np.zeros(10)"
   ]
  },
  {
   "cell_type": "code",
   "execution_count": 7,
   "metadata": {},
   "outputs": [
    {
     "data": {
      "text/plain": [
       "array([[1., 1., 1., 1.],\n",
       "       [1., 1., 1., 1.]])"
      ]
     },
     "execution_count": 7,
     "metadata": {},
     "output_type": "execute_result"
    }
   ],
   "source": [
    "# create a 2x4 array of 1's\n",
    "np.ones((2,4))"
   ]
  },
  {
   "cell_type": "markdown",
   "metadata": {},
   "source": [
    "#### NumPy Data Types:\n",
    "* Boolean : np.bool_\n",
    "* Char : np.byte\n",
    "* Short : np.short\n",
    "* Integer : np.short\n",
    "* Long : np.int_\n",
    "* Float : np.single or np.float32\n",
    "* Double : np.double or np.float64\n",
    "* np.int8 : Byte (-128 to 127)\n",
    "* np.int16 : Integer (-32768 to 32767)\n",
    "* np.int32 : Integer (-2147483648 to 2147483647)\n",
    "* np.int64 : Integer (-9223372036854775808 to 9223372036854775807)\n",
    "\n"
   ]
  },
  {
   "cell_type": "code",
   "execution_count": 8,
   "metadata": {},
   "outputs": [
    {
     "data": {
      "text/plain": [
       "dtype('int8')"
      ]
     },
     "execution_count": 8,
     "metadata": {},
     "output_type": "execute_result"
    }
   ],
   "source": [
    "# print the data type of the multidimensional array\n",
    "np_md_array.dtype"
   ]
  },
  {
   "cell_type": "code",
   "execution_count": 9,
   "metadata": {},
   "outputs": [
    {
     "data": {
      "text/plain": [
       "array([2, 2, 2, 6, 4])"
      ]
     },
     "execution_count": 9,
     "metadata": {},
     "output_type": "execute_result"
    }
   ],
   "source": [
    "# create an array of 5 random integers between 0 and 10\n",
    "np.random.randint(0, 10, 5)\n"
   ]
  },
  {
   "cell_type": "code",
   "execution_count": 10,
   "metadata": {},
   "outputs": [
    {
     "data": {
      "text/plain": [
       "array([[0.39764671, 0.05108619, 0.61907634],\n",
       "       [0.91049465, 0.50182923, 0.30769784]])"
      ]
     },
     "execution_count": 10,
     "metadata": {},
     "output_type": "execute_result"
    }
   ],
   "source": [
    "# create a 2x3 array of random floats between 0 and 1\n",
    "np.random.random((2,3))"
   ]
  },
  {
   "cell_type": "code",
   "execution_count": 11,
   "metadata": {},
   "outputs": [
    {
     "name": "stdout",
     "output_type": "stream",
     "text": [
      "\u001b[1;31mDocstring:\u001b[0m\n",
      "randint(low, high=None, size=None, dtype=int)\n",
      "\n",
      "Return random integers from `low` (inclusive) to `high` (exclusive).\n",
      "\n",
      "Return random integers from the \"discrete uniform\" distribution of\n",
      "the specified dtype in the \"half-open\" interval [`low`, `high`). If\n",
      "`high` is None (the default), then results are from [0, `low`).\n",
      "\n",
      ".. note::\n",
      "    New code should use the ``integers`` method of a ``default_rng()``\n",
      "    instance instead; please see the :ref:`random-quick-start`.\n",
      "\n",
      "Parameters\n",
      "----------\n",
      "low : int or array-like of ints\n",
      "    Lowest (signed) integers to be drawn from the distribution (unless\n",
      "    ``high=None``, in which case this parameter is one above the\n",
      "    *highest* such integer).\n",
      "high : int or array-like of ints, optional\n",
      "    If provided, one above the largest (signed) integer to be drawn\n",
      "    from the distribution (see above for behavior if ``high=None``).\n",
      "    If array-like, must contain integer values\n",
      "size : int or tuple of ints, optional\n",
      "    Output shape.  If the given shape is, e.g., ``(m, n, k)``, then\n",
      "    ``m * n * k`` samples are drawn.  Default is None, in which case a\n",
      "    single value is returned.\n",
      "dtype : dtype, optional\n",
      "    Desired dtype of the result. Byteorder must be native.\n",
      "    The default value is int.\n",
      "\n",
      "    .. versionadded:: 1.11.0\n",
      "\n",
      "Returns\n",
      "-------\n",
      "out : int or ndarray of ints\n",
      "    `size`-shaped array of random integers from the appropriate\n",
      "    distribution, or a single such random int if `size` not provided.\n",
      "\n",
      "See Also\n",
      "--------\n",
      "random_integers : similar to `randint`, only for the closed\n",
      "    interval [`low`, `high`], and 1 is the lowest value if `high` is\n",
      "    omitted.\n",
      "Generator.integers: which should be used for new code.\n",
      "\n",
      "Examples\n",
      "--------\n",
      ">>> np.random.randint(2, size=10)\n",
      "array([1, 0, 0, 0, 1, 1, 0, 0, 1, 0]) # random\n",
      ">>> np.random.randint(1, size=10)\n",
      "array([0, 0, 0, 0, 0, 0, 0, 0, 0, 0])\n",
      "\n",
      "Generate a 2 x 4 array of ints between 0 and 4, inclusive:\n",
      "\n",
      ">>> np.random.randint(5, size=(2, 4))\n",
      "array([[4, 0, 2, 1], # random\n",
      "       [3, 2, 2, 0]])\n",
      "\n",
      "Generate a 1 x 3 array with 3 different upper bounds\n",
      "\n",
      ">>> np.random.randint(1, [3, 5, 10])\n",
      "array([2, 2, 9]) # random\n",
      "\n",
      "Generate a 1 by 3 array with 3 different lower bounds\n",
      "\n",
      ">>> np.random.randint([1, 5, 7], 10)\n",
      "array([9, 8, 7]) # random\n",
      "\n",
      "Generate a 2 by 4 array using broadcasting with dtype of uint8\n",
      "\n",
      ">>> np.random.randint([1, 3, 5, 7], [[10], [20]], dtype=np.uint8)\n",
      "array([[ 8,  6,  9,  7], # random\n",
      "       [ 1, 16,  9, 12]], dtype=uint8)\n",
      "\u001b[1;31mType:\u001b[0m      builtin_function_or_method\n"
     ]
    }
   ],
   "source": [
    "# print information about the randoint function\n",
    "np.random.randint?"
   ]
  },
  {
   "cell_type": "markdown",
   "metadata": {},
   "source": [
    "### Slices and Indexes"
   ]
  },
  {
   "cell_type": "code",
   "execution_count": 12,
   "metadata": {},
   "outputs": [
    {
     "data": {
      "text/plain": [
       "array([[ 2,  2,  3,  4,  5],\n",
       "       [ 6,  7,  8,  9, 10]], dtype=int8)"
      ]
     },
     "execution_count": 12,
     "metadata": {},
     "output_type": "execute_result"
    }
   ],
   "source": [
    "# set the value of the multidimensional array at 0,0 to 2\n",
    "np_md_array[0,0] = 2\n",
    "np_md_array"
   ]
  },
  {
   "cell_type": "code",
   "execution_count": 13,
   "metadata": {},
   "outputs": [
    {
     "data": {
      "text/plain": [
       "array([[ 2,  5,  3,  4,  5],\n",
       "       [ 6,  7,  8,  9, 10]], dtype=int8)"
      ]
     },
     "execution_count": 13,
     "metadata": {},
     "output_type": "execute_result"
    }
   ],
   "source": [
    "# set the value of the multidimensional array at 0,1 to 5 using itemset\n",
    "np_md_array.itemset((0,1), 5)\n",
    "np_md_array"
   ]
  },
  {
   "cell_type": "code",
   "execution_count": 14,
   "metadata": {},
   "outputs": [
    {
     "data": {
      "text/plain": [
       "(2, 5)"
      ]
     },
     "execution_count": 14,
     "metadata": {},
     "output_type": "execute_result"
    }
   ],
   "source": [
    "# print the shape of the multidimensional array\n",
    "np_md_array.shape"
   ]
  },
  {
   "cell_type": "code",
   "execution_count": 15,
   "metadata": {},
   "outputs": [
    {
     "data": {
      "text/plain": [
       "3"
      ]
     },
     "execution_count": 15,
     "metadata": {},
     "output_type": "execute_result"
    }
   ],
   "source": [
    "# print the value of 0,2 in the multidimensional array\n",
    "np_md_array[0,2]"
   ]
  },
  {
   "cell_type": "code",
   "execution_count": 16,
   "metadata": {},
   "outputs": [
    {
     "data": {
      "text/plain": [
       "8"
      ]
     },
     "execution_count": 16,
     "metadata": {},
     "output_type": "execute_result"
    }
   ],
   "source": [
    "# print the value of 1,2 in the multidimensional array using item()\n",
    "np_md_array.item((1,2))\n"
   ]
  },
  {
   "cell_type": "code",
   "execution_count": 17,
   "metadata": {},
   "outputs": [
    {
     "data": {
      "text/plain": [
       "array([2, 5, 3, 4, 5], dtype=int8)"
      ]
     },
     "execution_count": 17,
     "metadata": {},
     "output_type": "execute_result"
    }
   ],
   "source": [
    "# print the first row of the multidimensional array\n",
    "np_md_array[0,:]"
   ]
  },
  {
   "cell_type": "code",
   "execution_count": 18,
   "metadata": {},
   "outputs": [
    {
     "data": {
      "text/plain": [
       "array([2, 6], dtype=int8)"
      ]
     },
     "execution_count": 18,
     "metadata": {},
     "output_type": "execute_result"
    }
   ],
   "source": [
    "# print the first column of the multidimensional array\n",
    "np_md_array[:,0]"
   ]
  },
  {
   "cell_type": "code",
   "execution_count": 19,
   "metadata": {},
   "outputs": [
    {
     "data": {
      "text/plain": [
       "array([5, 5], dtype=int8)"
      ]
     },
     "execution_count": 19,
     "metadata": {},
     "output_type": "execute_result"
    }
   ],
   "source": [
    "# Print the 2nd and 5th element of the flattened multidimensional array\n",
    "np_md_array.flat[[1,4]]\n"
   ]
  },
  {
   "cell_type": "code",
   "execution_count": 20,
   "metadata": {},
   "outputs": [
    {
     "data": {
      "text/plain": [
       "array([5, 5], dtype=int8)"
      ]
     },
     "execution_count": 20,
     "metadata": {},
     "output_type": "execute_result"
    }
   ],
   "source": [
    " # same as above\n",
    "np.take(np_md_array, [1,4])"
   ]
  },
  {
   "cell_type": "code",
   "execution_count": 21,
   "metadata": {},
   "outputs": [
    {
     "data": {
      "text/plain": [
       "array([1, 3, 5], dtype=int8)"
      ]
     },
     "execution_count": 21,
     "metadata": {},
     "output_type": "execute_result"
    }
   ],
   "source": [
    "# start at 0, end at 5, step by 2\n",
    "np_array[:5:2] "
   ]
  },
  {
   "cell_type": "code",
   "execution_count": 22,
   "metadata": {},
   "outputs": [
    {
     "data": {
      "text/plain": [
       "array([5, 7], dtype=int8)"
      ]
     },
     "execution_count": 22,
     "metadata": {},
     "output_type": "execute_result"
    }
   ],
   "source": [
    "# get the second value of each row in the multidimensional array\n",
    "np_md_array[:,1]"
   ]
  },
  {
   "cell_type": "code",
   "execution_count": 23,
   "metadata": {},
   "outputs": [
    {
     "data": {
      "text/plain": [
       "array([[ 6,  7,  8,  9, 10],\n",
       "       [ 2,  5,  3,  4,  5]], dtype=int8)"
      ]
     },
     "execution_count": 23,
     "metadata": {},
     "output_type": "execute_result"
    }
   ],
   "source": [
    "# reverse the order of the rows in the multidimensional array\n",
    "np_md_array[::-1]"
   ]
  },
  {
   "cell_type": "code",
   "execution_count": 24,
   "metadata": {},
   "outputs": [
    {
     "data": {
      "text/plain": [
       "array([ 2,  4,  6,  8, 10], dtype=int8)"
      ]
     },
     "execution_count": 24,
     "metadata": {},
     "output_type": "execute_result"
    }
   ],
   "source": [
    "# create new array 'evens' with only the even values from the multidimensional array\n",
    "evens = np_md_array[np_md_array % 2 == 0]\n",
    "evens"
   ]
  },
  {
   "cell_type": "code",
   "execution_count": 25,
   "metadata": {},
   "outputs": [
    {
     "data": {
      "text/plain": [
       "array([ 6,  7,  8,  9, 10], dtype=int8)"
      ]
     },
     "execution_count": 25,
     "metadata": {},
     "output_type": "execute_result"
    }
   ],
   "source": [
    "# print values in the multidimensional array that are greater than 5\n",
    "np_md_array[np_md_array > 5]"
   ]
  },
  {
   "cell_type": "code",
   "execution_count": 26,
   "metadata": {},
   "outputs": [
    {
     "data": {
      "text/plain": [
       "array([ 2,  3,  4,  9, 10], dtype=int8)"
      ]
     },
     "execution_count": 26,
     "metadata": {},
     "output_type": "execute_result"
    }
   ],
   "source": [
    "# print the values in the multidimensional array that are less than 5 or greater than 8\n",
    "np_md_array[(np_md_array < 5) | (np_md_array > 8)]\n"
   ]
  },
  {
   "cell_type": "code",
   "execution_count": 27,
   "metadata": {},
   "outputs": [
    {
     "data": {
      "text/plain": [
       "array([ 2,  3,  4,  5,  6,  7,  8,  9, 10], dtype=int8)"
      ]
     },
     "execution_count": 27,
     "metadata": {},
     "output_type": "execute_result"
    }
   ],
   "source": [
    "# print all unique values in the multidimensional array\n",
    "np.unique(np_md_array)\n"
   ]
  },
  {
   "cell_type": "markdown",
   "metadata": {},
   "source": [
    "### Reshaping Arrays"
   ]
  },
  {
   "cell_type": "code",
   "execution_count": 28,
   "metadata": {},
   "outputs": [
    {
     "data": {
      "text/plain": [
       "array([[ 2,  5,  3,  4,  5,  6,  7,  8,  9, 10]], dtype=int8)"
      ]
     },
     "execution_count": 28,
     "metadata": {},
     "output_type": "execute_result"
    }
   ],
   "source": [
    "# reshape the multidimensional array to a 1x10 array\n",
    "np_md_array.reshape(1,10)\n"
   ]
  },
  {
   "cell_type": "code",
   "execution_count": 29,
   "metadata": {},
   "outputs": [
    {
     "data": {
      "text/plain": [
       "array([[ 2,  5,  3,  4],\n",
       "       [ 5,  6,  7,  8],\n",
       "       [ 9, 10,  2,  5]], dtype=int8)"
      ]
     },
     "execution_count": 29,
     "metadata": {},
     "output_type": "execute_result"
    }
   ],
   "source": [
    "# resize the multidimensional array to a 3x4 array\n",
    "np.resize(np_md_array, (3,4))\n"
   ]
  },
  {
   "cell_type": "code",
   "execution_count": 30,
   "metadata": {},
   "outputs": [
    {
     "data": {
      "text/plain": [
       "array([[ 2,  6],\n",
       "       [ 5,  7],\n",
       "       [ 3,  8],\n",
       "       [ 4,  9],\n",
       "       [ 5, 10]], dtype=int8)"
      ]
     },
     "execution_count": 30,
     "metadata": {},
     "output_type": "execute_result"
    }
   ],
   "source": [
    "# transpose the multidimensional array\n",
    "np_md_array.T\n"
   ]
  },
  {
   "cell_type": "code",
   "execution_count": 31,
   "metadata": {},
   "outputs": [
    {
     "data": {
      "text/plain": [
       "array([[ 2,  6],\n",
       "       [ 5,  7],\n",
       "       [ 3,  8],\n",
       "       [ 4,  9],\n",
       "       [ 5, 10]], dtype=int8)"
      ]
     },
     "execution_count": 31,
     "metadata": {},
     "output_type": "execute_result"
    }
   ],
   "source": [
    "# transpose the multidimensional array\n",
    "np.transpose(np_md_array)"
   ]
  },
  {
   "cell_type": "code",
   "execution_count": 32,
   "metadata": {},
   "outputs": [
    {
     "data": {
      "text/plain": [
       "array([[ 2,  6],\n",
       "       [ 5,  7],\n",
       "       [ 3,  8],\n",
       "       [ 4,  9],\n",
       "       [ 5, 10]], dtype=int8)"
      ]
     },
     "execution_count": 32,
     "metadata": {},
     "output_type": "execute_result"
    }
   ],
   "source": [
    "# transpose the multidimensional array\n",
    "np_md_array.transpose()"
   ]
  },
  {
   "cell_type": "code",
   "execution_count": 33,
   "metadata": {},
   "outputs": [
    {
     "data": {
      "text/plain": [
       "array([[ 2,  6],\n",
       "       [ 5,  7],\n",
       "       [ 3,  8],\n",
       "       [ 4,  9],\n",
       "       [ 5, 10]], dtype=int8)"
      ]
     },
     "execution_count": 33,
     "metadata": {},
     "output_type": "execute_result"
    }
   ],
   "source": [
    "# swap the axes of the multidimensional array\n",
    "np.swapaxes(np_md_array, 0, 1)\n"
   ]
  },
  {
   "cell_type": "code",
   "execution_count": 34,
   "metadata": {},
   "outputs": [
    {
     "data": {
      "text/plain": [
       "array([ 2,  5,  3,  4,  5,  6,  7,  8,  9, 10], dtype=int8)"
      ]
     },
     "execution_count": 34,
     "metadata": {},
     "output_type": "execute_result"
    }
   ],
   "source": [
    "# flatten the multidimensional array\n",
    "np_md_array.flatten()\n"
   ]
  },
  {
   "cell_type": "code",
   "execution_count": 35,
   "metadata": {},
   "outputs": [
    {
     "data": {
      "text/plain": [
       "array([ 2,  6,  5,  7,  3,  8,  4,  9,  5, 10], dtype=int8)"
      ]
     },
     "execution_count": 35,
     "metadata": {},
     "output_type": "execute_result"
    }
   ],
   "source": [
    "# flatten the multidimensional array in column-major order\n",
    "np_md_array.flatten(order='F')\n"
   ]
  },
  {
   "cell_type": "code",
   "execution_count": 36,
   "metadata": {},
   "outputs": [
    {
     "data": {
      "text/plain": [
       "array([[ 2,  3,  4,  5,  5],\n",
       "       [ 6,  7,  8,  9, 10]], dtype=int8)"
      ]
     },
     "execution_count": 36,
     "metadata": {},
     "output_type": "execute_result"
    }
   ],
   "source": [
    "# sort the rows of the multidimensional array\n",
    "np.sort(np_md_array, axis=1)"
   ]
  },
  {
   "cell_type": "code",
   "execution_count": 37,
   "metadata": {},
   "outputs": [
    {
     "data": {
      "text/plain": [
       "array([[ 2,  3,  4,  5,  5],\n",
       "       [ 6,  7,  8,  9, 10]], dtype=int8)"
      ]
     },
     "execution_count": 37,
     "metadata": {},
     "output_type": "execute_result"
    }
   ],
   "source": [
    "# sort the rows of the multidimensional array\n",
    "np_md_array.sort(axis=1)\n",
    "np_md_array"
   ]
  },
  {
   "cell_type": "code",
   "execution_count": 38,
   "metadata": {},
   "outputs": [
    {
     "data": {
      "text/plain": [
       "array([[ 6,  7,  8,  9, 10],\n",
       "       [ 2,  3,  4,  5,  5]], dtype=int8)"
      ]
     },
     "execution_count": 38,
     "metadata": {},
     "output_type": "execute_result"
    }
   ],
   "source": [
    "# sort the columns of the multidimensional array in descending order\n",
    "np_md_array.sort(axis=0)\n",
    "np_md_array[::-1]"
   ]
  },
  {
   "cell_type": "markdown",
   "metadata": {},
   "source": [
    "### Stacking and Splitting Arrays"
   ]
  },
  {
   "cell_type": "code",
   "execution_count": 39,
   "metadata": {},
   "outputs": [
    {
     "data": {
      "text/plain": [
       "array([[5, 4],\n",
       "       [8, 0]])"
      ]
     },
     "execution_count": 39,
     "metadata": {},
     "output_type": "execute_result"
    }
   ],
   "source": [
    "# create a new 2x2 array with random integers between 0 and 10\n",
    "ss_array_1 = np.random.randint(0, 10, (2,2))\n",
    "ss_array_1"
   ]
  },
  {
   "cell_type": "code",
   "execution_count": 40,
   "metadata": {},
   "outputs": [
    {
     "data": {
      "text/plain": [
       "array([[8, 8],\n",
       "       [3, 0]])"
      ]
     },
     "execution_count": 40,
     "metadata": {},
     "output_type": "execute_result"
    }
   ],
   "source": [
    "# create a second 2x2 array with random integers between 0 and 10\n",
    "ss_array_2 = np.random.randint(0, 10, (2,2))\n",
    "ss_array_2"
   ]
  },
  {
   "cell_type": "code",
   "execution_count": 41,
   "metadata": {},
   "outputs": [
    {
     "name": "stdout",
     "output_type": "stream",
     "text": [
      "ss_array_1\n",
      " [[5 4]\n",
      " [8 0]]\n",
      "ss_array_2\n",
      " [[8 8]\n",
      " [3 0]]\n"
     ]
    },
    {
     "data": {
      "text/plain": [
       "array([[5, 4],\n",
       "       [8, 0],\n",
       "       [8, 8],\n",
       "       [3, 0]])"
      ]
     },
     "execution_count": 41,
     "metadata": {},
     "output_type": "execute_result"
    }
   ],
   "source": [
    "print(\"ss_array_1\\n\", ss_array_1)\n",
    "print(\"ss_array_2\\n\", ss_array_2)\n",
    "\n",
    "# stack array 2 under array 1\n",
    "np.vstack((ss_array_1, ss_array_2))"
   ]
  },
  {
   "cell_type": "code",
   "execution_count": 42,
   "metadata": {},
   "outputs": [
    {
     "name": "stdout",
     "output_type": "stream",
     "text": [
      "ss_array_1\n",
      " [[5 4]\n",
      " [8 0]]\n",
      "ss_array_2\n",
      " [[8 8]\n",
      " [3 0]]\n"
     ]
    },
    {
     "data": {
      "text/plain": [
       "array([[5, 4, 8, 8],\n",
       "       [8, 0, 3, 0]])"
      ]
     },
     "execution_count": 42,
     "metadata": {},
     "output_type": "execute_result"
    }
   ],
   "source": [
    "print(\"ss_array_1\\n\", ss_array_1)\n",
    "print(\"ss_array_2\\n\", ss_array_2)\n",
    "\n",
    "# stack array 2 to the right of array 1\n",
    "np.hstack((ss_array_1, ss_array_2))\n"
   ]
  },
  {
   "cell_type": "code",
   "execution_count": 43,
   "metadata": {},
   "outputs": [
    {
     "data": {
      "text/plain": [
       "array([[5, 4]])"
      ]
     },
     "execution_count": 43,
     "metadata": {},
     "output_type": "execute_result"
    }
   ],
   "source": [
    "# create a new array by deleting the second row of the first array\n",
    "ss_array_3 = np.delete(ss_array_1, 1, 0)\n",
    "ss_array_3"
   ]
  },
  {
   "cell_type": "code",
   "execution_count": 44,
   "metadata": {},
   "outputs": [
    {
     "data": {
      "text/plain": [
       "array([[8, 8]])"
      ]
     },
     "execution_count": 44,
     "metadata": {},
     "output_type": "execute_result"
    }
   ],
   "source": [
    "# create a new array by deleting the second row of the second array\n",
    "ss_array_4 = np.delete(ss_array_2, 1, 0)\n",
    "ss_array_4"
   ]
  },
  {
   "cell_type": "code",
   "execution_count": 45,
   "metadata": {},
   "outputs": [
    {
     "data": {
      "text/plain": [
       "array([[5, 4, 8, 8]])"
      ]
     },
     "execution_count": 45,
     "metadata": {},
     "output_type": "execute_result"
    }
   ],
   "source": [
    "# column stack the two arrays\n",
    "np.column_stack((ss_array_3, ss_array_4))"
   ]
  },
  {
   "cell_type": "code",
   "execution_count": 46,
   "metadata": {},
   "outputs": [
    {
     "data": {
      "text/plain": [
       "array([[5, 4],\n",
       "       [8, 8]])"
      ]
     },
     "execution_count": 46,
     "metadata": {},
     "output_type": "execute_result"
    }
   ],
   "source": [
    "# row stack the two arrays\n",
    "np.row_stack((ss_array_3, ss_array_4))"
   ]
  },
  {
   "cell_type": "code",
   "execution_count": 47,
   "metadata": {},
   "outputs": [
    {
     "data": {
      "text/plain": [
       "array([[5, 4],\n",
       "       [8, 8]])"
      ]
     },
     "execution_count": 47,
     "metadata": {},
     "output_type": "execute_result"
    }
   ],
   "source": [
    "# concatenate the two arrays\n",
    "np.concatenate((ss_array_3, ss_array_4), axis=0)"
   ]
  },
  {
   "cell_type": "code",
   "execution_count": 48,
   "metadata": {},
   "outputs": [
    {
     "data": {
      "text/plain": [
       "array([[5, 4, 8, 8]])"
      ]
     },
     "execution_count": 48,
     "metadata": {},
     "output_type": "execute_result"
    }
   ],
   "source": [
    "# concatenate the two arrays\n",
    "np.concatenate((ss_array_3, ss_array_4), axis=1)"
   ]
  },
  {
   "cell_type": "code",
   "execution_count": 49,
   "metadata": {},
   "outputs": [
    {
     "data": {
      "text/plain": [
       "array([[7, 0, 4, 6, 0, 4, 9, 8, 5, 9],\n",
       "       [8, 8, 5, 0, 8, 9, 5, 2, 3, 5]])"
      ]
     },
     "execution_count": 49,
     "metadata": {},
     "output_type": "execute_result"
    }
   ],
   "source": [
    "# create \"ss_array_5\" as a 2x10 array of random integers between 0 and 10\n",
    "ss_array_5 = np.random.randint(0, 10, (2,10))\n",
    "ss_array_5"
   ]
  },
  {
   "cell_type": "code",
   "execution_count": 50,
   "metadata": {},
   "outputs": [
    {
     "name": "stdout",
     "output_type": "stream",
     "text": [
      "ss_array_5\n",
      " [[7 0 4 6 0 4 9 8 5 9]\n",
      " [8 8 5 0 8 9 5 2 3 5]]\n"
     ]
    },
    {
     "data": {
      "text/plain": [
       "[array([[7, 0],\n",
       "        [8, 8]]),\n",
       " array([[4, 6],\n",
       "        [5, 0]]),\n",
       " array([[0, 4],\n",
       "        [8, 9]]),\n",
       " array([[9, 8],\n",
       "        [5, 2]]),\n",
       " array([[5, 9],\n",
       "        [3, 5]])]"
      ]
     },
     "execution_count": 50,
     "metadata": {},
     "output_type": "execute_result"
    }
   ],
   "source": [
    "print(\"ss_array_5\\n\", ss_array_5)\n",
    "\n",
    "# split the array into 5 subarrays\n",
    "np.split(ss_array_5, 5, axis=1)"
   ]
  },
  {
   "cell_type": "code",
   "execution_count": 51,
   "metadata": {},
   "outputs": [
    {
     "name": "stdout",
     "output_type": "stream",
     "text": [
      "ss_array_5\n",
      " [[7 0 4 6 0 4 9 8 5 9]\n",
      " [8 8 5 0 8 9 5 2 3 5]]\n"
     ]
    },
    {
     "data": {
      "text/plain": [
       "[array([[7, 0],\n",
       "        [8, 8]]),\n",
       " array([[4, 6],\n",
       "        [5, 0]]),\n",
       " array([[0, 4],\n",
       "        [8, 9]]),\n",
       " array([[9, 8],\n",
       "        [5, 2]]),\n",
       " array([[5, 9],\n",
       "        [3, 5]])]"
      ]
     },
     "execution_count": 51,
     "metadata": {},
     "output_type": "execute_result"
    }
   ],
   "source": [
    "print(\"ss_array_5\\n\", ss_array_5)\n",
    "\n",
    "# split the array into 5 subarrays\n",
    "np.hsplit(ss_array_5, 5)\n"
   ]
  },
  {
   "cell_type": "markdown",
   "metadata": {},
   "source": [
    "### Copying Arrays"
   ]
  },
  {
   "cell_type": "code",
   "execution_count": 52,
   "metadata": {},
   "outputs": [
    {
     "data": {
      "text/plain": [
       "array([[7, 8],\n",
       "       [6, 6]])"
      ]
     },
     "execution_count": 52,
     "metadata": {},
     "output_type": "execute_result"
    }
   ],
   "source": [
    "# create \"cp_array_1\" as a 2x2 array of random integers between 0 and 10\n",
    "cp_array_1 = np.random.randint(0, 10, (2,2))\n",
    "cp_array_1"
   ]
  },
  {
   "cell_type": "code",
   "execution_count": 53,
   "metadata": {},
   "outputs": [
    {
     "data": {
      "text/plain": [
       "array([[7, 8],\n",
       "       [6, 6]])"
      ]
     },
     "execution_count": 53,
     "metadata": {},
     "output_type": "execute_result"
    }
   ],
   "source": [
    "# create \"cp_array_2\" as a copy of \"cp_array_1\" by reference\n",
    "cp_array_2 = cp_array_1\n",
    "cp_array_2"
   ]
  },
  {
   "cell_type": "code",
   "execution_count": 54,
   "metadata": {},
   "outputs": [
    {
     "data": {
      "text/plain": [
       "array([[100,   8],\n",
       "       [  6,   6]])"
      ]
     },
     "execution_count": 54,
     "metadata": {},
     "output_type": "execute_result"
    }
   ],
   "source": [
    "# change the value of the first element in \"cp_array_1\" to 100\n",
    "cp_array_1[0,0] = 100\n",
    "cp_array_1"
   ]
  },
  {
   "cell_type": "code",
   "execution_count": 55,
   "metadata": {},
   "outputs": [
    {
     "data": {
      "text/plain": [
       "array([[100,   8],\n",
       "       [  6,   6]])"
      ]
     },
     "execution_count": 55,
     "metadata": {},
     "output_type": "execute_result"
    }
   ],
   "source": [
    "cp_array_2"
   ]
  },
  {
   "cell_type": "code",
   "execution_count": 56,
   "metadata": {},
   "outputs": [
    {
     "data": {
      "text/plain": [
       "array([[100,   8],\n",
       "       [  6,   6]])"
      ]
     },
     "execution_count": 56,
     "metadata": {},
     "output_type": "execute_result"
    }
   ],
   "source": [
    "# create \"cp_array_3\" as a view of \"cp_array_1\"\n",
    "cp_array_3 = cp_array_1.view()\n",
    "cp_array_3"
   ]
  },
  {
   "cell_type": "code",
   "execution_count": 57,
   "metadata": {},
   "outputs": [
    {
     "data": {
      "text/plain": [
       "array([[100,   8],\n",
       "       [  6,   6]])"
      ]
     },
     "execution_count": 57,
     "metadata": {},
     "output_type": "execute_result"
    }
   ],
   "source": [
    "# create \"cp_array_4\" as a copy of \"cp_array_1\" by value\n",
    "cp_array_4 = cp_array_1.copy()\n",
    "cp_array_4\n"
   ]
  },
  {
   "cell_type": "markdown",
   "metadata": {},
   "source": [
    "### Basic Math"
   ]
  },
  {
   "cell_type": "code",
   "execution_count": 58,
   "metadata": {},
   "outputs": [],
   "source": [
    "array_3 = np.array([1,2,3,4])\n",
    "array_4 = np.array([2,4,6,8])\n"
   ]
  },
  {
   "cell_type": "code",
   "execution_count": 59,
   "metadata": {},
   "outputs": [
    {
     "data": {
      "text/plain": [
       "array([ 3,  6,  9, 12])"
      ]
     },
     "execution_count": 59,
     "metadata": {},
     "output_type": "execute_result"
    }
   ],
   "source": [
    "# add array_3 and array_4\n",
    "array_3 + array_4"
   ]
  },
  {
   "cell_type": "code",
   "execution_count": 60,
   "metadata": {},
   "outputs": [
    {
     "data": {
      "text/plain": [
       "array([1, 2, 3, 4])"
      ]
     },
     "execution_count": 60,
     "metadata": {},
     "output_type": "execute_result"
    }
   ],
   "source": [
    "# subtract array_3 from array_4\n",
    "array_4 - array_3"
   ]
  },
  {
   "cell_type": "code",
   "execution_count": 61,
   "metadata": {},
   "outputs": [
    {
     "data": {
      "text/plain": [
       "array([ 2,  8, 18, 32])"
      ]
     },
     "execution_count": 61,
     "metadata": {},
     "output_type": "execute_result"
    }
   ],
   "source": [
    "# multiply array_3 by array_4\n",
    "array_3 * array_4\n"
   ]
  },
  {
   "cell_type": "code",
   "execution_count": 62,
   "metadata": {},
   "outputs": [
    {
     "data": {
      "text/plain": [
       "array([2., 2., 2., 2.])"
      ]
     },
     "execution_count": 62,
     "metadata": {},
     "output_type": "execute_result"
    }
   ],
   "source": [
    "# divide array_4 by array_3\n",
    "array_4 / array_3\n"
   ]
  },
  {
   "cell_type": "code",
   "execution_count": 63,
   "metadata": {},
   "outputs": [
    {
     "data": {
      "text/plain": [
       "array([[45,  5, 15],\n",
       "       [76,  2, 79]])"
      ]
     },
     "execution_count": 63,
     "metadata": {},
     "output_type": "execute_result"
    }
   ],
   "source": [
    "# create array_5 as a 2x3 array of random integers between 0 and 100\n",
    "array_5 = np.random.randint(0, 100, (2,3))\n",
    "array_5"
   ]
  },
  {
   "cell_type": "code",
   "execution_count": 64,
   "metadata": {},
   "outputs": [
    {
     "data": {
      "text/plain": [
       "90"
      ]
     },
     "execution_count": 64,
     "metadata": {},
     "output_type": "execute_result"
    }
   ],
   "source": [
    "# create array_6 as a 1x4 array of random integers between 0 and 100\n",
    "array_6 = np.random.randint(0, 100)\n",
    "array_6\n"
   ]
  },
  {
   "cell_type": "code",
   "execution_count": 65,
   "metadata": {},
   "outputs": [
    {
     "data": {
      "text/plain": [
       "82"
      ]
     },
     "execution_count": 65,
     "metadata": {},
     "output_type": "execute_result"
    }
   ],
   "source": [
    "# pull a random value from array_6\n",
    "np.random.choice(array_6)"
   ]
  },
  {
   "cell_type": "code",
   "execution_count": 66,
   "metadata": {},
   "outputs": [
    {
     "data": {
      "text/plain": [
       "222"
      ]
     },
     "execution_count": 66,
     "metadata": {},
     "output_type": "execute_result"
    }
   ],
   "source": [
    "# find the sum of all values in array_5\n",
    "np.sum(array_5)"
   ]
  },
  {
   "cell_type": "code",
   "execution_count": 67,
   "metadata": {},
   "outputs": [
    {
     "data": {
      "text/plain": [
       "array([ 65, 157])"
      ]
     },
     "execution_count": 67,
     "metadata": {},
     "output_type": "execute_result"
    }
   ],
   "source": [
    "# find the sum of all values in array_5 by row\n",
    "np.sum(array_5, axis=1)\n"
   ]
  },
  {
   "cell_type": "code",
   "execution_count": 68,
   "metadata": {},
   "outputs": [
    {
     "data": {
      "text/plain": [
       "array([121,   7,  94])"
      ]
     },
     "execution_count": 68,
     "metadata": {},
     "output_type": "execute_result"
    }
   ],
   "source": [
    "# find the sum of all values in array_5 by column\n",
    "np.sum(array_5, axis=0)"
   ]
  },
  {
   "cell_type": "code",
   "execution_count": 69,
   "metadata": {},
   "outputs": [
    {
     "data": {
      "text/plain": [
       "array([ 45,  50,  65, 141, 143, 222], dtype=int32)"
      ]
     },
     "execution_count": 69,
     "metadata": {},
     "output_type": "execute_result"
    }
   ],
   "source": [
    "# find the cumulative sum of all values in array_5\n",
    "np.cumsum(array_5)\n"
   ]
  },
  {
   "cell_type": "code",
   "execution_count": 70,
   "metadata": {},
   "outputs": [
    {
     "data": {
      "text/plain": [
       "array([[ 45,  50,  65],\n",
       "       [ 76,  78, 157]], dtype=int32)"
      ]
     },
     "execution_count": 70,
     "metadata": {},
     "output_type": "execute_result"
    }
   ],
   "source": [
    "# find the cumulative sum of all values in array_5 by row\n",
    "np.cumsum(array_5, axis=1)"
   ]
  },
  {
   "cell_type": "code",
   "execution_count": 71,
   "metadata": {},
   "outputs": [
    {
     "data": {
      "text/plain": [
       "array([[ 45,   5,  15],\n",
       "       [121,   7,  94]], dtype=int32)"
      ]
     },
     "execution_count": 71,
     "metadata": {},
     "output_type": "execute_result"
    }
   ],
   "source": [
    "# find the cumulative sum of all values in array_5 by column\n",
    "np.cumsum(array_5, axis=0)"
   ]
  },
  {
   "cell_type": "code",
   "execution_count": 72,
   "metadata": {},
   "outputs": [
    {
     "data": {
      "text/plain": [
       "array([5, 2])"
      ]
     },
     "execution_count": 72,
     "metadata": {},
     "output_type": "execute_result"
    }
   ],
   "source": [
    "# find the minimum value in array_5 by row\n",
    "np.min(array_5, axis=1)"
   ]
  },
  {
   "cell_type": "code",
   "execution_count": 73,
   "metadata": {},
   "outputs": [
    {
     "data": {
      "text/plain": [
       "array([76,  5, 79])"
      ]
     },
     "execution_count": 73,
     "metadata": {},
     "output_type": "execute_result"
    }
   ],
   "source": [
    "# find the maximum value in array_5 by column\n",
    "np.max(array_5, axis=0)\n"
   ]
  },
  {
   "cell_type": "code",
   "execution_count": 74,
   "metadata": {},
   "outputs": [
    {
     "data": {
      "text/plain": [
       "37.0"
      ]
     },
     "execution_count": 74,
     "metadata": {},
     "output_type": "execute_result"
    }
   ],
   "source": [
    "# find the mean of all values in array_5\n",
    "np.mean(array_5)"
   ]
  },
  {
   "cell_type": "code",
   "execution_count": 75,
   "metadata": {},
   "outputs": [
    {
     "data": {
      "text/plain": [
       "array([21.66666667, 52.33333333])"
      ]
     },
     "execution_count": 75,
     "metadata": {},
     "output_type": "execute_result"
    }
   ],
   "source": [
    "# find the mean of all values in array_5 by row\n",
    "np.mean(array_5, axis=1)\n"
   ]
  },
  {
   "cell_type": "code",
   "execution_count": 76,
   "metadata": {},
   "outputs": [
    {
     "data": {
      "text/plain": [
       "array([[50, 10, 20],\n",
       "       [81,  7, 84]])"
      ]
     },
     "execution_count": 76,
     "metadata": {},
     "output_type": "execute_result"
    }
   ],
   "source": [
    "# add 5 to all values in array_5\n",
    "array_5 + 5\n"
   ]
  },
  {
   "cell_type": "code",
   "execution_count": 77,
   "metadata": {},
   "outputs": [
    {
     "data": {
      "text/plain": [
       "array([[50, 10, 20],\n",
       "       [81,  7, 84]])"
      ]
     },
     "execution_count": 77,
     "metadata": {},
     "output_type": "execute_result"
    }
   ],
   "source": [
    "# add 5 to all the values in array_5\n",
    "np.add(array_5, 5)"
   ]
  },
  {
   "cell_type": "code",
   "execution_count": 78,
   "metadata": {},
   "outputs": [
    {
     "data": {
      "text/plain": [
       "array([[40,  0, 10],\n",
       "       [71, -3, 74]])"
      ]
     },
     "execution_count": 78,
     "metadata": {},
     "output_type": "execute_result"
    }
   ],
   "source": [
    "# subtract 5 from all the values in array_5\n",
    "np.subtract(array_5, 5)"
   ]
  },
  {
   "cell_type": "code",
   "execution_count": 79,
   "metadata": {},
   "outputs": [
    {
     "data": {
      "text/plain": [
       "array([ 2,  8, 18, 32])"
      ]
     },
     "execution_count": 79,
     "metadata": {},
     "output_type": "execute_result"
    }
   ],
   "source": [
    "# multiply array_3 by array_4\n",
    "np.multiply(array_3, array_4)"
   ]
  },
  {
   "cell_type": "code",
   "execution_count": 80,
   "metadata": {},
   "outputs": [],
   "source": [
    "array_7 = np.array([[1,2],[3,4]])\n",
    "array_8 = np.array([[2,4],[6,9]])"
   ]
  },
  {
   "cell_type": "code",
   "execution_count": 81,
   "metadata": {},
   "outputs": [
    {
     "data": {
      "text/plain": [
       "array([[0, 0],\n",
       "       [0, 1]], dtype=int32)"
      ]
     },
     "execution_count": 81,
     "metadata": {},
     "output_type": "execute_result"
    }
   ],
   "source": [
    "# find the remainder of array_8 divided by array_7\n",
    "np.remainder(array_8, array_7)\n"
   ]
  },
  {
   "cell_type": "code",
   "execution_count": 82,
   "metadata": {},
   "outputs": [
    {
     "data": {
      "text/plain": [
       "array([[   2,   16],\n",
       "       [ 216, 6561]], dtype=int32)"
      ]
     },
     "execution_count": 82,
     "metadata": {},
     "output_type": "execute_result"
    }
   ],
   "source": [
    "# array_8 raised to the power of array_7\n",
    "np.power(array_8, array_7)"
   ]
  },
  {
   "cell_type": "code",
   "execution_count": 83,
   "metadata": {},
   "outputs": [
    {
     "data": {
      "text/plain": [
       "array([[1.41421356, 2.        ],\n",
       "       [2.44948974, 3.        ]])"
      ]
     },
     "execution_count": 83,
     "metadata": {},
     "output_type": "execute_result"
    }
   ],
   "source": [
    "# find the square root of all values in array_8\n",
    "np.sqrt(array_8)"
   ]
  },
  {
   "cell_type": "code",
   "execution_count": 84,
   "metadata": {},
   "outputs": [
    {
     "data": {
      "text/plain": [
       "array([[7.38905610e+00, 5.45981500e+01],\n",
       "       [4.03428793e+02, 8.10308393e+03]])"
      ]
     },
     "execution_count": 84,
     "metadata": {},
     "output_type": "execute_result"
    }
   ],
   "source": [
    "# find the exponential of all values in array_8\n",
    "np.exp(array_8)"
   ]
  },
  {
   "cell_type": "code",
   "execution_count": 85,
   "metadata": {},
   "outputs": [
    {
     "data": {
      "text/plain": [
       "array([[0.69314718, 1.38629436],\n",
       "       [1.79175947, 2.19722458]])"
      ]
     },
     "execution_count": 85,
     "metadata": {},
     "output_type": "execute_result"
    }
   ],
   "source": [
    "# find the logarithm of all values in array_8\n",
    "np.log(array_8)"
   ]
  },
  {
   "cell_type": "code",
   "execution_count": 86,
   "metadata": {},
   "outputs": [
    {
     "data": {
      "text/plain": [
       "array([[1.       , 2.       ],\n",
       "       [2.5849625, 3.169925 ]])"
      ]
     },
     "execution_count": 86,
     "metadata": {},
     "output_type": "execute_result"
    }
   ],
   "source": [
    "# find log base 2 of all values in array_8\n",
    "np.log2(array_8)"
   ]
  },
  {
   "cell_type": "code",
   "execution_count": 87,
   "metadata": {},
   "outputs": [
    {
     "data": {
      "text/plain": [
       "array([[ 0.90929743, -0.7568025 ],\n",
       "       [-0.2794155 ,  0.41211849]])"
      ]
     },
     "execution_count": 87,
     "metadata": {},
     "output_type": "execute_result"
    }
   ],
   "source": [
    "# find the sine of all values in array_8\n",
    "np.sin(array_8)"
   ]
  },
  {
   "cell_type": "code",
   "execution_count": 88,
   "metadata": {},
   "outputs": [
    {
     "data": {
      "text/plain": [
       "1"
      ]
     },
     "execution_count": 88,
     "metadata": {},
     "output_type": "execute_result"
    }
   ],
   "source": [
    "# find the greatest common denominator of all values in array_8\n",
    "np.gcd.reduce(array_8.flatten())"
   ]
  },
  {
   "cell_type": "code",
   "execution_count": 89,
   "metadata": {},
   "outputs": [
    {
     "data": {
      "text/plain": [
       "12"
      ]
     },
     "execution_count": 89,
     "metadata": {},
     "output_type": "execute_result"
    }
   ],
   "source": [
    "# find the least common multiple of all values in array_7\n",
    "np.lcm.reduce(array_7.flatten())"
   ]
  },
  {
   "cell_type": "code",
   "execution_count": 90,
   "metadata": {},
   "outputs": [
    {
     "data": {
      "text/plain": [
       "array([ 0,  1,  4,  9, 16, 25], dtype=int32)"
      ]
     },
     "execution_count": 90,
     "metadata": {},
     "output_type": "execute_result"
    }
   ],
   "source": [
    "square_array = np.arange(6)**2\n",
    "square_array"
   ]
  },
  {
   "cell_type": "code",
   "execution_count": 91,
   "metadata": {},
   "outputs": [
    {
     "data": {
      "text/plain": [
       "array([ 1,  4,  9, 16], dtype=int32)"
      ]
     },
     "execution_count": 91,
     "metadata": {},
     "output_type": "execute_result"
    }
   ],
   "source": [
    "square_array[array_3]"
   ]
  },
  {
   "cell_type": "code",
   "execution_count": 92,
   "metadata": {},
   "outputs": [
    {
     "data": {
      "text/plain": [
       "array([[1, 3, 5],\n",
       "       [5, 8, 5],\n",
       "       [5, 8, 0],\n",
       "       [5, 5, 9],\n",
       "       [3, 5, 8]])"
      ]
     },
     "execution_count": 92,
     "metadata": {},
     "output_type": "execute_result"
    }
   ],
   "source": [
    "# create array_9 as a 5x3 array of random integers between 0 and 10\n",
    "array_9 = np.random.randint(0, 10, (5,3))\n",
    "array_9"
   ]
  },
  {
   "cell_type": "code",
   "execution_count": 93,
   "metadata": {},
   "outputs": [
    {
     "data": {
      "text/plain": [
       "array([1, 1, 3], dtype=int64)"
      ]
     },
     "execution_count": 93,
     "metadata": {},
     "output_type": "execute_result"
    }
   ],
   "source": [
    "# find the index of the max value per column in array_9\n",
    "max_index = array_9.argmax(axis=0)\n",
    "max_index\n"
   ]
  },
  {
   "cell_type": "code",
   "execution_count": 94,
   "metadata": {},
   "outputs": [
    {
     "data": {
      "text/plain": [
       "array([[5, 8, 5],\n",
       "       [5, 8, 5],\n",
       "       [5, 5, 9]])"
      ]
     },
     "execution_count": 94,
     "metadata": {},
     "output_type": "execute_result"
    }
   ],
   "source": [
    "max_nums = array_9[max_index]\n",
    "max_nums"
   ]
  },
  {
   "cell_type": "markdown",
   "metadata": {},
   "source": [
    "### Reading from Files"
   ]
  },
  {
   "cell_type": "code",
   "execution_count": 95,
   "metadata": {},
   "outputs": [],
   "source": [
    "import pandas as pd\n",
    "from numpy import genfromtxt"
   ]
  },
  {
   "cell_type": "code",
   "execution_count": 96,
   "metadata": {},
   "outputs": [
    {
     "data": {
      "text/html": [
       "<div>\n",
       "<style scoped>\n",
       "    .dataframe tbody tr th:only-of-type {\n",
       "        vertical-align: middle;\n",
       "    }\n",
       "\n",
       "    .dataframe tbody tr th {\n",
       "        vertical-align: top;\n",
       "    }\n",
       "\n",
       "    .dataframe thead th {\n",
       "        text-align: right;\n",
       "    }\n",
       "</style>\n",
       "<table border=\"1\" class=\"dataframe\">\n",
       "  <thead>\n",
       "    <tr style=\"text-align: right;\">\n",
       "      <th></th>\n",
       "      <th>Temperature</th>\n",
       "      <th>Sales</th>\n",
       "    </tr>\n",
       "  </thead>\n",
       "  <tbody>\n",
       "    <tr>\n",
       "      <th>0</th>\n",
       "      <td>37</td>\n",
       "      <td>292</td>\n",
       "    </tr>\n",
       "    <tr>\n",
       "      <th>1</th>\n",
       "      <td>40</td>\n",
       "      <td>228</td>\n",
       "    </tr>\n",
       "    <tr>\n",
       "      <th>2</th>\n",
       "      <td>49</td>\n",
       "      <td>324</td>\n",
       "    </tr>\n",
       "    <tr>\n",
       "      <th>3</th>\n",
       "      <td>61</td>\n",
       "      <td>376</td>\n",
       "    </tr>\n",
       "    <tr>\n",
       "      <th>4</th>\n",
       "      <td>72</td>\n",
       "      <td>440</td>\n",
       "    </tr>\n",
       "  </tbody>\n",
       "</table>\n",
       "</div>"
      ],
      "text/plain": [
       "   Temperature  Sales\n",
       "0           37    292\n",
       "1           40    228\n",
       "2           49    324\n",
       "3           61    376\n",
       "4           72    440"
      ]
     },
     "execution_count": 96,
     "metadata": {},
     "output_type": "execute_result"
    }
   ],
   "source": [
    "# load the data from the csv file into a pandas dataframe\n",
    "df_icecreamsales = pd.read_csv('icecreamsales.csv')\n",
    "df_icecreamsales.head()"
   ]
  },
  {
   "cell_type": "code",
   "execution_count": 97,
   "metadata": {},
   "outputs": [
    {
     "data": {
      "text/plain": [
       "array([[ nan,  nan],\n",
       "       [ 37., 292.],\n",
       "       [ 40., 228.],\n",
       "       [ 49., 324.],\n",
       "       [ 61., 376.],\n",
       "       [ 72., 440.],\n",
       "       [ 79., 496.],\n",
       "       [ 83., 536.],\n",
       "       [ 81., 556.],\n",
       "       [ 75., 496.],\n",
       "       [ 64., 412.],\n",
       "       [ 53., 324.],\n",
       "       [ 40., 320.]])"
      ]
     },
     "execution_count": 97,
     "metadata": {},
     "output_type": "execute_result"
    }
   ],
   "source": [
    "# load the data from the csv file into a numpy array using genfromtxt\n",
    "np_icecreamsales = genfromtxt('icecreamsales.csv', delimiter=',')\n",
    "np_icecreamsales\n"
   ]
  },
  {
   "cell_type": "code",
   "execution_count": 98,
   "metadata": {},
   "outputs": [
    {
     "data": {
      "text/plain": [
       "array([ 37., 292.,  40., 228.,  49., 324.,  61., 376.,  72., 440.,  79.,\n",
       "       496.,  83., 536.,  81., 556.,  75., 496.,  64., 412.,  53., 324.,\n",
       "        40., 320.])"
      ]
     },
     "execution_count": 98,
     "metadata": {},
     "output_type": "execute_result"
    }
   ],
   "source": [
    "# remove nan values from the array\n",
    "np_icecreamsales = np_icecreamsales[~np.isnan(np_icecreamsales)]\n",
    "np_icecreamsales"
   ]
  },
  {
   "cell_type": "code",
   "execution_count": 99,
   "metadata": {},
   "outputs": [
    {
     "data": {
      "text/plain": [
       "array([[ 37, 292],\n",
       "       [ 40, 228],\n",
       "       [ 49, 324],\n",
       "       [ 61, 376],\n",
       "       [ 72, 440],\n",
       "       [ 79, 496],\n",
       "       [ 83, 536],\n",
       "       [ 81, 556],\n",
       "       [ 75, 496],\n",
       "       [ 64, 412],\n",
       "       [ 53, 324],\n",
       "       [ 40, 320]], dtype=int64)"
      ]
     },
     "execution_count": 99,
     "metadata": {},
     "output_type": "execute_result"
    }
   ],
   "source": [
    "# convert the pandas dataframe to a numpy array\n",
    "np_icecreamsales = df_icecreamsales.to_numpy()\n",
    "np_icecreamsales"
   ]
  },
  {
   "cell_type": "markdown",
   "metadata": {},
   "source": [
    "### Statistics Functions"
   ]
  },
  {
   "cell_type": "code",
   "execution_count": 100,
   "metadata": {},
   "outputs": [
    {
     "data": {
      "text/plain": [
       "array([1, 2, 3, 4, 5])"
      ]
     },
     "execution_count": 100,
     "metadata": {},
     "output_type": "execute_result"
    }
   ],
   "source": [
    "stats_array_1 = np.arange(1,6)\n",
    "stats_array_1"
   ]
  },
  {
   "cell_type": "code",
   "execution_count": 101,
   "metadata": {},
   "outputs": [
    {
     "data": {
      "text/plain": [
       "3.0"
      ]
     },
     "execution_count": 101,
     "metadata": {},
     "output_type": "execute_result"
    }
   ],
   "source": [
    "# find the mean of stats_array_1\n",
    "np.mean(stats_array_1)"
   ]
  },
  {
   "cell_type": "code",
   "execution_count": 102,
   "metadata": {},
   "outputs": [
    {
     "data": {
      "text/plain": [
       "3.0"
      ]
     },
     "execution_count": 102,
     "metadata": {},
     "output_type": "execute_result"
    }
   ],
   "source": [
    "# find the median of stats_array_1\n",
    "np.median(stats_array_1)\n"
   ]
  },
  {
   "cell_type": "code",
   "execution_count": 103,
   "metadata": {},
   "outputs": [
    {
     "data": {
      "text/plain": [
       "1.4142135623730951"
      ]
     },
     "execution_count": 103,
     "metadata": {},
     "output_type": "execute_result"
    }
   ],
   "source": [
    "# find the standard deviation of stats_array_1\n",
    "np.std(stats_array_1)\n"
   ]
  },
  {
   "cell_type": "code",
   "execution_count": 104,
   "metadata": {},
   "outputs": [
    {
     "data": {
      "text/plain": [
       "2.0"
      ]
     },
     "execution_count": 104,
     "metadata": {},
     "output_type": "execute_result"
    }
   ],
   "source": [
    "# find the variance of stats_array_1\n",
    "np.var(stats_array_1)\n"
   ]
  },
  {
   "cell_type": "code",
   "execution_count": 105,
   "metadata": {},
   "outputs": [
    {
     "data": {
      "text/plain": [
       "3.0"
      ]
     },
     "execution_count": 105,
     "metadata": {},
     "output_type": "execute_result"
    }
   ],
   "source": [
    "# find the mean of stats_array_1, ignoring nan values\n",
    "np.nanmean(stats_array_1)\n"
   ]
  },
  {
   "cell_type": "code",
   "execution_count": 106,
   "metadata": {},
   "outputs": [
    {
     "name": "stdout",
     "output_type": "stream",
     "text": [
      "np_icecreamsales\n",
      " [[ 37 292]\n",
      " [ 40 228]\n",
      " [ 49 324]\n",
      " [ 61 376]\n",
      " [ 72 440]\n",
      " [ 79 496]\n",
      " [ 83 536]\n",
      " [ 81 556]\n",
      " [ 75 496]\n",
      " [ 64 412]\n",
      " [ 53 324]\n",
      " [ 40 320]]\n"
     ]
    },
    {
     "data": {
      "text/plain": [
       "array([ 62.5, 394. ])"
      ]
     },
     "execution_count": 106,
     "metadata": {},
     "output_type": "execute_result"
    }
   ],
   "source": [
    "print(\"np_icecreamsales\\n\", np_icecreamsales)\n",
    "\n",
    "# find the 50th percentile of np_icecreamsales for each column\n",
    "np.percentile(np_icecreamsales, 50, axis=0)"
   ]
  },
  {
   "cell_type": "code",
   "execution_count": 107,
   "metadata": {},
   "outputs": [
    {
     "data": {
      "text/plain": [
       "array([37, 40, 49, 61, 72, 79, 83, 81, 75, 64, 53, 40], dtype=int64)"
      ]
     },
     "execution_count": 107,
     "metadata": {},
     "output_type": "execute_result"
    }
   ],
   "source": [
    "# select the first column of np_icecreamsales\n",
    "np_icecreamsales[:,0]"
   ]
  },
  {
   "cell_type": "code",
   "execution_count": 108,
   "metadata": {},
   "outputs": [
    {
     "data": {
      "text/plain": [
       "array([[1.        , 0.96181329],\n",
       "       [0.96181329, 1.        ]])"
      ]
     },
     "execution_count": 108,
     "metadata": {},
     "output_type": "execute_result"
    }
   ],
   "source": [
    "# find the correlation coefficient between the first and second columns of np_icecreamsales\n",
    "np.corrcoef(np_icecreamsales[:,0], np_icecreamsales[:,1])\n"
   ]
  },
  {
   "cell_type": "code",
   "execution_count": 109,
   "metadata": {},
   "outputs": [
    {
     "data": {
      "text/plain": [
       "61.166666666666664"
      ]
     },
     "execution_count": 109,
     "metadata": {},
     "output_type": "execute_result"
    }
   ],
   "source": [
    "temp_mean = np.mean(np_icecreamsales[:,0])\n",
    "temp_mean"
   ]
  },
  {
   "cell_type": "code",
   "execution_count": 110,
   "metadata": {},
   "outputs": [
    {
     "data": {
      "text/plain": [
       "400.0"
      ]
     },
     "execution_count": 110,
     "metadata": {},
     "output_type": "execute_result"
    }
   ],
   "source": [
    "sales_mean = np.mean(np_icecreamsales[:,1])\n",
    "sales_mean\n"
   ]
  },
  {
   "cell_type": "code",
   "execution_count": 111,
   "metadata": {},
   "outputs": [
    {
     "data": {
      "text/plain": [
       "19064.0"
      ]
     },
     "execution_count": 111,
     "metadata": {},
     "output_type": "execute_result"
    }
   ],
   "source": [
    "numerator = np.sum((np_icecreamsales[:,0] - temp_mean) * (np_icecreamsales[:,1] - sales_mean))\n",
    "numerator"
   ]
  },
  {
   "cell_type": "code",
   "execution_count": 112,
   "metadata": {},
   "outputs": [
    {
     "data": {
      "text/plain": [
       "3199.666666666667"
      ]
     },
     "execution_count": 112,
     "metadata": {},
     "output_type": "execute_result"
    }
   ],
   "source": [
    "denominator = np.sum(np.square(np_icecreamsales[:,0] - temp_mean))\n",
    "denominator"
   ]
  },
  {
   "cell_type": "code",
   "execution_count": 113,
   "metadata": {},
   "outputs": [
    {
     "data": {
      "text/plain": [
       "5.958120637566412"
      ]
     },
     "execution_count": 113,
     "metadata": {},
     "output_type": "execute_result"
    }
   ],
   "source": [
    "slope = numerator / denominator\n",
    "slope"
   ]
  },
  {
   "cell_type": "code",
   "execution_count": 114,
   "metadata": {},
   "outputs": [
    {
     "data": {
      "text/plain": [
       "35.56162100218779"
      ]
     },
     "execution_count": 114,
     "metadata": {},
     "output_type": "execute_result"
    }
   ],
   "source": [
    "y_intercept = sales_mean - (slope * temp_mean)\n",
    "y_intercept"
   ]
  },
  {
   "cell_type": "code",
   "execution_count": 115,
   "metadata": {},
   "outputs": [
    {
     "data": {
      "text/plain": [
       "array([256.01208459, 273.8864465 , 327.50953224, 399.00697989,\n",
       "       464.54630691, 506.25315137, 530.08563392, 518.16939265,\n",
       "       482.42066882, 416.88134181, 351.34201479, 273.8864465 ])"
      ]
     },
     "execution_count": 115,
     "metadata": {},
     "output_type": "execute_result"
    }
   ],
   "source": [
    "regression_array = np_icecreamsales[:,0] * slope + y_intercept\n",
    "regression_array"
   ]
  },
  {
   "cell_type": "markdown",
   "metadata": {},
   "source": [
    "### Trig Functions"
   ]
  },
  {
   "cell_type": "code",
   "execution_count": 116,
   "metadata": {},
   "outputs": [
    {
     "data": {
      "text/plain": [
       "array([-3.14159265, -3.11001886, -3.07844506, -3.04687127, -3.01529747,\n",
       "       -2.98372368, -2.95214988, -2.92057608, -2.88900229, -2.85742849,\n",
       "       -2.8258547 , -2.7942809 , -2.76270711, -2.73113331, -2.69955952,\n",
       "       -2.66798572, -2.63641193, -2.60483813, -2.57326433, -2.54169054,\n",
       "       -2.51011674, -2.47854295, -2.44696915, -2.41539536, -2.38382156,\n",
       "       -2.35224777, -2.32067397, -2.28910017, -2.25752638, -2.22595258,\n",
       "       -2.19437879, -2.16280499, -2.1312312 , -2.0996574 , -2.06808361,\n",
       "       -2.03650981, -2.00493602, -1.97336222, -1.94178842, -1.91021463,\n",
       "       -1.87864083, -1.84706704, -1.81549324, -1.78391945, -1.75234565,\n",
       "       -1.72077186, -1.68919806, -1.65762426, -1.62605047, -1.59447667,\n",
       "       -1.56290288, -1.53132908, -1.49975529, -1.46818149, -1.4366077 ,\n",
       "       -1.4050339 , -1.3734601 , -1.34188631, -1.31031251, -1.27873872,\n",
       "       -1.24716492, -1.21559113, -1.18401733, -1.15244354, -1.12086974,\n",
       "       -1.08929595, -1.05772215, -1.02614835, -0.99457456, -0.96300076,\n",
       "       -0.93142697, -0.89985317, -0.86827938, -0.83670558, -0.80513179,\n",
       "       -0.77355799, -0.74198419, -0.7104104 , -0.6788366 , -0.64726281,\n",
       "       -0.61568901, -0.58411522, -0.55254142, -0.52096763, -0.48939383,\n",
       "       -0.45782003, -0.42624624, -0.39467244, -0.36309865, -0.33152485,\n",
       "       -0.29995106, -0.26837726, -0.23680347, -0.20522967, -0.17365588,\n",
       "       -0.14208208, -0.11050828, -0.07893449, -0.04736069, -0.0157869 ,\n",
       "        0.0157869 ,  0.04736069,  0.07893449,  0.11050828,  0.14208208,\n",
       "        0.17365588,  0.20522967,  0.23680347,  0.26837726,  0.29995106,\n",
       "        0.33152485,  0.36309865,  0.39467244,  0.42624624,  0.45782003,\n",
       "        0.48939383,  0.52096763,  0.55254142,  0.58411522,  0.61568901,\n",
       "        0.64726281,  0.6788366 ,  0.7104104 ,  0.74198419,  0.77355799,\n",
       "        0.80513179,  0.83670558,  0.86827938,  0.89985317,  0.93142697,\n",
       "        0.96300076,  0.99457456,  1.02614835,  1.05772215,  1.08929595,\n",
       "        1.12086974,  1.15244354,  1.18401733,  1.21559113,  1.24716492,\n",
       "        1.27873872,  1.31031251,  1.34188631,  1.3734601 ,  1.4050339 ,\n",
       "        1.4366077 ,  1.46818149,  1.49975529,  1.53132908,  1.56290288,\n",
       "        1.59447667,  1.62605047,  1.65762426,  1.68919806,  1.72077186,\n",
       "        1.75234565,  1.78391945,  1.81549324,  1.84706704,  1.87864083,\n",
       "        1.91021463,  1.94178842,  1.97336222,  2.00493602,  2.03650981,\n",
       "        2.06808361,  2.0996574 ,  2.1312312 ,  2.16280499,  2.19437879,\n",
       "        2.22595258,  2.25752638,  2.28910017,  2.32067397,  2.35224777,\n",
       "        2.38382156,  2.41539536,  2.44696915,  2.47854295,  2.51011674,\n",
       "        2.54169054,  2.57326433,  2.60483813,  2.63641193,  2.66798572,\n",
       "        2.69955952,  2.73113331,  2.76270711,  2.7942809 ,  2.8258547 ,\n",
       "        2.85742849,  2.88900229,  2.92057608,  2.95214988,  2.98372368,\n",
       "        3.01529747,  3.04687127,  3.07844506,  3.11001886,  3.14159265])"
      ]
     },
     "execution_count": 116,
     "metadata": {},
     "output_type": "execute_result"
    }
   ],
   "source": [
    "trig_array_1 = np.linspace(-np.pi, np.pi, 200)\n",
    "trig_array_1"
   ]
  },
  {
   "cell_type": "code",
   "execution_count": 117,
   "metadata": {},
   "outputs": [
    {
     "data": {
      "text/plain": [
       "[<matplotlib.lines.Line2D at 0x159079b4c70>]"
      ]
     },
     "execution_count": 117,
     "metadata": {},
     "output_type": "execute_result"
    },
    {
     "data": {
      "image/png": "[encoded data removed]",
      "text/plain": [
       "<Figure size 640x480 with 1 Axes>"
      ]
     },
     "metadata": {},
     "output_type": "display_data"
    }
   ],
   "source": [
    "# plot the sine of trig_array_1\n",
    "plt.plot(trig_array_1, np.sin(trig_array_1))"
   ]
  },
  {
   "cell_type": "code",
   "execution_count": 118,
   "metadata": {},
   "outputs": [
    {
     "data": {
      "text/plain": [
       "[<matplotlib.lines.Line2D at 0x159079fcbe0>]"
      ]
     },
     "execution_count": 118,
     "metadata": {},
     "output_type": "execute_result"
    },
    {
     "data": {
      "image/png": "[encoded data removed]",
      "text/plain": [
       "<Figure size 640x480 with 1 Axes>"
      ]
     },
     "metadata": {},
     "output_type": "display_data"
    }
   ],
   "source": [
    "# plot the cosine of trig_array_1\n",
    "plt.plot(trig_array_1, np.cos(trig_array_1))\n"
   ]
  },
  {
   "cell_type": "code",
   "execution_count": 119,
   "metadata": {},
   "outputs": [
    {
     "data": {
      "text/plain": [
       "[<matplotlib.lines.Line2D at 0x15907a758b0>]"
      ]
     },
     "execution_count": 119,
     "metadata": {},
     "output_type": "execute_result"
    },
    {
     "data": {
      "image/png": "[encoded data removed]",
      "text/plain": [
       "<Figure size 640x480 with 1 Axes>"
      ]
     },
     "metadata": {},
     "output_type": "display_data"
    }
   ],
   "source": [
    "# plot the tangent of trig_array_1\n",
    "plt.plot(trig_array_1, np.tan(trig_array_1))"
   ]
  },
  {
   "cell_type": "code",
   "execution_count": 120,
   "metadata": {},
   "outputs": [
    {
     "name": "stderr",
     "output_type": "stream",
     "text": [
      "C:\\Users\\sethj\\AppData\\Local\\Temp\\ipykernel_19760\\1578488986.py:2: RuntimeWarning: invalid value encountered in arcsin\n",
      "  plt.plot(trig_array_1, np.arcsin(trig_array_1))\n"
     ]
    },
    {
     "data": {
      "text/plain": [
       "[<matplotlib.lines.Line2D at 0x15907ad97c0>]"
      ]
     },
     "execution_count": 120,
     "metadata": {},
     "output_type": "execute_result"
    },
    {
     "data": {
      "image/png": "[encoded data removed]",
      "text/plain": [
       "<Figure size 640x480 with 1 Axes>"
      ]
     },
     "metadata": {},
     "output_type": "display_data"
    }
   ],
   "source": [
    "# plot the arcsine of trig_array_1\n",
    "plt.plot(trig_array_1, np.arcsin(trig_array_1))"
   ]
  },
  {
   "cell_type": "code",
   "execution_count": 121,
   "metadata": {},
   "outputs": [
    {
     "data": {
      "text/plain": [
       "array([-180.        , -178.19095477, -176.38190955, -174.57286432,\n",
       "       -172.7638191 , -170.95477387, -169.14572864, -167.33668342,\n",
       "       -165.52763819, -163.71859296, -161.90954774, -160.10050251,\n",
       "       -158.29145729, -156.48241206, -154.67336683, -152.86432161,\n",
       "       -151.05527638, -149.24623116, -147.43718593, -145.6281407 ,\n",
       "       -143.81909548, -142.01005025, -140.20100503, -138.3919598 ,\n",
       "       -136.58291457, -134.77386935, -132.96482412, -131.15577889,\n",
       "       -129.34673367, -127.53768844, -125.72864322, -123.91959799,\n",
       "       -122.11055276, -120.30150754, -118.49246231, -116.68341709,\n",
       "       -114.87437186, -113.06532663, -111.25628141, -109.44723618,\n",
       "       -107.63819095, -105.82914573, -104.0201005 , -102.21105528,\n",
       "       -100.40201005,  -98.59296482,  -96.7839196 ,  -94.97487437,\n",
       "        -93.16582915,  -91.35678392,  -89.54773869,  -87.73869347,\n",
       "        -85.92964824,  -84.12060302,  -82.31155779,  -80.50251256,\n",
       "        -78.69346734,  -76.88442211,  -75.07537688,  -73.26633166,\n",
       "        -71.45728643,  -69.64824121,  -67.83919598,  -66.03015075,\n",
       "        -64.22110553,  -62.4120603 ,  -60.60301508,  -58.79396985,\n",
       "        -56.98492462,  -55.1758794 ,  -53.36683417,  -51.55778894,\n",
       "        -49.74874372,  -47.93969849,  -46.13065327,  -44.32160804,\n",
       "        -42.51256281,  -40.70351759,  -38.89447236,  -37.08542714,\n",
       "        -35.27638191,  -33.46733668,  -31.65829146,  -29.84924623,\n",
       "        -28.04020101,  -26.23115578,  -24.42211055,  -22.61306533,\n",
       "        -20.8040201 ,  -18.99497487,  -17.18592965,  -15.37688442,\n",
       "        -13.5678392 ,  -11.75879397,   -9.94974874,   -8.14070352,\n",
       "         -6.33165829,   -4.52261307,   -2.71356784,   -0.90452261,\n",
       "          0.90452261,    2.71356784,    4.52261307,    6.33165829,\n",
       "          8.14070352,    9.94974874,   11.75879397,   13.5678392 ,\n",
       "         15.37688442,   17.18592965,   18.99497487,   20.8040201 ,\n",
       "         22.61306533,   24.42211055,   26.23115578,   28.04020101,\n",
       "         29.84924623,   31.65829146,   33.46733668,   35.27638191,\n",
       "         37.08542714,   38.89447236,   40.70351759,   42.51256281,\n",
       "         44.32160804,   46.13065327,   47.93969849,   49.74874372,\n",
       "         51.55778894,   53.36683417,   55.1758794 ,   56.98492462,\n",
       "         58.79396985,   60.60301508,   62.4120603 ,   64.22110553,\n",
       "         66.03015075,   67.83919598,   69.64824121,   71.45728643,\n",
       "         73.26633166,   75.07537688,   76.88442211,   78.69346734,\n",
       "         80.50251256,   82.31155779,   84.12060302,   85.92964824,\n",
       "         87.73869347,   89.54773869,   91.35678392,   93.16582915,\n",
       "         94.97487437,   96.7839196 ,   98.59296482,  100.40201005,\n",
       "        102.21105528,  104.0201005 ,  105.82914573,  107.63819095,\n",
       "        109.44723618,  111.25628141,  113.06532663,  114.87437186,\n",
       "        116.68341709,  118.49246231,  120.30150754,  122.11055276,\n",
       "        123.91959799,  125.72864322,  127.53768844,  129.34673367,\n",
       "        131.15577889,  132.96482412,  134.77386935,  136.58291457,\n",
       "        138.3919598 ,  140.20100503,  142.01005025,  143.81909548,\n",
       "        145.6281407 ,  147.43718593,  149.24623116,  151.05527638,\n",
       "        152.86432161,  154.67336683,  156.48241206,  158.29145729,\n",
       "        160.10050251,  161.90954774,  163.71859296,  165.52763819,\n",
       "        167.33668342,  169.14572864,  170.95477387,  172.7638191 ,\n",
       "        174.57286432,  176.38190955,  178.19095477,  180.        ])"
      ]
     },
     "execution_count": 121,
     "metadata": {},
     "output_type": "execute_result"
    }
   ],
   "source": [
    "# convert the radians in trig_array_1 to degrees\n",
    "np.degrees(trig_array_1)"
   ]
  },
  {
   "cell_type": "code",
   "execution_count": 122,
   "metadata": {},
   "outputs": [
    {
     "data": {
      "text/plain": [
       "17.204650534085253"
      ]
     },
     "execution_count": 122,
     "metadata": {},
     "output_type": "execute_result"
    }
   ],
   "source": [
    "# calculate the hypothenuse of a right triangle with sides of 10 and 14\n",
    "np.hypot(10,14)\n"
   ]
  },
  {
   "cell_type": "markdown",
   "metadata": {},
   "source": [
    "### Linear Algebra\n",
    "left off at: https://youtu.be/8Y0qQEh7dJg?t=2604"
   ]
  },
  {
   "cell_type": "code",
   "execution_count": 123,
   "metadata": {},
   "outputs": [],
   "source": [
    "from numpy import linalg as LA"
   ]
  },
  {
   "cell_type": "code",
   "execution_count": 124,
   "metadata": {},
   "outputs": [
    {
     "data": {
      "text/plain": [
       "array([[1, 2],\n",
       "       [3, 4]])"
      ]
     },
     "execution_count": 124,
     "metadata": {},
     "output_type": "execute_result"
    }
   ],
   "source": [
    "la_array_1 = np.array([[1,2],[3,4]])\n",
    "la_array_1"
   ]
  },
  {
   "cell_type": "code",
   "execution_count": 125,
   "metadata": {},
   "outputs": [
    {
     "data": {
      "text/plain": [
       "array([[2, 4],\n",
       "       [6, 8]])"
      ]
     },
     "execution_count": 125,
     "metadata": {},
     "output_type": "execute_result"
    }
   ],
   "source": [
    "la_array_2 = np.array([[2,4],[6,8]])\n",
    "la_array_2"
   ]
  },
  {
   "cell_type": "code",
   "execution_count": 126,
   "metadata": {},
   "outputs": [
    {
     "data": {
      "text/plain": [
       "array([[5, 6],\n",
       "       [7, 8]])"
      ]
     },
     "execution_count": 126,
     "metadata": {},
     "output_type": "execute_result"
    }
   ],
   "source": [
    "la_array_3 = np.array([[5,6],[7,8]])\n",
    "la_array_3"
   ]
  },
  {
   "cell_type": "code",
   "execution_count": 127,
   "metadata": {},
   "outputs": [
    {
     "name": "stdout",
     "output_type": "stream",
     "text": [
      "la_array_1\n",
      " [[1 2]\n",
      " [3 4]]\n",
      "la_array_2\n",
      " [[2 4]\n",
      " [6 8]]\n"
     ]
    },
    {
     "data": {
      "text/plain": [
       "array([[14, 20],\n",
       "       [30, 44]])"
      ]
     },
     "execution_count": 127,
     "metadata": {},
     "output_type": "execute_result"
    }
   ],
   "source": [
    "print(\"la_array_1\\n\", la_array_1)\n",
    "print(\"la_array_2\\n\", la_array_2)\n",
    "\n",
    "# find the dot product of la_array_1 and la_array_2\n",
    "np.dot(la_array_1, la_array_2)\n"
   ]
  },
  {
   "cell_type": "code",
   "execution_count": 128,
   "metadata": {},
   "outputs": [
    {
     "name": "stdout",
     "output_type": "stream",
     "text": [
      "la_array_1\n",
      " [[1 2]\n",
      " [3 4]]\n",
      "la_array_2\n",
      " [[2 4]\n",
      " [6 8]]\n",
      "la_array_3\n",
      " [[5 6]\n",
      " [7 8]]\n"
     ]
    },
    {
     "data": {
      "text/plain": [
       "array([[210, 244],\n",
       "       [458, 532]])"
      ]
     },
     "execution_count": 128,
     "metadata": {},
     "output_type": "execute_result"
    }
   ],
   "source": [
    "print(\"la_array_1\\n\", la_array_1)\n",
    "print(\"la_array_2\\n\", la_array_2)\n",
    "print(\"la_array_3\\n\", la_array_3)\n",
    "\n",
    "# find the dot product of la_array_1, la_array_2, and la_array_3\n",
    "LA.multi_dot([la_array_1, la_array_2, la_array_3])\n"
   ]
  },
  {
   "cell_type": "code",
   "execution_count": 129,
   "metadata": {},
   "outputs": [
    {
     "name": "stdout",
     "output_type": "stream",
     "text": [
      "la_array_1\n",
      " [[1 2]\n",
      " [3 4]]\n",
      "la_array_2\n",
      " [[2 4]\n",
      " [6 8]]\n"
     ]
    },
    {
     "data": {
      "text/plain": [
       "array([[10, 22],\n",
       "       [22, 50]])"
      ]
     },
     "execution_count": 129,
     "metadata": {},
     "output_type": "execute_result"
    }
   ],
   "source": [
    "print(\"la_array_1\\n\", la_array_1)\n",
    "print(\"la_array_2\\n\", la_array_2)\n",
    "\n",
    "# find the inner product of la_array_1 and la_array_2\n",
    "np.inner(la_array_1, la_array_2)\n"
   ]
  },
  {
   "cell_type": "code",
   "execution_count": 130,
   "metadata": {},
   "outputs": [
    {
     "data": {
      "text/plain": [
       "array([[[1, 2],\n",
       "        [3, 4]],\n",
       "\n",
       "       [[5, 6],\n",
       "        [7, 8]]])"
      ]
     },
     "execution_count": 130,
     "metadata": {},
     "output_type": "execute_result"
    }
   ],
   "source": [
    "la_array_4 = np.array([[[1,2],[3,4]],[[5,6],[7,8]]])\n",
    "la_array_4"
   ]
  },
  {
   "cell_type": "code",
   "execution_count": 131,
   "metadata": {},
   "outputs": [
    {
     "data": {
      "text/plain": [
       "array([[1, 2],\n",
       "       [3, 4]], dtype=object)"
      ]
     },
     "execution_count": 131,
     "metadata": {},
     "output_type": "execute_result"
    }
   ],
   "source": [
    "la_array_5 = np.array([[1,2],[3,4]], dtype=object)\n",
    "la_array_5\n"
   ]
  },
  {
   "cell_type": "code",
   "execution_count": 132,
   "metadata": {},
   "outputs": [
    {
     "data": {
      "text/plain": [
       "array([30, 70], dtype=object)"
      ]
     },
     "execution_count": 132,
     "metadata": {},
     "output_type": "execute_result"
    }
   ],
   "source": [
    "# find the tensor product of la_array_4 and la_array_5\n",
    "np.tensordot(la_array_4, la_array_5)\n"
   ]
  },
  {
   "cell_type": "code",
   "execution_count": 133,
   "metadata": {},
   "outputs": [
    {
     "data": {
      "text/plain": [
       "array([0, 1])"
      ]
     },
     "execution_count": 133,
     "metadata": {},
     "output_type": "execute_result"
    }
   ],
   "source": [
    "la_array_6 = np.array([0,1])\n",
    "la_array_6"
   ]
  },
  {
   "cell_type": "code",
   "execution_count": 134,
   "metadata": {},
   "outputs": [
    {
     "data": {
      "text/plain": [
       "array([[0, 1, 2, 3],\n",
       "       [4, 5, 6, 7]])"
      ]
     },
     "execution_count": 134,
     "metadata": {},
     "output_type": "execute_result"
    }
   ],
   "source": [
    "la_array_7 = np.array([[0,1,2,3],[4,5,6,7]])\n",
    "la_array_7"
   ]
  },
  {
   "cell_type": "code",
   "execution_count": 135,
   "metadata": {},
   "outputs": [
    {
     "name": "stdout",
     "output_type": "stream",
     "text": [
      "la_array_6\n",
      " [0 1]\n",
      "la_array_7\n",
      " [[0 1 2 3]\n",
      " [4 5 6 7]]\n"
     ]
    },
    {
     "data": {
      "text/plain": [
       "array([ 0, 22])"
      ]
     },
     "execution_count": 135,
     "metadata": {},
     "output_type": "execute_result"
    }
   ],
   "source": [
    "print(\"la_array_6\\n\", la_array_6)\n",
    "print(\"la_array_7\\n\", la_array_7)\n",
    "\n",
    "# find the einstein summation of la_array_6 and la_array_7\n",
    "np.einsum('i,ij->i', la_array_6, la_array_7)"
   ]
  },
  {
   "cell_type": "code",
   "execution_count": 136,
   "metadata": {},
   "outputs": [
    {
     "name": "stdout",
     "output_type": "stream",
     "text": [
      "la_array_5\n",
      " [[1 2]\n",
      " [3 4]]\n"
     ]
    },
    {
     "data": {
      "text/plain": [
       "array([[37, 54],\n",
       "       [81, 118]], dtype=object)"
      ]
     },
     "execution_count": 136,
     "metadata": {},
     "output_type": "execute_result"
    }
   ],
   "source": [
    "print(\"la_array_5\\n\", la_array_5)\n",
    "\n",
    "# raise la_array_5 to the power of 3\n",
    "LA.matrix_power(la_array_5, 3)"
   ]
  },
  {
   "cell_type": "code",
   "execution_count": 137,
   "metadata": {},
   "outputs": [
    {
     "name": "stdout",
     "output_type": "stream",
     "text": [
      "la_array_5\n",
      " [[1 2]\n",
      " [3 4]]\n",
      "la_array_6\n",
      " [0 1]\n"
     ]
    },
    {
     "data": {
      "text/plain": [
       "array([[0, 1, 0, 2],\n",
       "       [0, 3, 0, 4]], dtype=object)"
      ]
     },
     "execution_count": 137,
     "metadata": {},
     "output_type": "execute_result"
    }
   ],
   "source": [
    "print(\"la_array_5\\n\", la_array_5)\n",
    "print(\"la_array_6\\n\", la_array_6)\n",
    "\n",
    "# find the kronecker product of la_array_5 and la_array_6\n",
    "np.kron(la_array_5, la_array_6)"
   ]
  },
  {
   "cell_type": "code",
   "execution_count": 138,
   "metadata": {},
   "outputs": [
    {
     "name": "stdout",
     "output_type": "stream",
     "text": [
      "la_array_4\n",
      " [[[1 2]\n",
      "  [3 4]]\n",
      "\n",
      " [[5 6]\n",
      "  [7 8]]]\n"
     ]
    },
    {
     "data": {
      "text/plain": [
       "array([[-0.37228132,  5.37228132],\n",
       "       [-0.15206735, 13.15206735]])"
      ]
     },
     "execution_count": 138,
     "metadata": {},
     "output_type": "execute_result"
    }
   ],
   "source": [
    "print(\"la_array_4\\n\", la_array_4)\n",
    "\n",
    "# find the eigenvalues la_array_4\n",
    "LA.eigvals(la_array_4)\n"
   ]
  },
  {
   "cell_type": "code",
   "execution_count": 139,
   "metadata": {},
   "outputs": [
    {
     "name": "stdout",
     "output_type": "stream",
     "text": [
      "la_array_4\n",
      " [[[1 2]\n",
      "  [3 4]]\n",
      "\n",
      " [[5 6]\n",
      "  [7 8]]]\n"
     ]
    },
    {
     "data": {
      "text/plain": [
       "(array([[-0.37228132,  5.37228132],\n",
       "        [-0.15206735, 13.15206735]]),\n",
       " array([[[-0.82456484, -0.41597356],\n",
       "         [ 0.56576746, -0.90937671]],\n",
       " \n",
       "        [[-0.75868086, -0.59276441],\n",
       "         [ 0.65146248, -0.80537591]]]))"
      ]
     },
     "execution_count": 139,
     "metadata": {},
     "output_type": "execute_result"
    }
   ],
   "source": [
    "print(\"la_array_4\\n\", la_array_4)\n",
    "\n",
    "# find the eigenvectors la_array_4\n",
    "LA.eig(la_array_4)"
   ]
  },
  {
   "cell_type": "code",
   "execution_count": 140,
   "metadata": {},
   "outputs": [
    {
     "name": "stdout",
     "output_type": "stream",
     "text": [
      "la_array_4\n",
      " [[[1 2]\n",
      "  [3 4]]\n",
      "\n",
      " [[5 6]\n",
      "  [7 8]]]\n"
     ]
    },
    {
     "data": {
      "text/plain": [
       "14.2828568570857"
      ]
     },
     "execution_count": 140,
     "metadata": {},
     "output_type": "execute_result"
    }
   ],
   "source": [
    "print(\"la_array_4\\n\", la_array_4)\n",
    "\n",
    "# find the Vector Norm of la_array_4\n",
    "LA.norm(la_array_4)"
   ]
  },
  {
   "cell_type": "code",
   "execution_count": 141,
   "metadata": {},
   "outputs": [
    {
     "name": "stdout",
     "output_type": "stream",
     "text": [
      "la_array_4\n",
      " [[[1 2]\n",
      "  [3 4]]\n",
      "\n",
      " [[5 6]\n",
      "  [7 8]]]\n"
     ]
    },
    {
     "data": {
      "text/plain": [
       "array([-2., -2.])"
      ]
     },
     "execution_count": 141,
     "metadata": {},
     "output_type": "execute_result"
    }
   ],
   "source": [
    "print(\"la_array_4\\n\", la_array_4)\n",
    "\n",
    "# find the determinant of la_array_4\n",
    "LA.det(la_array_4)"
   ]
  },
  {
   "cell_type": "code",
   "execution_count": 142,
   "metadata": {},
   "outputs": [
    {
     "name": "stdout",
     "output_type": "stream",
     "text": [
      "la_array_4\n",
      " [[[1 2]\n",
      "  [3 4]]\n",
      "\n",
      " [[5 6]\n",
      "  [7 8]]]\n"
     ]
    },
    {
     "data": {
      "text/plain": [
       "array([[[-2. ,  1. ],\n",
       "        [ 1.5, -0.5]],\n",
       "\n",
       "       [[-4. ,  3. ],\n",
       "        [ 3.5, -2.5]]])"
      ]
     },
     "execution_count": 142,
     "metadata": {},
     "output_type": "execute_result"
    }
   ],
   "source": [
    "print(\"la_array_4\\n\", la_array_4)\n",
    "\n",
    "# find the multiplicative inverse of la_array_4\n",
    "LA.inv(la_array_4)"
   ]
  },
  {
   "cell_type": "code",
   "execution_count": 143,
   "metadata": {},
   "outputs": [
    {
     "name": "stdout",
     "output_type": "stream",
     "text": [
      "la_array_4\n",
      " [[[1 2]\n",
      "  [3 4]]\n",
      "\n",
      " [[5 6]\n",
      "  [7 8]]]\n"
     ]
    },
    {
     "data": {
      "text/plain": [
       "array([14.93303437, 86.98850423])"
      ]
     },
     "execution_count": 143,
     "metadata": {},
     "output_type": "execute_result"
    }
   ],
   "source": [
    "print(\"la_array_4\\n\", la_array_4)\n",
    "\n",
    "# find the condition number of la_array_4\n",
    "LA.cond(la_array_4)\n"
   ]
  },
  {
   "cell_type": "code",
   "execution_count": 144,
   "metadata": {},
   "outputs": [
    {
     "data": {
      "text/plain": [
       "array([[ 1,  4],\n",
       "       [ 6, 18]])"
      ]
     },
     "execution_count": 144,
     "metadata": {},
     "output_type": "execute_result"
    }
   ],
   "source": [
    "la_array_7 = np.array([[1,4], [6,18]])\n",
    "la_array_7"
   ]
  },
  {
   "cell_type": "code",
   "execution_count": 145,
   "metadata": {},
   "outputs": [
    {
     "data": {
      "text/plain": [
       "array([10, 42])"
      ]
     },
     "execution_count": 145,
     "metadata": {},
     "output_type": "execute_result"
    }
   ],
   "source": [
    "la_array_8 = np.array([10,42])\n",
    "la_array_8"
   ]
  },
  {
   "cell_type": "code",
   "execution_count": 146,
   "metadata": {},
   "outputs": [
    {
     "data": {
      "text/plain": [
       "array([-2.,  3.])"
      ]
     },
     "execution_count": 146,
     "metadata": {},
     "output_type": "execute_result"
    }
   ],
   "source": [
    "# solve the system of equations represented by la_array_7 and la_array_8\n",
    "LA.solve(la_array_7, la_array_8)\n"
   ]
  },
  {
   "cell_type": "code",
   "execution_count": 147,
   "metadata": {},
   "outputs": [
    {
     "data": {
      "text/plain": [
       "array([[1, 0],\n",
       "       [0, 1]])"
      ]
     },
     "execution_count": 147,
     "metadata": {},
     "output_type": "execute_result"
    }
   ],
   "source": [
    "# create an identity matrix of size 2x2, type int\n",
    "np.identity(2, dtype=int)\n"
   ]
  },
  {
   "cell_type": "markdown",
   "metadata": {},
   "source": [
    "### Saving and Loading NumPy Objects"
   ]
  },
  {
   "cell_type": "code",
   "execution_count": 148,
   "metadata": {},
   "outputs": [
    {
     "data": {
      "text/plain": [
       "array([[1, 2],\n",
       "       [3, 4]])"
      ]
     },
     "execution_count": 148,
     "metadata": {},
     "output_type": "execute_result"
    }
   ],
   "source": [
    "io_array_1 = np.array([[1,2],[3,4]])\n",
    "io_array_1"
   ]
  },
  {
   "cell_type": "code",
   "execution_count": 149,
   "metadata": {},
   "outputs": [],
   "source": [
    "# save io_array_1 to a file named io_array_1.npy\n",
    "np.save('io_array_1.npy', io_array_1)\n"
   ]
  },
  {
   "cell_type": "code",
   "execution_count": 150,
   "metadata": {},
   "outputs": [
    {
     "data": {
      "text/plain": [
       "array([[1, 2],\n",
       "       [3, 4]])"
      ]
     },
     "execution_count": 150,
     "metadata": {},
     "output_type": "execute_result"
    }
   ],
   "source": [
    "# load the saved file io_array_1.npy into io_array_2\n",
    "io_array_2 = np.load('io_array_1.npy')\n",
    "io_array_2"
   ]
  },
  {
   "cell_type": "code",
   "execution_count": 151,
   "metadata": {},
   "outputs": [],
   "source": [
    "# save io_array_1 to a comma separated file named io_array_1.csv\n",
    "np.savetxt('io_array_1.csv', io_array_1, delimiter=',')"
   ]
  },
  {
   "cell_type": "code",
   "execution_count": 152,
   "metadata": {},
   "outputs": [
    {
     "data": {
      "text/plain": [
       "array([[1, 2],\n",
       "       [3, 4]])"
      ]
     },
     "execution_count": 152,
     "metadata": {},
     "output_type": "execute_result"
    }
   ],
   "source": [
    "# load the saved file io_array_1.csv into io_array_3 with type int\n",
    "io_array_3 = np.loadtxt('io_array_1.csv', delimiter=',', dtype=int)\n",
    "io_array_3"
   ]
  },
  {
   "cell_type": "markdown",
   "metadata": {},
   "source": [
    "### Financial Functions"
   ]
  },
  {
   "cell_type": "code",
   "execution_count": 153,
   "metadata": {},
   "outputs": [],
   "source": [
    "import numpy_financial as npf\n"
   ]
  },
  {
   "cell_type": "code",
   "execution_count": 154,
   "metadata": {},
   "outputs": [
    {
     "data": {
      "text/plain": [
       "74066.27016650053"
      ]
     },
     "execution_count": 154,
     "metadata": {},
     "output_type": "execute_result"
    }
   ],
   "source": [
    "# compute the future value of an investment of $400 every month with an anual interest rate of 8% for 10 years\n",
    "npf.fv(0.08/12, 10*12, -400, -400)"
   ]
  },
  {
   "cell_type": "code",
   "execution_count": 155,
   "metadata": {},
   "outputs": [
    {
     "data": {
      "text/plain": [
       "array([-23.125     , -21.27825789, -19.41728047, -17.54195802,\n",
       "       -15.65217996, -13.74783486, -11.82881043,  -9.89499353,\n",
       "        -7.94627011,  -5.98252529,  -4.00364327,  -2.00950737])"
      ]
     },
     "execution_count": 155,
     "metadata": {},
     "output_type": "execute_result"
    }
   ],
   "source": [
    "period = np.arange(1*12) + 1\n",
    "principle = 3000.00\n",
    "\n",
    "# compute the amount paid in interest for a loan of $3000 with an anual interest rate of 9.25% for 1 year\n",
    "ipmt = npf.ipmt(0.0925/12, period, 1*12, principle)\n",
    "ipmt"
   ]
  },
  {
   "cell_type": "code",
   "execution_count": 156,
   "metadata": {},
   "outputs": [
    {
     "data": {
      "text/plain": [
       "array([-239.5773551 , -241.42409721, -243.28507463, -245.16039708,\n",
       "       -247.05017514, -248.95452024, -250.87354467, -252.80736157,\n",
       "       -254.75608499, -256.71982981, -258.69871183, -260.69284773])"
      ]
     },
     "execution_count": 156,
     "metadata": {},
     "output_type": "execute_result"
    }
   ],
   "source": [
    "# compute the amount paid in principal for a loan of $3000 with an anual interest rate of 9.25% for 1 year\n",
    "ppmt = npf.ppmt(0.0925/12, period, 1*12, principle)\n",
    "ppmt"
   ]
  },
  {
   "cell_type": "code",
   "execution_count": 157,
   "metadata": {},
   "outputs": [
    {
     "name": "stdout",
     "output_type": "stream",
     "text": [
      " 1   -239.58   -23.12  2760.42\n",
      " 2   -241.42   -21.28  2519.00\n",
      " 3   -243.29   -19.42  2275.71\n",
      " 4   -245.16   -17.54  2030.55\n",
      " 5   -247.05   -15.65  1783.50\n",
      " 6   -248.95   -13.75  1534.55\n",
      " 7   -250.87   -11.83  1283.67\n",
      " 8   -252.81    -9.89  1030.87\n",
      " 9   -254.76    -7.95   776.11\n",
      "10   -256.72    -5.98   519.39\n",
      "11   -258.70    -4.00   260.69\n",
      "12   -260.69    -2.01     0.00\n"
     ]
    }
   ],
   "source": [
    "for payment in period:\n",
    "    index = payment - 1\n",
    "    principle = principle + ppmt[index]\n",
    "    print(f\"{payment:2d}  {ppmt[index]:8.2f} {ipmt[index]:8.2f} {principle:8.2f}\")"
   ]
  },
  {
   "cell_type": "code",
   "execution_count": 159,
   "metadata": {},
   "outputs": [
    {
     "data": {
      "text/plain": [
       "array(21.80463994)"
      ]
     },
     "execution_count": 159,
     "metadata": {},
     "output_type": "execute_result"
    }
   ],
   "source": [
    "# how many payments are required to pay off a loan of $3000 with an anual interest rate of 9.25% if the monthly payment is $150\n",
    "npf.nper(0.0925/12, -150, 3000)\n"
   ]
  },
  {
   "cell_type": "markdown",
   "metadata": {},
   "source": [
    "### Comparison Functions\n"
   ]
  },
  {
   "cell_type": "code",
   "execution_count": 160,
   "metadata": {},
   "outputs": [
    {
     "data": {
      "text/plain": [
       "array([2, 3])"
      ]
     },
     "execution_count": 160,
     "metadata": {},
     "output_type": "execute_result"
    }
   ],
   "source": [
    "comp_array_1 = np.array([2,3])\n",
    "comp_array_1\n"
   ]
  },
  {
   "cell_type": "code",
   "execution_count": 161,
   "metadata": {},
   "outputs": [
    {
     "data": {
      "text/plain": [
       "array([3, 2])"
      ]
     },
     "execution_count": 161,
     "metadata": {},
     "output_type": "execute_result"
    }
   ],
   "source": [
    "comp_array_2 = np.array([3,2])\n",
    "comp_array_2"
   ]
  },
  {
   "cell_type": "code",
   "execution_count": 162,
   "metadata": {},
   "outputs": [
    {
     "data": {
      "text/plain": [
       "array([False,  True])"
      ]
     },
     "execution_count": 162,
     "metadata": {},
     "output_type": "execute_result"
    }
   ],
   "source": [
    "# is comp_array_1 greater than comp_array_2\n",
    "np.greater(comp_array_1, comp_array_2)"
   ]
  },
  {
   "cell_type": "code",
   "execution_count": 163,
   "metadata": {},
   "outputs": [
    {
     "data": {
      "text/plain": [
       "array([ True, False])"
      ]
     },
     "execution_count": 163,
     "metadata": {},
     "output_type": "execute_result"
    }
   ],
   "source": [
    "# is comp_array_1 less than comp_array_2\n",
    "np.less(comp_array_1, comp_array_2)"
   ]
  },
  {
   "cell_type": "code",
   "execution_count": 164,
   "metadata": {},
   "outputs": [
    {
     "data": {
      "text/plain": [
       "array([False,  True])"
      ]
     },
     "execution_count": 164,
     "metadata": {},
     "output_type": "execute_result"
    }
   ],
   "source": [
    "# is comp_array_1 greater than or equal to comp_array_2\n",
    "np.greater_equal(comp_array_1, comp_array_2)\n"
   ]
  },
  {
   "cell_type": "code",
   "execution_count": 165,
   "metadata": {},
   "outputs": [
    {
     "data": {
      "text/plain": [
       "array([ True, False])"
      ]
     },
     "execution_count": 165,
     "metadata": {},
     "output_type": "execute_result"
    }
   ],
   "source": [
    "# is comp_array_1 less than or equal to comp_array_2\n",
    "np.less_equal(comp_array_1, comp_array_2)"
   ]
  },
  {
   "cell_type": "code",
   "execution_count": 166,
   "metadata": {},
   "outputs": [
    {
     "data": {
      "text/plain": [
       "array([False, False])"
      ]
     },
     "execution_count": 166,
     "metadata": {},
     "output_type": "execute_result"
    }
   ],
   "source": [
    "# is comp_array_1 equal to comp_array_2\n",
    "np.equal(comp_array_1, comp_array_2)"
   ]
  },
  {
   "cell_type": "code",
   "execution_count": 167,
   "metadata": {},
   "outputs": [
    {
     "data": {
      "text/plain": [
       "array([ True,  True])"
      ]
     },
     "execution_count": 167,
     "metadata": {},
     "output_type": "execute_result"
    }
   ],
   "source": [
    "# is comp_array_1 not equal to comp_array_2\n",
    "np.not_equal(comp_array_1, comp_array_2)\n"
   ]
  },
  {
   "cell_type": "code",
   "execution_count": null,
   "metadata": {},
   "outputs": [],
   "source": []
  }
 ],
 "metadata": {
  "kernelspec": {
   "display_name": "Python 3.9.13 ('env_math')",
   "language": "python",
   "name": "python3"
  },
  "language_info": {
   "codemirror_mode": {
    "name": "ipython",
    "version": 3
   },
   "file_extension": ".py",
   "mimetype": "text/x-python",
   "name": "python",
   "nbconvert_exporter": "python",
   "pygments_lexer": "ipython3",
   "version": "3.9.13"
  },
  "orig_nbformat": 4,
  "vscode": {
   "interpreter": {
    "hash": "70342811ac5db431cd7b4e4c0c6a98594dffe684828b1559756a0d79c8514187"
   }
  }
 },
 "nbformat": 4,
 "nbformat_minor": 2
}
